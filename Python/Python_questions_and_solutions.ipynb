{
 "cells": [
  {
   "cell_type": "markdown",
   "id": "be3f93c5-ca3a-4bdf-8644-bf96fec38eff",
   "metadata": {},
   "source": [
    "Kolay Seviye Sorular\n",
    "1. Temel Matematik İşlemleri: Kullanıcıdan iki sayı alarak bu sayıların toplamını, farkını, çarpımını ve bölümünü hesaplayan bir program yazın.\n",
    "2. String İşlemleri: Verilen bir string’in tersini döndüren bir fonksiyon yazın.\n",
    "3. Koşullu İfadeler: Kullanıcıdan bir sayı alarak bu sayının pozitif, negatif veya sıfır olup olmadığını kontrol eden bir program yazın.\n",
    "4. Listeye Eleman Ekleme: Kullanıcıdan üç isim alarak bir listeye ekleyin ve listeyi ekrana yazdırın.\n",
    "5. Döngü ile Toplama: 1’den 50’ye kadar olan sayıları döngü ile toplayan bir program yazın.\n",
    "6. Basit Dictionary Kullanımı: Öğrencilerin isimlerini ve notlarını içeren bir dictionary oluşturun ve bir öğrencinin notunu ekrana yazdırın.\n",
    "7. Basit Döngü: Bir string’in her harfini ayrı satırlara yazdıran bir döngü kurun.\n",
    "8. Fonksiyon Kullanımı: Girilen bir sayının karesini hesaplayan bir fonksiyon yazın.\n",
    "9. Basit Modüller: math modülünü kullanarak bir sayının karekökünü hesaplayan bir program yazın.\n",
    "10. Basit Liste İşlemleri: 10 elemanlı bir sayı listesi oluşturun ve bu listedeki en büyük sayıyı bulun.\n",
    "\n",
    "Orta Seviye Sorular\n",
    "1. Dosya İşlemleri: Bir dosyadan veriyi okuyup, tüm satırları büyük harfe çevirerek ekrana yazdıran bir program yazın.\n",
    "2. Liste Filtreleme: Bir liste içerisindeki 10’dan büyük tüm sayıları filtreleyen bir fonksiyon yazın.\n",
    "3. Küçük Oyun: Kullanıcıya 1-100 arasında bir sayı tahmin ettiren bir program yazın. Kullanıcının tahmini sayıdan küçük ya da büyük olduğunda ipucu verin.\n",
    "4. Fonksiyon İçi Fonksiyon: Bir fonksiyon içinde başka bir fonksiyon kullanarak iki sayının çarpımını bulan bir program yazın.\n",
    "5. Sözlükte Anahtar Arama: Bir sözlükte belirli bir anahtarın olup olmadığını kontrol eden bir fonksiyon yazın.\n",
    "6. List Comprehension: 1’den 50’ye kadar olan sayıların karelerinden oluşan bir liste oluşturun.\n",
    "7. Basit JSON İşlemi: JSON formatında bir öğrenci verisi oluşturun ve JSON’u Python sözlüğüne dönüştürerek bir öğrencinin adını ekrana yazdırın.\n",
    "8. Lambda Fonksiyonları: lambda kullanarak bir liste içerisindeki çift sayıları filtreleyin.\n",
    "9. Exception Handling: Kullanıcıdan bir sayı alın ve 0’a bölme hatasını yöneterek sonucu yazdırın.\n",
    "10. Class Kullanımı: Basit bir Person sınıfı oluşturun ve ad, soyad özelliklerini atayarak bir kişinin adını yazdırın.\n",
    "\n",
    "Zor Seviye Sorular\n",
    "1. Recursive Fonksiyon: Verilen bir sayının faktöriyelini hesaplayan rekürsif bir fonksiyon yazın.\n",
    "2. Liste İçinde Sözlükler: Çalışan bilgilerini içeren bir liste oluşturun ve bu listedeki bir çalışanı ID numarasına göre bulun.\n",
    "3. Python ile Web Scraping: Belirli bir web sayfasındaki tüm başlıkları (h1, h2, h3) çekmek için requests ve BeautifulSoup kullanarak bir program yazın.\n",
    "4. Fonksiyon Dekoratörleri: Bir dekoratör yazın ve bu dekoratör ile bir fonksiyonun çalışmasını ölçen bir zamanlayıcı ekleyin.\n",
    "5. Regex Kullanımı: Bir metinde tüm e-posta adreslerini bulan bir regex yazın.\n",
    "6. API İle Çalışmak: requests kütüphanesi ile bir API’den veri çekin ve çekilen veriyi JSON formatında ekrana yazdırın.\n",
    "7. İleri Seviye Dosya İşlemleri: Bir dosyadaki her satırı okuyan ve aynı kelimeden birden fazla olanları temizleyerek yeni bir dosyaya kaydeden bir program yazın.\n",
    "8. Çok Boyutlu Liste İşlemleri: 5x5 boyutunda rastgele sayılardan oluşan bir liste oluşturun ve her satırın toplamını ekrana yazdırın.\n",
    "9. İleri Düzey Class Kullanımı: Person, Employee gibi sınıflardan oluşan bir miras yapısı kurarak bir Employee sınıfı oluşturun ve maaş bilgilerini gösterin.\n",
    "10. Python ile Veri Görselleştirme: matplotlib kütüphanesini kullanarak bir liste içerisindeki sayıların histogramını çizin."
   ]
  },
  {
   "cell_type": "markdown",
   "id": "f61f308a-4c5e-48e5-ade3-1512e0b35204",
   "metadata": {},
   "source": [
    "## Kolay"
   ]
  },
  {
   "cell_type": "markdown",
   "id": "315887ef-c08d-4444-bea2-70f9ac6343fe",
   "metadata": {},
   "source": [
    "### 1."
   ]
  },
  {
   "cell_type": "code",
   "execution_count": 7,
   "id": "1c743f96-57d9-4d2a-a429-d78a49adcb88",
   "metadata": {},
   "outputs": [
    {
     "name": "stdin",
     "output_type": "stream",
     "text": [
      "num1:  36\n",
      "num2:  9\n"
     ]
    },
    {
     "name": "stdout",
     "output_type": "stream",
     "text": [
      "\n",
      "Total: 36 + 9 = 45,\n",
      "Extract: 36 - 9 = 27,\n",
      "Divide: 36 / 9 = 4.0,\n",
      "Multiplac: 36 * 9 = 324\n",
      "\n"
     ]
    }
   ],
   "source": [
    "# Temel Matematik İşlemleri: Kullanıcıdan iki sayı alarak bu sayıların toplamını, farkını, çarpımını ve bölümünü hesaplayan bir program yazın.\n",
    "num_1 = int(input(\"num1: \"))\n",
    "num_2 = int(input(\"num2: \"))\n",
    "\n",
    "print(f\"\"\"\n",
    "Total: {num_1} + {num_2} = {num_1 + num_2},\n",
    "Extract: {num_1} - {num_2} = {num_1 - num_2},\n",
    "Divide: {num_1} / {num_2} = {num_1 / num_2},\n",
    "Multiplac: {num_1} * {num_2} = {num_1 * num_2}\n",
    "\"\"\")"
   ]
  },
  {
   "cell_type": "markdown",
   "id": "c8e2aa6e-8f4a-4326-b3d3-2f3e7a641696",
   "metadata": {},
   "source": [
    "### 2."
   ]
  },
  {
   "cell_type": "code",
   "execution_count": 8,
   "id": "7c7ccf44-6bae-408b-8d7f-1469af266f6a",
   "metadata": {},
   "outputs": [
    {
     "name": "stdin",
     "output_type": "stream",
     "text": [
      "text =  Fatma\n"
     ]
    },
    {
     "name": "stdout",
     "output_type": "stream",
     "text": [
      "your text = Fatma, reverse text amtaF\n"
     ]
    }
   ],
   "source": [
    "# String İşlemleri: Verilen bir string’in tersini döndüren bir fonksiyon yazın.\n",
    "text_1 = str(input(\"text = \"))\n",
    "\n",
    "print(f\"your text = {text_1}, reverse text {text_1[::-1]}\")"
   ]
  },
  {
   "cell_type": "code",
   "execution_count": 9,
   "id": "c1ae92fa-5af7-433c-9064-c7ca4521f1d4",
   "metadata": {},
   "outputs": [
    {
     "data": {
      "text/plain": [
       "'rikebarakmızak'"
      ]
     },
     "execution_count": 9,
     "metadata": {},
     "output_type": "execute_result"
    }
   ],
   "source": [
    "text = \"kazımkarabekir\"\n",
    "\n",
    "''.join(reversed(text))"
   ]
  },
  {
   "cell_type": "markdown",
   "id": "8e486896-3ba2-4fb7-b7db-f09031dfb929",
   "metadata": {},
   "source": [
    "### 3."
   ]
  },
  {
   "cell_type": "code",
   "execution_count": 13,
   "id": "f833d72d-70dc-4217-8522-c0052093a67d",
   "metadata": {},
   "outputs": [
    {
     "name": "stdin",
     "output_type": "stream",
     "text": [
      "num:  -4\n"
     ]
    },
    {
     "name": "stdout",
     "output_type": "stream",
     "text": [
      "Negative\n"
     ]
    }
   ],
   "source": [
    "# Koşullu İfadeler: Kullanıcıdan bir sayı alarak bu sayının pozitif, negatif veya sıfır olup olmadığını kontrol eden bir program yazın.\n",
    "num_1 = int(input(\"num: \"))\n",
    "\n",
    "if num_1 == 0:\n",
    "    print(\"Notr\")\n",
    "elif num_1 < 0:\n",
    "    print(\"Negative\")\n",
    "else:\n",
    "    print(\"Positive\")"
   ]
  },
  {
   "cell_type": "markdown",
   "id": "491b749e-957d-4c42-806e-0a12248e4f8a",
   "metadata": {},
   "source": [
    "### 4."
   ]
  },
  {
   "cell_type": "code",
   "execution_count": 25,
   "id": "74ca6245-6f05-4277-af6d-5460b01859c5",
   "metadata": {},
   "outputs": [
    {
     "name": "stdin",
     "output_type": "stream",
     "text": [
      "Name1 =  Hamza\n",
      "Name2 =  Cem\n",
      "Name3 =  Deniz\n"
     ]
    },
    {
     "name": "stdout",
     "output_type": "stream",
     "text": [
      "Hamza\n",
      "Cem\n",
      "Deniz\n"
     ]
    }
   ],
   "source": [
    "# Listeye Eleman Ekleme: Kullanıcıdan üç isim alarak bir listeye ekleyin ve listeyi ekrana yazdırın.\n",
    "name_1 = str(input(\"Name1 = \"))\n",
    "name_2 = str(input(\"Name2 = \"))\n",
    "name_3 = str(input(\"Name3 = \"))\n",
    "\n",
    "list1 = [name_1, name_2, name_3]\n",
    "# print(list1)\n",
    "for i in list1:\n",
    "    print(i)\n",
    "# print(' '.join(list1))"
   ]
  },
  {
   "cell_type": "markdown",
   "id": "be666cd8-5936-4969-a1b2-7a6176068212",
   "metadata": {},
   "source": [
    "### 5."
   ]
  },
  {
   "cell_type": "code",
   "execution_count": 31,
   "id": "067e4988-9c57-4a5c-9245-de070ac246f8",
   "metadata": {},
   "outputs": [
    {
     "name": "stdout",
     "output_type": "stream",
     "text": [
      "1225\n"
     ]
    }
   ],
   "source": [
    "# Döngü ile Toplama: 1’den 50’ye kadar olan sayıları döngü ile toplayan bir program yazın.\n",
    "k = 0\n",
    "for i in range(1, 50):\n",
    "    k += i\n",
    "print(k)"
   ]
  },
  {
   "cell_type": "markdown",
   "id": "4e0e4bec-6a05-4601-b769-cd2d55325483",
   "metadata": {},
   "source": [
    "### 6."
   ]
  },
  {
   "cell_type": "code",
   "execution_count": 43,
   "id": "1ed572a9-545c-4182-a8d9-41fabfe5dd5a",
   "metadata": {},
   "outputs": [
    {
     "data": {
      "text/plain": [
       "75"
      ]
     },
     "execution_count": 43,
     "metadata": {},
     "output_type": "execute_result"
    }
   ],
   "source": [
    "# Basit Dictionary Kullanımı: Öğrencilerin isimlerini ve notlarını içeren bir dictionary oluşturun ve bir öğrencinin notunu ekrana yazdırın\n",
    "dict_not = {\"Ahmet\": 75,\n",
    "           \"Deniz\": 69,\n",
    "           \"Can\": 88,\n",
    "           \"Gülizar\": 52,\n",
    "           \"Mehmet\": 40,\n",
    "           \"Necati\": 92}\n",
    "dict_not[\"Ahmet\"]\n",
    "#for i, j in dict_not.items():\n",
    "    #print(i,\"-\",j)"
   ]
  },
  {
   "cell_type": "markdown",
   "id": "2ba77504-a252-4707-8a0f-81a8182e18c9",
   "metadata": {},
   "source": [
    "### 7."
   ]
  },
  {
   "cell_type": "code",
   "execution_count": 60,
   "id": "89a01380-8da5-490e-8c09-917a188afaee",
   "metadata": {},
   "outputs": [
    {
     "name": "stdout",
     "output_type": "stream",
     "text": [
      "K\n",
      "a\n",
      "z\n",
      "ı\n",
      "m\n",
      " \n",
      "k\n",
      "a\n",
      "r\n",
      "a\n"
     ]
    }
   ],
   "source": [
    "# Basit Döngü: Bir string’in her harfini ayrı satırlara yazdıran bir döngü kurun.\n",
    "string_text = \"Kazım kara\"\n",
    "\n",
    "for i in string_text:\n",
    "    print(i)"
   ]
  },
  {
   "cell_type": "markdown",
   "id": "2ddb9f28-b4ce-46ee-8618-2afdba4f0318",
   "metadata": {},
   "source": [
    "### 8."
   ]
  },
  {
   "cell_type": "code",
   "execution_count": 62,
   "id": "53449cc8-ba5f-465e-ae64-36b32bd5ded9",
   "metadata": {},
   "outputs": [
    {
     "data": {
      "text/plain": [
       "25"
      ]
     },
     "execution_count": 62,
     "metadata": {},
     "output_type": "execute_result"
    }
   ],
   "source": [
    "# Fonksiyon Kullanımı: Girilen bir sayının karesini hesaplayan bir fonksiyon yazın.\n",
    "\n",
    "def square(x):\n",
    "    return x ** 2\n",
    "\n",
    "square(5)"
   ]
  },
  {
   "cell_type": "code",
   "execution_count": 63,
   "id": "263fba4e-50c6-4a74-bf3c-60fb4aed31d7",
   "metadata": {},
   "outputs": [
    {
     "data": {
      "text/plain": [
       "81"
      ]
     },
     "execution_count": 63,
     "metadata": {},
     "output_type": "execute_result"
    }
   ],
   "source": [
    "square(9)"
   ]
  },
  {
   "cell_type": "markdown",
   "id": "ec957efc-8b22-4cd5-b73c-c1c41578c3d6",
   "metadata": {},
   "source": [
    "### 9."
   ]
  },
  {
   "cell_type": "code",
   "execution_count": 68,
   "id": "2b44478d-efef-47b5-ad7d-f4948ed9b976",
   "metadata": {},
   "outputs": [
    {
     "name": "stdout",
     "output_type": "stream",
     "text": [
      "729.0\n"
     ]
    }
   ],
   "source": [
    "# Basit Modüller: math modülünü kullanarak bir sayının karekökünü hesaplayan bir program yazın.\n",
    "\n",
    "import math as mt\n",
    "\n",
    "num1 = 9\n",
    "\n",
    "print(mt.pow(num1, 3))"
   ]
  },
  {
   "cell_type": "markdown",
   "id": "d68853ef-1d31-46ad-a291-d182323730ae",
   "metadata": {},
   "source": [
    "### 10."
   ]
  },
  {
   "cell_type": "code",
   "execution_count": 91,
   "id": "b5386d54-2850-4667-88e1-e1b18d1ac715",
   "metadata": {},
   "outputs": [
    {
     "name": "stdout",
     "output_type": "stream",
     "text": [
      "442\n"
     ]
    }
   ],
   "source": [
    "# Basit Liste İşlemleri: 10 elemanlı bir sayı listesi oluşturun ve bu listedeki en büyük sayıyı bulun.\n",
    "\n",
    "num_list = [12, 3, 52, 223, 21, 214, 32, 435, 432, 231, 123, 324, 442, 112, 367]\n",
    "print(max(num_list))"
   ]
  },
  {
   "cell_type": "markdown",
   "id": "66a95b4d-de67-443e-9ea5-fbcb364f62c9",
   "metadata": {},
   "source": [
    "## Orta"
   ]
  },
  {
   "cell_type": "markdown",
   "id": "40678bac-ea86-437b-b3b5-d4d5d1b3e7b3",
   "metadata": {},
   "source": [
    "### 1."
   ]
  },
  {
   "cell_type": "code",
   "execution_count": 104,
   "id": "4b15c1ca-817a-4fc0-8358-8d1b21ab2b95",
   "metadata": {},
   "outputs": [
    {
     "data": {
      "text/plain": [
       "'KARA KUTU ACILIYOR.'"
      ]
     },
     "execution_count": 104,
     "metadata": {},
     "output_type": "execute_result"
    }
   ],
   "source": [
    "# Dosya İşlemleri: Bir dosyadan veriyi okuyup, tüm satırları büyük harfe çevirerek ekrana yazdıran bir program yazın.\n",
    "\n",
    "file_open = open(\"test.txt\", \"r\")\n",
    "file_read = file_open.read()\n",
    "file_read.upper()\n"
   ]
  },
  {
   "cell_type": "markdown",
   "id": "f6b9dd78-a7a6-4e7d-8615-267db3258dbc",
   "metadata": {},
   "source": [
    "### 2."
   ]
  },
  {
   "cell_type": "code",
   "execution_count": 113,
   "id": "db0ae101-ea88-403e-9f01-77901c69ad70",
   "metadata": {},
   "outputs": [],
   "source": [
    "# Liste Filtreleme: Bir liste içerisindeki 10’dan büyük tüm sayıları filtreleyen bir fonksiyon yazın.\n",
    "\n",
    "list_2 = [4, 2, 5, 1, 12, 3, 9, 10, 13, 6, 7]\n",
    "\n",
    "def greater_than_ten(x):\n",
    "    list_3 = []\n",
    "    for i in x:\n",
    "        list_3.append(i > 10)\n",
    "    return list_3"
   ]
  },
  {
   "cell_type": "code",
   "execution_count": 114,
   "id": "111fd0a9-333e-4858-b038-c49eee360828",
   "metadata": {},
   "outputs": [
    {
     "data": {
      "text/plain": [
       "[False, False, False, False, True, False, False, False, True, False, False]"
      ]
     },
     "execution_count": 114,
     "metadata": {},
     "output_type": "execute_result"
    }
   ],
   "source": [
    "greater_than_ten(list_2)"
   ]
  },
  {
   "cell_type": "markdown",
   "id": "a37f5fff-f818-43f3-83aa-f36c5c461614",
   "metadata": {},
   "source": [
    "### 3."
   ]
  },
  {
   "cell_type": "code",
   "execution_count": 132,
   "id": "3d603c0d-fd4d-48bc-b9b1-fb3063c6bd36",
   "metadata": {},
   "outputs": [
    {
     "name": "stdin",
     "output_type": "stream",
     "text": [
      " 85\n"
     ]
    },
    {
     "name": "stdout",
     "output_type": "stream",
     "text": [
      "belirtiğin sayı, random sayıdan büyük\n"
     ]
    },
    {
     "name": "stdin",
     "output_type": "stream",
     "text": [
      " 70\n"
     ]
    },
    {
     "name": "stdout",
     "output_type": "stream",
     "text": [
      "belirtiğin sayı, random sayıdan büyük\n"
     ]
    },
    {
     "name": "stdin",
     "output_type": "stream",
     "text": [
      " 50\n"
     ]
    },
    {
     "name": "stdout",
     "output_type": "stream",
     "text": [
      "belirttiğin sayı, random sayıdan küçük\n"
     ]
    },
    {
     "name": "stdin",
     "output_type": "stream",
     "text": [
      " 60\n"
     ]
    },
    {
     "name": "stdout",
     "output_type": "stream",
     "text": [
      "belirtiğin sayı, random sayıdan büyük\n"
     ]
    },
    {
     "name": "stdin",
     "output_type": "stream",
     "text": [
      " 55\n"
     ]
    },
    {
     "name": "stdout",
     "output_type": "stream",
     "text": [
      "belirttiğin sayı, random sayıdan küçük\n"
     ]
    },
    {
     "name": "stdin",
     "output_type": "stream",
     "text": [
      " 56\n"
     ]
    },
    {
     "name": "stdout",
     "output_type": "stream",
     "text": [
      "belirttiğin sayı, random sayıdan küçük\n"
     ]
    },
    {
     "name": "stdin",
     "output_type": "stream",
     "text": [
      " 57\n"
     ]
    },
    {
     "name": "stdout",
     "output_type": "stream",
     "text": [
      "belirttiğin sayı, random sayıdan küçük\n"
     ]
    },
    {
     "name": "stdin",
     "output_type": "stream",
     "text": [
      " 58\n"
     ]
    },
    {
     "name": "stdout",
     "output_type": "stream",
     "text": [
      "belirttiğin sayı, random sayıdan küçük\n"
     ]
    },
    {
     "name": "stdin",
     "output_type": "stream",
     "text": [
      " 59\n"
     ]
    },
    {
     "name": "stdout",
     "output_type": "stream",
     "text": [
      "sayıyı buldun! 8 denemede.\n"
     ]
    }
   ],
   "source": [
    "# Küçük Oyun: Kullanıcıya 1-100 arasında bir sayı tahmin ettiren bir program yazın.\n",
    "# Kullanıcının tahmini sayıdan küçük ya da büyük olduğunda ipucu verin.\n",
    "import random \n",
    "sayac = 0\n",
    "while True:\n",
    "    num1 = int(input())\n",
    "    random.seed(40)\n",
    "    rand_number = random.randint(1,100)\n",
    "    if num1 > rand_number:\n",
    "        print(\"belirtiğin sayı, random sayıdan büyük\")\n",
    "        sayac +=1\n",
    "        continue\n",
    "    elif num1 < rand_number:\n",
    "        print(\"belirttiğin sayı, random sayıdan küçük\")\n",
    "        sayac +=1\n",
    "        continue\n",
    "    else:\n",
    "        print(f\"sayıyı buldun! {sayac} denemede.\")\n",
    "        break"
   ]
  },
  {
   "cell_type": "markdown",
   "id": "a98e21e8-f652-494a-9d9c-2227e8f216f9",
   "metadata": {},
   "source": [
    "### 4."
   ]
  },
  {
   "cell_type": "code",
   "execution_count": 148,
   "id": "c9a4aef2-21ee-424a-893c-bcff61997338",
   "metadata": {},
   "outputs": [
    {
     "name": "stdout",
     "output_type": "stream",
     "text": [
      "two number multi: \n",
      "32\n"
     ]
    }
   ],
   "source": [
    "# Fonksiyon İçi Fonksiyon: Bir fonksiyon içinde başka bir fonksiyon kullanarak\n",
    "# iki sayının çarpımını bulan bir program yazın.\n",
    "\n",
    "def num1(x, y):\n",
    "    print(\"two number multi: \")\n",
    "    def num2(x, y):\n",
    "        return x * y\n",
    "    num3 = num2(x, y)\n",
    "    print(num3)\n",
    "\n",
    "num1(8,4)"
   ]
  },
  {
   "cell_type": "markdown",
   "id": "0ca681a8-5e2f-47da-903d-6e2d936b3b75",
   "metadata": {},
   "source": [
    "### 5."
   ]
  },
  {
   "cell_type": "code",
   "execution_count": 27,
   "id": "2ee18fd2-25e2-4cfe-bdc0-828e03eebc74",
   "metadata": {},
   "outputs": [
    {
     "name": "stdout",
     "output_type": "stream",
     "text": [
      "False\n",
      "True\n"
     ]
    }
   ],
   "source": [
    "# Sözlükte Anahtar Arama: Bir sözlükte belirli bir anahtarın olup olmadığını kontrol eden bir fonksiyon yazın.\n",
    "\n",
    "def search_key(x, word):\n",
    "    for i in x.keys():\n",
    "        if word in i:\n",
    "            print(True)\n",
    "            break\n",
    "        else:\n",
    "            print(False)\n",
    "\n",
    "y = {\"word\": \"kelime\",\n",
    "     \"pencil\": \"kalem\",\n",
    "     \"eraser\": \"silgi\"}\n",
    "\n",
    "search_key(y, \"pencil\")\n"
   ]
  },
  {
   "cell_type": "code",
   "execution_count": 22,
   "id": "43a90cd5-0d0b-4356-806e-90b77fa6e11d",
   "metadata": {},
   "outputs": [
    {
     "name": "stdout",
     "output_type": "stream",
     "text": [
      "False\n",
      "True\n",
      "False\n"
     ]
    }
   ],
   "source": [
    "df = {\"word\": \"kelime\", \"pencil\": \"kalem\", \"eraser\": \"silgi\"}\n",
    "for i, j in df.items():\n",
    "    if 'pencil' in i:\n",
    "        print(True)\n",
    "    else:\n",
    "        print(False)"
   ]
  },
  {
   "cell_type": "markdown",
   "id": "fd40437c-00de-45ed-9112-81ec04da92a2",
   "metadata": {},
   "source": [
    "### 6."
   ]
  },
  {
   "cell_type": "code",
   "execution_count": 31,
   "id": "36910e7a-cb1a-4dc3-aa27-7f792c72910f",
   "metadata": {
    "scrolled": true
   },
   "outputs": [
    {
     "data": {
      "text/plain": [
       "['1 ---> 1',\n",
       " '2 ---> 4',\n",
       " '3 ---> 9',\n",
       " '4 ---> 16',\n",
       " '5 ---> 25',\n",
       " '6 ---> 36',\n",
       " '7 ---> 49',\n",
       " '8 ---> 64',\n",
       " '9 ---> 81',\n",
       " '10 ---> 100',\n",
       " '11 ---> 121',\n",
       " '12 ---> 144',\n",
       " '13 ---> 169',\n",
       " '14 ---> 196',\n",
       " '15 ---> 225',\n",
       " '16 ---> 256',\n",
       " '17 ---> 289',\n",
       " '18 ---> 324',\n",
       " '19 ---> 361',\n",
       " '20 ---> 400',\n",
       " '21 ---> 441',\n",
       " '22 ---> 484',\n",
       " '23 ---> 529',\n",
       " '24 ---> 576',\n",
       " '25 ---> 625',\n",
       " '26 ---> 676',\n",
       " '27 ---> 729',\n",
       " '28 ---> 784',\n",
       " '29 ---> 841',\n",
       " '30 ---> 900',\n",
       " '31 ---> 961',\n",
       " '32 ---> 1024',\n",
       " '33 ---> 1089',\n",
       " '34 ---> 1156',\n",
       " '35 ---> 1225',\n",
       " '36 ---> 1296',\n",
       " '37 ---> 1369',\n",
       " '38 ---> 1444',\n",
       " '39 ---> 1521',\n",
       " '40 ---> 1600',\n",
       " '41 ---> 1681',\n",
       " '42 ---> 1764',\n",
       " '43 ---> 1849',\n",
       " '44 ---> 1936',\n",
       " '45 ---> 2025',\n",
       " '46 ---> 2116',\n",
       " '47 ---> 2209',\n",
       " '48 ---> 2304',\n",
       " '49 ---> 2401',\n",
       " '50 ---> 2500']"
      ]
     },
     "execution_count": 31,
     "metadata": {},
     "output_type": "execute_result"
    }
   ],
   "source": [
    "# List Comprehension: 1’den 50’ye kadar olan sayıların karelerinden oluşan bir liste oluşturun.\n",
    "\n",
    "[f\"{i} ---> {i ** 2}\" for i in range(1,51)]"
   ]
  },
  {
   "cell_type": "markdown",
   "id": "91aef222-cb85-485b-ac43-b16f46a56fd3",
   "metadata": {},
   "source": [
    "### 7."
   ]
  },
  {
   "cell_type": "code",
   "execution_count": 55,
   "id": "ec1517a8-9dba-47eb-ad84-a5549904be43",
   "metadata": {},
   "outputs": [
    {
     "name": "stdout",
     "output_type": "stream",
     "text": [
      "Öğrencinin adı: Ali\n"
     ]
    }
   ],
   "source": [
    "# Basit JSON İşlemi: JSON formatında bir öğrenci verisi oluşturun ve\n",
    "# JSON’u Python sözlüğüne dönüştürerek bir öğrencinin adını ekrana yazdırın.\n",
    "\n",
    "import json\n",
    "\n",
    "student_data = '''{\n",
    "  \"student\": {\n",
    "    \"id\": 1,\n",
    "    \"firstName\": \"Ali\",\n",
    "    \"lastName\": \"Yılmaz\",\n",
    "    \"age\": 16,\n",
    "    \"grade\": 11,\n",
    "    \"subjects\": [\n",
    "      {\n",
    "        \"name\": \"Mathematics\",\n",
    "        \"score\": 85\n",
    "      },\n",
    "      {\n",
    "        \"name\": \"Physics\",\n",
    "        \"score\": 78\n",
    "      },\n",
    "      {\n",
    "        \"name\": \"Chemistry\",\n",
    "        \"score\": 92\n",
    "      },\n",
    "      {\n",
    "        \"name\": \"English\",\n",
    "        \"score\": 88\n",
    "      }\n",
    "    ],\n",
    "    \"attendance\": {\n",
    "      \"daysPresent\": 150,\n",
    "      \"daysAbsent\": 5\n",
    "    }\n",
    "  }\n",
    "}\n",
    "'''\n",
    "student_data_dict = json.loads(student_data)\n",
    "print(f\"Öğrencinin adı: {student_data_dict[\"student\"][\"firstName\"]}\")"
   ]
  },
  {
   "cell_type": "code",
   "execution_count": 36,
   "id": "3aa3d680-020c-4bfa-a74a-29afad806e36",
   "metadata": {},
   "outputs": [
    {
     "data": {
      "text/plain": [
       "dict_items([('student', {'id': 1, 'firstName': 'Ali', 'lastName': 'Yılmaz', 'age': 16, 'grade': 11, 'subjects': [{'name': 'Mathematics', 'score': 85}, {'name': 'Physics', 'score': 78}, {'name': 'Chemistry', 'score': 92}, {'name': 'English', 'score': 88}], 'attendance': {'daysPresent': 150, 'daysAbsent': 5}})])"
      ]
     },
     "execution_count": 36,
     "metadata": {},
     "output_type": "execute_result"
    }
   ],
   "source": [
    "student_data.items()"
   ]
  },
  {
   "cell_type": "markdown",
   "id": "564d6d85-66a1-4626-8913-c40c6bad783d",
   "metadata": {},
   "source": [
    "### 8."
   ]
  },
  {
   "cell_type": "code",
   "execution_count": 52,
   "id": "f71f1d21-1c32-47a4-adc8-835dbd96500c",
   "metadata": {},
   "outputs": [
    {
     "name": "stdout",
     "output_type": "stream",
     "text": [
      "[2, 4, 6, 8, 0]\n"
     ]
    }
   ],
   "source": [
    "# Lambda Fonksiyonları: lambda kullanarak bir liste içerisindeki çift sayıları filtreleyin.\n",
    "\n",
    "list2 = [1,2,3,4,5,6,7,8,9,0]\n",
    "\n",
    "particular = list(filter(lambda x: x % 2 == 0, list2))\n",
    "print(particular)"
   ]
  },
  {
   "cell_type": "code",
   "execution_count": 48,
   "id": "90ad4b98-15df-4fce-b282-4bfa200efb91",
   "metadata": {},
   "outputs": [
    {
     "name": "stdout",
     "output_type": "stream",
     "text": [
      "20\n"
     ]
    }
   ],
   "source": [
    "fonk = lambda x: x + 10\n",
    "print(fonk(10))"
   ]
  },
  {
   "cell_type": "markdown",
   "id": "b4bb1146-a323-4f3f-a73e-93f8c62b3808",
   "metadata": {},
   "source": [
    "### 9."
   ]
  },
  {
   "cell_type": "code",
   "execution_count": 57,
   "id": "59e3b272-a536-4deb-8294-aa64cfba5fd5",
   "metadata": {},
   "outputs": [
    {
     "name": "stdin",
     "output_type": "stream",
     "text": [
      "num1:  5\n",
      "num2:  0\n"
     ]
    },
    {
     "name": "stdout",
     "output_type": "stream",
     "text": [
      "please, don't enter zero.\n"
     ]
    }
   ],
   "source": [
    "# Exception Handling: Kullanıcıdan bir sayı alın ve 0’a bölme hatasını yöneterek sonucu yazdırın.\n",
    "try:\n",
    "    num = int(input(\"num1: \"))\n",
    "    num2 = int(input(\"num2: \"))\n",
    "    print(num / num2)\n",
    "except ZeroDivisionError:\n",
    "    print(\"please, don't enter zero.\")"
   ]
  },
  {
   "cell_type": "code",
   "execution_count": 58,
   "id": "226cf5bb-1d6d-458c-8fd5-73c3c87ec913",
   "metadata": {},
   "outputs": [
    {
     "data": {
      "text/plain": [
       "\"please, don't enter zero.\""
      ]
     },
     "execution_count": 58,
     "metadata": {},
     "output_type": "execute_result"
    }
   ],
   "source": [
    "def divide(x, y):\n",
    "    try:\n",
    "        return x / y\n",
    "    except ZeroDivisionError:\n",
    "        return \"please, don't enter zero.\"\n",
    "\n",
    "divide(5,0)"
   ]
  },
  {
   "cell_type": "code",
   "execution_count": 59,
   "id": "c1a72312-7a85-4f13-a590-e07218c875ff",
   "metadata": {},
   "outputs": [
    {
     "data": {
      "text/plain": [
       "2.0"
      ]
     },
     "execution_count": 59,
     "metadata": {},
     "output_type": "execute_result"
    }
   ],
   "source": [
    "divide(10, 5)"
   ]
  },
  {
   "cell_type": "markdown",
   "id": "56069bbc-0b2f-4ffb-9c60-fb227559dcfa",
   "metadata": {},
   "source": [
    "### 10."
   ]
  },
  {
   "cell_type": "code",
   "execution_count": 68,
   "id": "1c7c32af-664d-4241-8a03-d4ec00f4e91d",
   "metadata": {},
   "outputs": [
    {
     "name": "stdout",
     "output_type": "stream",
     "text": [
      "adi: Damla - soyadi: KILIÇ - yasi: 16\n"
     ]
    }
   ],
   "source": [
    "# Class Kullanımı: Basit bir Person sınıfı oluşturun ve ad, soyad özelliklerini atayarak bir kişinin adını yazdırın\n",
    "\n",
    "class Person:\n",
    "    def __init__(self, name, surname, age):\n",
    "        self.name = name\n",
    "        self.surname = surname\n",
    "        self.age = age\n",
    "\n",
    "p1 = Person(\"Damla\", \"KILIÇ\", 16)\n",
    "print(f\"adi: {p1.name} - soyadi: {p1.surname} - yasi: {p1.age}\")"
   ]
  },
  {
   "cell_type": "markdown",
   "id": "cc471627-bee7-4632-ac08-341f2814e728",
   "metadata": {},
   "source": [
    "## Zor"
   ]
  },
  {
   "cell_type": "markdown",
   "id": "c6dc88a9-ae71-4e4c-89bb-283fe4e95c92",
   "metadata": {},
   "source": [
    "### 1."
   ]
  },
  {
   "cell_type": "code",
   "execution_count": 72,
   "id": "558ffbf4-785e-4a66-b409-eefa5373ee57",
   "metadata": {},
   "outputs": [
    {
     "name": "stdout",
     "output_type": "stream",
     "text": [
      "6! = 720\n"
     ]
    }
   ],
   "source": [
    "# Recursive Fonksiyon: Verilen bir sayının faktöriyelini hesaplayan rekürsif bir fonksiyon yazın.\n",
    "\n",
    "def fact(x):\n",
    "    if x == 0 or x == 1:\n",
    "        return 1\n",
    "    else:\n",
    "        return x * fact(x - 1)\n",
    "num = 6\n",
    "print(f\"{num}! = {fact(num)}\")"
   ]
  },
  {
   "cell_type": "markdown",
   "id": "c4014f21-3053-4b31-8616-0603a3777d18",
   "metadata": {},
   "source": [
    "### 2."
   ]
  },
  {
   "cell_type": "code",
   "execution_count": 84,
   "id": "55b4cae5-3247-4e61-b702-10b4c2906fbe",
   "metadata": {},
   "outputs": [
    {
     "data": {
      "text/plain": [
       "{'ID': 3, 'Name': 'Kazım', 'Age': 27, 'Salary': 3312}"
      ]
     },
     "execution_count": 84,
     "metadata": {},
     "output_type": "execute_result"
    }
   ],
   "source": [
    "# Liste İçinde Sözlükler: Çalışan bilgilerini içeren bir liste oluşturun\n",
    "# ve bu listedeki bir çalışanı ID numarasına göre bulun.\n",
    "\n",
    "calisanlar = [\n",
    "    {'ID': 1, 'Name': \"Ahmet\", \"Age\": 30, \"Salary\": 4500},\n",
    "    {'ID': 2, 'Name': \"Ali\", \"Age\": 19, \"Salary\": 1231},\n",
    "    {'ID': 3, 'Name': \"Kazım\", \"Age\": 27, \"Salary\": 3312},\n",
    "    {'ID': 4, 'Name': \"Deniz\", \"Age\": 60, \"Salary\": 5321},\n",
    "    {'ID': 5, 'Name': \"Veli\", \"Age\": 22, \"Salary\": 2131},\n",
    "]\n",
    "calisanlar[2]"
   ]
  },
  {
   "cell_type": "code",
   "execution_count": 90,
   "id": "de3cc35f-7fed-467b-bce1-860ca078a42a",
   "metadata": {},
   "outputs": [
    {
     "name": "stdout",
     "output_type": "stream",
     "text": [
      "Çalışan bulundu! {'ID': 5, 'Name': 'Veli', 'Age': 22, 'Salary': 2131}\n"
     ]
    }
   ],
   "source": [
    "def find_employee_by_id(employee_list, employee_id):\n",
    "    for employee in employee_list:\n",
    "        if employee[\"ID\"] == employee_id:\n",
    "            return employee\n",
    "    return None\n",
    "calisan_id = 5\n",
    "sonuc = find_employee_by_id(calisanlar, calisan_id)\n",
    "if sonuc:\n",
    "    print(f\"Çalışan bulundu! {sonuc}\")\n",
    "else:\n",
    "    print(\"Çalışan bulunamadı.\")"
   ]
  },
  {
   "cell_type": "markdown",
   "id": "6921ecfd-bbb6-4318-b21c-73f3b7a91466",
   "metadata": {},
   "source": [
    "### 3."
   ]
  },
  {
   "cell_type": "code",
   "execution_count": 106,
   "id": "3af0fed0-8c88-46b8-8d58-ed094b9642ad",
   "metadata": {},
   "outputs": [
    {
     "name": "stdout",
     "output_type": "stream",
     "text": [
      "Lorem Ipsum\n",
      "--------------------\n",
      "What is Lorem Ipsum?\n",
      "Why do we use it?\n",
      "Where does it come from?\n",
      "Where can I get some?\n",
      "--------------------\n",
      "The standard Lorem Ipsum passage, used since the 1500s\n",
      "Section 1.10.32 of \"de Finibus Bonorum et Malorum\", written by Cicero in 45 BC\n",
      "1914 translation by H. Rackham\n",
      "Section 1.10.33 of \"de Finibus Bonorum et Malorum\", written by Cicero in 45 BC\n",
      "1914 translation by H. Rackham\n"
     ]
    }
   ],
   "source": [
    "# Python ile Web Scraping: Belirli bir web sayfasındaki tüm başlıkları (h1, h2, h3) çekmek\n",
    "# için requests ve BeautifulSoup kullanarak bir program yazın.\n",
    "\n",
    "import requests\n",
    "from bs4 import BeautifulSoup\n",
    "\n",
    "url = \"https://www.lipsum.com/\"\n",
    "response = requests.get(url)\n",
    "soup = BeautifulSoup(response.text, 'html.parser')\n",
    "\n",
    "h1_tag = soup.find_all('h1')\n",
    "for j in h1_tag:\n",
    "    print(j.get_text(strip = True))\n",
    "print(\"-\" * 20)\n",
    "h2_tag = soup.find_all('h2')\n",
    "for i in h2_tag:\n",
    "    print(i.get_text(strip = True))\n",
    "print(\"-\" * 20)\n",
    "h3_tag = soup.find_all('h3')\n",
    "for k in h3_tag:\n",
    "    print(k.get_text(strip = True))"
   ]
  },
  {
   "cell_type": "markdown",
   "id": "f89802af-e424-4e99-864d-d8b8d042dd6d",
   "metadata": {},
   "source": [
    "### 4."
   ]
  },
  {
   "cell_type": "code",
   "execution_count": 107,
   "id": "b8495354-9a66-4cab-8968-de5208ebab54",
   "metadata": {},
   "outputs": [
    {
     "name": "stdout",
     "output_type": "stream",
     "text": [
      "add: <function add at 0x0000018297EB14E0>\n"
     ]
    }
   ],
   "source": [
    "# Fonksiyon Dekoratörleri: Bir dekoratör yazın ve bu dekoratör ile bir fonksiyonun çalışmasını ölçen bir zamanlayıcı ekleyin.\n",
    "\n",
    "def add(x, y):\n",
    "    return x + y\n",
    "print(f\"add: {add}\")"
   ]
  },
  {
   "cell_type": "code",
   "execution_count": 108,
   "id": "f2ea16bc-a2bf-4e03-893b-166755dc79fb",
   "metadata": {},
   "outputs": [
    {
     "name": "stdout",
     "output_type": "stream",
     "text": [
      "add.__name__: add\n"
     ]
    }
   ],
   "source": [
    "print(f\"add.__name__: {add.__name__}\")"
   ]
  },
  {
   "cell_type": "code",
   "execution_count": 109,
   "id": "36843440-443e-47df-8397-d1daf90c3e4d",
   "metadata": {},
   "outputs": [
    {
     "name": "stdout",
     "output_type": "stream",
     "text": [
      "add(2, 4): 6\n"
     ]
    }
   ],
   "source": [
    "print(f\"add(2, 4): {add(2,4)}\")"
   ]
  },
  {
   "cell_type": "code",
   "execution_count": 110,
   "id": "ea8a567d-f4b2-441a-9478-e96f01d00193",
   "metadata": {},
   "outputs": [
    {
     "name": "stdout",
     "output_type": "stream",
     "text": [
      "type(add): <class 'function'>\n"
     ]
    }
   ],
   "source": [
    "print(f\"type(add): {type(add)}\")"
   ]
  },
  {
   "cell_type": "code",
   "execution_count": 111,
   "id": "4ae9fc87-6d4f-4715-aaca-284b0b3bdb4a",
   "metadata": {},
   "outputs": [
    {
     "name": "stdout",
     "output_type": "stream",
     "text": [
      "call_func(add, 2, 3): 5\n"
     ]
    }
   ],
   "source": [
    "def call_func(func, *args):\n",
    "    return func(*args)\n",
    "\n",
    "print(f\"call_func(add, 2, 3): {call_func(add, 2, 3)}\")"
   ]
  },
  {
   "cell_type": "code",
   "execution_count": 113,
   "id": "3bb5ee81-6118-4295-9d0a-93a4e170153e",
   "metadata": {},
   "outputs": [],
   "source": [
    "del add"
   ]
  },
  {
   "cell_type": "code",
   "execution_count": 114,
   "id": "232156dc-797a-4e99-b074-e7e1a9fbc438",
   "metadata": {},
   "outputs": [
    {
     "ename": "NameError",
     "evalue": "name 'add' is not defined",
     "output_type": "error",
     "traceback": [
      "\u001b[1;31m---------------------------------------------------------------------------\u001b[0m",
      "\u001b[1;31mNameError\u001b[0m                                 Traceback (most recent call last)",
      "Cell \u001b[1;32mIn[114], line 1\u001b[0m\n\u001b[1;32m----> 1\u001b[0m \u001b[38;5;28mprint\u001b[39m(\u001b[38;5;124mf\u001b[39m\u001b[38;5;124m\"\u001b[39m\u001b[38;5;124madd: \u001b[39m\u001b[38;5;132;01m{\u001b[39;00m\u001b[43madd\u001b[49m\u001b[38;5;132;01m}\u001b[39;00m\u001b[38;5;124m\"\u001b[39m)\n",
      "\u001b[1;31mNameError\u001b[0m: name 'add' is not defined"
     ]
    }
   ],
   "source": [
    "print(f\"add: {add}\")"
   ]
  },
  {
   "cell_type": "code",
   "execution_count": 115,
   "id": "fce2dcf7-aedb-469a-9010-9533a475bf41",
   "metadata": {},
   "outputs": [
    {
     "name": "stdout",
     "output_type": "stream",
     "text": [
      "24\n"
     ]
    }
   ],
   "source": [
    "def factorial(n: int):\n",
    "    assert type(n) == int\n",
    "    assert n >= 0\n",
    "\n",
    "    def fact(n):\n",
    "        if n <= 1:\n",
    "            return 1\n",
    "        return n * fact(n - 1)\n",
    "\n",
    "    return fact(n)\n",
    "\n",
    "print(factorial(4))"
   ]
  },
  {
   "cell_type": "code",
   "execution_count": 51,
   "id": "b3ae3a8e-afb2-4d19-9dc5-77f4cc9002bc",
   "metadata": {},
   "outputs": [],
   "source": [
    "def benchmark(func):\n",
    "    def wrapper(*args, **kwargs):\n",
    "        from time import time\n",
    "        time_start = time()\n",
    "        result = func(*args, **kwargs)\n",
    "        time_finish = time()\n",
    "\n",
    "        time_delta = time_finish - time_start\n",
    "        print(f\"- {func.__name__} fonksiyonu {round(time_delta, 2)} saniye sürdü.)\")\n",
    "        return result\n",
    "    return wrapper"
   ]
  },
  {
   "cell_type": "code",
   "execution_count": 124,
   "id": "e97a1def-a8b9-4f29-9443-a2e698ada614",
   "metadata": {},
   "outputs": [
    {
     "name": "stdout",
     "output_type": "stream",
     "text": [
      "- add_func fonksiyonu 0.0 saniye sürdü.)\n"
     ]
    },
    {
     "data": {
      "text/plain": [
       "14"
      ]
     },
     "execution_count": 124,
     "metadata": {},
     "output_type": "execute_result"
    }
   ],
   "source": [
    "@benchmark\n",
    "def add_func(x, y):\n",
    "    return x + y\n",
    "\n",
    "add_func(6, 8)"
   ]
  },
  {
   "cell_type": "markdown",
   "id": "6a2c1281-b883-4e30-b4df-dce1f99c4093",
   "metadata": {},
   "source": [
    "### 5."
   ]
  },
  {
   "cell_type": "code",
   "execution_count": 127,
   "id": "7dc66d7c-855d-41db-891a-9892fa4c2b97",
   "metadata": {},
   "outputs": [
    {
     "name": "stdout",
     "output_type": "stream",
     "text": [
      "Tüm eposta adresleri: ['dailymessage12@hotmail.com', 'jacksparrow1w1@gmail.com', 'familyw1rk@yahoo.com']\n"
     ]
    }
   ],
   "source": [
    "# Regex Kullanımı: Bir metinde tüm e-posta adreslerini bulan bir regex yazın.\n",
    "\n",
    "import re\n",
    "\n",
    "text = \"\"\"\n",
    "Merhaba, bu metin bize dailymessage12@hotmail.com adresinden geldi ve biz bu mesajı,\n",
    "jacksparrow1w1@gmail.com adresine ilettik. Dahasında familyw1rk@yahoo.com adresi ile irtibata geçtik.\n",
    "\"\"\"\n",
    "email_pattern = r\"[\\w\\.-]+@[\\w\\.-]+\\.\\w+\"\n",
    "find_mail = re.findall(email_pattern, text)\n",
    "print(f\"Tüm eposta adresleri: {find_mail}\")"
   ]
  },
  {
   "cell_type": "markdown",
   "id": "d91b24ee-340b-4a44-8696-742c4b5b08d8",
   "metadata": {},
   "source": [
    "### 6."
   ]
  },
  {
   "cell_type": "code",
   "execution_count": 138,
   "id": "d1dafd9f-2e4f-422a-bce1-61fad5a802f0",
   "metadata": {
    "scrolled": true
   },
   "outputs": [
    {
     "data": {
      "text/plain": [
       "{'message': 'Not Found',\n",
       " 'documentation_url': 'https://docs.github.com/rest',\n",
       " 'status': '404'}"
      ]
     },
     "execution_count": 138,
     "metadata": {},
     "output_type": "execute_result"
    }
   ],
   "source": [
    "# API İle Çalışmak: requests kütüphanesi ile bir API’den veri çekin ve çekilen veriyi JSON formatında ekrana yazdırın.\n",
    "\n",
    "import requests\n",
    "import json\n",
    "\n",
    "url = 'https://api.github.com/some/endpoint'\n",
    "# req = requests.get('https://api.github.com/some/endpoint')\n",
    "payload = {'some': 'data'}\n",
    "r = requests.post(url, data=json.dumps(payload))\n",
    "r.json()\n",
    "# req.json()"
   ]
  },
  {
   "cell_type": "markdown",
   "id": "03f117a0-4b22-4dc2-b99d-1bea87eedf50",
   "metadata": {},
   "source": [
    "### 7."
   ]
  },
  {
   "cell_type": "code",
   "execution_count": 145,
   "id": "fa8a5b92-8a52-4eda-88e9-ccfb4effa809",
   "metadata": {},
   "outputs": [],
   "source": [
    "# İleri Seviye Dosya İşlemleri: Bir dosyadaki her satırı okuyan ve aynı kelimeden birden fazla\n",
    "# olanları temizleyerek yeni bir dosyaya kaydeden bir program yazın.\n",
    "\n",
    "def remove_dup_in_file(input_file, output_file):\n",
    "    try:\n",
    "        with open(input_file, 'r') as infile, open(output_file, 'w') as outfile:\n",
    "            for line in infile:\n",
    "                words = line.strip().split()\n",
    "                unique_words = list(dict.fromkeys(words))\n",
    "\n",
    "                cleaned_line = ' '.join(unique_words)\n",
    "                outfile.write(cleaned_line + '\\n')\n",
    "        print(f\"Tüm tekrarlar kaldırıldı ve sonuçlar '{output_file}' dosyasına kaydedildi.\")\n",
    "    except FileNotFoundError:\n",
    "        print(\"Girdi dosyası bulunamadı. Lütfen dosya adını kontrol edin.\")"
   ]
  },
  {
   "cell_type": "code",
   "execution_count": 146,
   "id": "659daef5-f41a-43fd-aec4-b7f087f8b611",
   "metadata": {},
   "outputs": [
    {
     "name": "stdout",
     "output_type": "stream",
     "text": [
      "Tüm tekrarlar kaldırıldı ve sonuçlar 'test2.txt' dosyasına kaydedildi.\n"
     ]
    }
   ],
   "source": [
    "remove_dup_in_file(\"test.txt\", \"test2.txt\")"
   ]
  },
  {
   "cell_type": "markdown",
   "id": "40c7e2f5-98df-4737-9429-9bff6bbdec08",
   "metadata": {},
   "source": [
    "### 8."
   ]
  },
  {
   "cell_type": "code",
   "execution_count": 147,
   "id": "4f44a7e9-a13d-4df9-889a-6395bab8312b",
   "metadata": {},
   "outputs": [
    {
     "name": "stdout",
     "output_type": "stream",
     "text": [
      "1. satır: [61, 17, 22, 64, 68] -> Toplam: 232\n",
      "2. satır: [93, 27, 72, 17, 96] -> Toplam: 305\n",
      "3. satır: [45, 64, 73, 58, 93] -> Toplam: 333\n",
      "4. satır: [74, 62, 71, 97, 6] -> Toplam: 310\n",
      "5. satır: [36, 98, 55, 88, 59] -> Toplam: 336\n"
     ]
    }
   ],
   "source": [
    "# Çok Boyutlu Liste İşlemleri: 5x5 boyutunda rastgele\n",
    "# sayılardan oluşan bir liste oluşturun ve her satırın toplamını ekrana yazdırın.\n",
    "\n",
    "import random\n",
    "\n",
    "matrix = [[random.randint(1, 100) for _ in range(5)] for _ in range(5)]\n",
    "\n",
    "for i, row in enumerate(matrix):\n",
    "    row_sum = sum(row)\n",
    "    print(f\"{i + 1}. satır: {row} -> Toplam: {row_sum}\")"
   ]
  },
  {
   "cell_type": "markdown",
   "id": "9504cf76-0961-476a-a0e6-a5a0e4aab49e",
   "metadata": {},
   "source": [
    "### 9."
   ]
  },
  {
   "cell_type": "code",
   "execution_count": 149,
   "id": "ef855d2b-4952-4328-81f8-3f00f2f61686",
   "metadata": {},
   "outputs": [
    {
     "name": "stdout",
     "output_type": "stream",
     "text": [
      "Adı: Ahmet Gelibolu, Yaş: 30\n",
      "Maaş: 10.0\n"
     ]
    }
   ],
   "source": [
    "# İleri Düzey Class Kullanımı: Person, Employee gibi sınıflardan oluşan bir miras yapısı\n",
    "# kurarak bir Employee sınıfı oluşturun ve maaş bilgilerini gösterin.\n",
    "\n",
    "class Person:\n",
    "    def __init__(self, name, age):\n",
    "        self.name = name\n",
    "        self.age = age\n",
    "    def display_info(self):\n",
    "        print(f\"Adı: {self.name}, Yaş: {self.age}\")\n",
    "        \n",
    "class Employee(Person):\n",
    "    def __init__(self, name, age, salary):\n",
    "        super().__init__(name, age)\n",
    "        self.salary = salary\n",
    "    def display_info(self):\n",
    "        super().display_info()\n",
    "        print(f\"Maaş: {self.salary}\")\n",
    "\n",
    "employee = Employee(\"Ahmet Gelibolu\", 30, 10.000)\n",
    "employee.display_info()"
   ]
  },
  {
   "cell_type": "markdown",
   "id": "a0d8cfa4-7071-4ee0-adca-561064181e0f",
   "metadata": {},
   "source": [
    "### 10."
   ]
  },
  {
   "cell_type": "code",
   "execution_count": 156,
   "id": "7bcd6ce6-2fb2-4ec6-ab3d-77d1ccf9eb28",
   "metadata": {},
   "outputs": [
    {
     "data": {
      "image/png": "[encoded data removed]",
      "text/plain": [
       "<Figure size 640x480 with 1 Axes>"
      ]
     },
     "metadata": {},
     "output_type": "display_data"
    }
   ],
   "source": [
    "# Python ile Veri Görselleştirme: matplotlib kütüphanesini kullanarak\n",
    "# bir liste içerisindeki sayıların histogramını çizin.\n",
    "\n",
    "import matplotlib.pyplot as plt\n",
    "\n",
    "num_list1 = ([10,20,30,40,50,60,70,80], [12, 24, 36, 48, 60, 72, 84, 96])\n",
    "\n",
    "plt.hist(num_list1, bins = 10)\n",
    "plt.show()"
   ]
  },
  {
   "cell_type": "markdown",
   "id": "a0dc464d-d88d-4304-b55f-ace01cd4c3c0",
   "metadata": {},
   "source": [
    "* Orta Seviye Sorular\n",
    "1. Liste Sıralama ve Filtreleme: Rastgele sayılardan oluşan bir listeyi sıralayın ve bu listeden 50’nin üzerindeki sayıları ayrı bir listeye ekleyin.\n",
    "\n",
    "2. Fonksiyonlar ve Sözlükler: Bir sözlükte her harfin kaç defa geçtiğini bulan bir fonksiyon yazın (örn: {'a': 3, 'b': 2}).\n",
    "\n",
    "3. CSV Dosya İşlemi: Bir CSV dosyasından veriyi okuyarak her satırdaki ilk sütunu bir listeye ekleyen bir program yazın.\n",
    "\n",
    "4. Liste Dilimleme: Rastgele sayılardan oluşan bir listenin yalnızca tek ve çift indislerdeki değerlerini ayırarak iki ayrı liste oluşturun.\n",
    "\n",
    "5. Fonksiyon ile Liste İşlemleri: İç içe listelerden oluşan bir veri yapısını düzleştiren (flatten) bir fonksiyon yazın.\n",
    "\n",
    "* Zor Seviye Sorular\n",
    "1. Fonksiyonel Programlama: map, filter ve reduce fonksiyonlarını kullanarak bir listedeki çift sayıların karesini hesaplayın ve toplamını bulun.\n",
    "\n",
    "2. Decorator ile Yetkilendirme: Bir dekoratör yazın ve bu dekoratör belirli bir rolü (örneğin, admin) olmayan bir kullanıcıyı fonksiyonu çalıştırmaktan men etsin.\n",
    "\n",
    "3. Oyun Simülasyonu: Bir \"taş-kağıt-makas\" oyunu yapın. Kullanıcıya seçim yaptırarak bilgisayarın da rastgele bir seçim yapmasını sağlayın ve kazananı belirleyin.\n",
    "\n",
    "4. SQL ile Python Entegrasyonu: sqlite3 modülünü kullanarak bir veritabanı oluşturun, tabloya veri ekleyin ve belirli bir filtreye göre veri çekin.\n",
    "\n",
    "5. İleri Seviye Regex: Belirli bir metinde tüm tarihleri (örneğin gg-aa-yyyy veya gg.aa.yyyy formatında) bulan ve listeleyen bir regex deseni yazın."
   ]
  },
  {
   "cell_type": "markdown",
   "id": "3d4f035b-bb59-4376-8a33-ba74d7eeae94",
   "metadata": {},
   "source": [
    "## Orta"
   ]
  },
  {
   "cell_type": "markdown",
   "id": "dbb59afc-8f52-4892-b9eb-7339a28ce78f",
   "metadata": {},
   "source": [
    "### 1."
   ]
  },
  {
   "cell_type": "code",
   "execution_count": 8,
   "id": "3e090f07-543b-4eaf-84aa-25cde08df7e3",
   "metadata": {},
   "outputs": [
    {
     "name": "stdout",
     "output_type": "stream",
     "text": [
      "[50, 89, 100, 123, 190]\n"
     ]
    }
   ],
   "source": [
    "# Liste Sıralama ve Filtreleme: Rastgele sayılardan oluşan bir listeyi sıralayın\n",
    "# ve bu listeden 50’nin üzerindeki sayıları ayrı bir listeye ekleyin.\n",
    "\n",
    "list_one = [123, 21, 45, 17, 190, 50, 36, 89, 100, 43, 12]\n",
    "\n",
    "list_two = sorted(list_one)\n",
    "\n",
    "list_three = []\n",
    "\n",
    "for i in list_two:\n",
    "    if i >= 50:\n",
    "        list_three.append(i)\n",
    "\n",
    "print(list_three)"
   ]
  },
  {
   "cell_type": "markdown",
   "id": "9fb9ea8f-decb-4283-9754-344524d0185d",
   "metadata": {},
   "source": [
    "### 2."
   ]
  },
  {
   "cell_type": "code",
   "execution_count": 20,
   "id": "7ddf53a6-b342-404b-8dc6-d7fa54acc63a",
   "metadata": {
    "scrolled": true
   },
   "outputs": [
    {
     "data": {
      "text/plain": [
       "{'g': 3,\n",
       " 'o': 2,\n",
       " 'd': 2,\n",
       " 'i': 5,\n",
       " 'y': 2,\n",
       " 'b': 2,\n",
       " 'a': 2,\n",
       " 'k': 2,\n",
       " 'ö': 1,\n",
       " 't': 2,\n",
       " 'ü': 2,\n",
       " 'u': 3,\n",
       " 'l': 3,\n",
       " 'ç': 1,\n",
       " 'r': 1,\n",
       " 'n': 1,\n",
       " 'e': 2,\n",
       " 'f': 1,\n",
       " 'z': 1}"
      ]
     },
     "execution_count": 20,
     "metadata": {},
     "output_type": "execute_result"
    }
   ],
   "source": [
    "# Fonksiyonlar ve Sözlükler: Bir sözlükte her harfin kaç defa\n",
    "# geçtiğini bulan bir fonksiyon yazın (örn: {'a': 3, 'b': 2}).\n",
    "\n",
    "\n",
    "def find_letter(x):\n",
    "    dict1 = {}\n",
    "    for i in x:\n",
    "        if i.isalpha():\n",
    "            i = i.lower()\n",
    "            if i in dict1:\n",
    "                dict1[i] += 1\n",
    "            else:\n",
    "                dict1[i] = 1\n",
    "    return dict1\n",
    "\n",
    "y = \"\"\"{\"good\": \"iyi\",\n",
    "    \"bad\": \"kötü\",\n",
    "    \"ugly\": \"çirkin\",\n",
    "    \"beautiful\": \"güzel\"}\"\"\"\n",
    "\n",
    "find_letter(y)"
   ]
  },
  {
   "cell_type": "code",
   "execution_count": 22,
   "id": "7194e046-a579-48ed-90d2-a5489037f6bf",
   "metadata": {},
   "outputs": [
    {
     "data": {
      "text/plain": [
       "{'g': 3,\n",
       " 'o': 2,\n",
       " 'd': 2,\n",
       " 'i': 5,\n",
       " 'y': 2,\n",
       " 'b': 2,\n",
       " 'a': 2,\n",
       " 'k': 2,\n",
       " 'ö': 1,\n",
       " 't': 2,\n",
       " 'ü': 2,\n",
       " 'u': 3,\n",
       " 'l': 3,\n",
       " 'ç': 1,\n",
       " 'r': 1,\n",
       " 'n': 1,\n",
       " 'e': 2,\n",
       " 'f': 1,\n",
       " 'z': 1}"
      ]
     },
     "execution_count": 22,
     "metadata": {},
     "output_type": "execute_result"
    }
   ],
   "source": [
    "def sozluk_harf_sayaci(sozluk):\n",
    "    harf_sayilari = {}\n",
    "    \n",
    "    for key, value in sozluk.items():\n",
    "        \n",
    "        for karakter in str(key) + str(value):\n",
    "            if karakter.isalpha(): \n",
    "                karakter = karakter.lower()  \n",
    "                harf_sayilari[karakter] = harf_sayilari.get(karakter, 0) + 1\n",
    "                \n",
    "    return harf_sayilari\n",
    "\n",
    "\n",
    "x = {\"good\": \"iyi\",\n",
    "    \"bad\": \"kötü\",\n",
    "    \"ugly\": \"çirkin\",\n",
    "    \"beautiful\": \"güzel\"}\n",
    "\n",
    "sozluk_harf_sayaci(x)"
   ]
  },
  {
   "cell_type": "code",
   "execution_count": 16,
   "id": "112884e7-29cf-4b03-997b-8757c2274e49",
   "metadata": {},
   "outputs": [
    {
     "data": {
      "text/plain": [
       "{'g': 1,\n",
       " 'o': 1,\n",
       " 'd': 1,\n",
       " 'b': 1,\n",
       " 'a': 1,\n",
       " 'u': 1,\n",
       " 'l': 1,\n",
       " 'y': 1,\n",
       " 'e': 1,\n",
       " 't': 1,\n",
       " 'i': 1,\n",
       " 'f': 1}"
      ]
     },
     "execution_count": 16,
     "metadata": {},
     "output_type": "execute_result"
    }
   ],
   "source": [
    "x = {\"good\": \"iyi\",\n",
    "    \"bad\": \"kötü\",\n",
    "    \"ugly\": \"çirkin\",\n",
    "    \"beautiful\": \"güzel\"}\n",
    "dict1 = {} \n",
    "for i, j in x.items():\n",
    "    for k in i:\n",
    "        dict1[k] = len(k)\n",
    "dict1"
   ]
  },
  {
   "cell_type": "markdown",
   "id": "19cea0ab-7c57-4f5e-8762-2f2596da6360",
   "metadata": {},
   "source": [
    "### 3."
   ]
  },
  {
   "cell_type": "code",
   "execution_count": 28,
   "id": "499709fb-29c7-4dbd-9998-55c43e3f00fe",
   "metadata": {
    "scrolled": true
   },
   "outputs": [
    {
     "data": {
      "text/html": [
       "<div>\n",
       "<style scoped>\n",
       "    .dataframe tbody tr th:only-of-type {\n",
       "        vertical-align: middle;\n",
       "    }\n",
       "\n",
       "    .dataframe tbody tr th {\n",
       "        vertical-align: top;\n",
       "    }\n",
       "\n",
       "    .dataframe thead th {\n",
       "        text-align: right;\n",
       "    }\n",
       "</style>\n",
       "<table border=\"1\" class=\"dataframe\">\n",
       "  <thead>\n",
       "    <tr style=\"text-align: right;\">\n",
       "      <th></th>\n",
       "      <th>country</th>\n",
       "      <th>description</th>\n",
       "      <th>designation</th>\n",
       "      <th>points</th>\n",
       "      <th>price</th>\n",
       "      <th>province</th>\n",
       "      <th>region_1</th>\n",
       "      <th>region_2</th>\n",
       "      <th>taster_name</th>\n",
       "      <th>taster_twitter_handle</th>\n",
       "      <th>title</th>\n",
       "      <th>variety</th>\n",
       "      <th>winery</th>\n",
       "    </tr>\n",
       "  </thead>\n",
       "  <tbody>\n",
       "    <tr>\n",
       "      <th>0</th>\n",
       "      <td>Italy</td>\n",
       "      <td>Aromas include tropical fruit, broom, brimston...</td>\n",
       "      <td>Vulkà Bianco</td>\n",
       "      <td>87</td>\n",
       "      <td>NaN</td>\n",
       "      <td>Sicily &amp; Sardinia</td>\n",
       "      <td>Etna</td>\n",
       "      <td>NaN</td>\n",
       "      <td>Kerin O’Keefe</td>\n",
       "      <td>@kerinokeefe</td>\n",
       "      <td>Nicosia 2013 Vulkà Bianco  (Etna)</td>\n",
       "      <td>White Blend</td>\n",
       "      <td>Nicosia</td>\n",
       "    </tr>\n",
       "    <tr>\n",
       "      <th>1</th>\n",
       "      <td>Portugal</td>\n",
       "      <td>This is ripe and fruity, a wine that is smooth...</td>\n",
       "      <td>Avidagos</td>\n",
       "      <td>87</td>\n",
       "      <td>15.0</td>\n",
       "      <td>Douro</td>\n",
       "      <td>NaN</td>\n",
       "      <td>NaN</td>\n",
       "      <td>Roger Voss</td>\n",
       "      <td>@vossroger</td>\n",
       "      <td>Quinta dos Avidagos 2011 Avidagos Red (Douro)</td>\n",
       "      <td>Portuguese Red</td>\n",
       "      <td>Quinta dos Avidagos</td>\n",
       "    </tr>\n",
       "    <tr>\n",
       "      <th>2</th>\n",
       "      <td>US</td>\n",
       "      <td>Tart and snappy, the flavors of lime flesh and...</td>\n",
       "      <td>NaN</td>\n",
       "      <td>87</td>\n",
       "      <td>14.0</td>\n",
       "      <td>Oregon</td>\n",
       "      <td>Willamette Valley</td>\n",
       "      <td>Willamette Valley</td>\n",
       "      <td>Paul Gregutt</td>\n",
       "      <td>@paulgwine</td>\n",
       "      <td>Rainstorm 2013 Pinot Gris (Willamette Valley)</td>\n",
       "      <td>Pinot Gris</td>\n",
       "      <td>Rainstorm</td>\n",
       "    </tr>\n",
       "    <tr>\n",
       "      <th>3</th>\n",
       "      <td>US</td>\n",
       "      <td>Pineapple rind, lemon pith and orange blossom ...</td>\n",
       "      <td>Reserve Late Harvest</td>\n",
       "      <td>87</td>\n",
       "      <td>13.0</td>\n",
       "      <td>Michigan</td>\n",
       "      <td>Lake Michigan Shore</td>\n",
       "      <td>NaN</td>\n",
       "      <td>Alexander Peartree</td>\n",
       "      <td>NaN</td>\n",
       "      <td>St. Julian 2013 Reserve Late Harvest Riesling ...</td>\n",
       "      <td>Riesling</td>\n",
       "      <td>St. Julian</td>\n",
       "    </tr>\n",
       "    <tr>\n",
       "      <th>4</th>\n",
       "      <td>US</td>\n",
       "      <td>Much like the regular bottling from 2012, this...</td>\n",
       "      <td>Vintner's Reserve Wild Child Block</td>\n",
       "      <td>87</td>\n",
       "      <td>65.0</td>\n",
       "      <td>Oregon</td>\n",
       "      <td>Willamette Valley</td>\n",
       "      <td>Willamette Valley</td>\n",
       "      <td>Paul Gregutt</td>\n",
       "      <td>@paulgwine</td>\n",
       "      <td>Sweet Cheeks 2012 Vintner's Reserve Wild Child...</td>\n",
       "      <td>Pinot Noir</td>\n",
       "      <td>Sweet Cheeks</td>\n",
       "    </tr>\n",
       "  </tbody>\n",
       "</table>\n",
       "</div>"
      ],
      "text/plain": [
       "    country                                        description  \\\n",
       "0     Italy  Aromas include tropical fruit, broom, brimston...   \n",
       "1  Portugal  This is ripe and fruity, a wine that is smooth...   \n",
       "2        US  Tart and snappy, the flavors of lime flesh and...   \n",
       "3        US  Pineapple rind, lemon pith and orange blossom ...   \n",
       "4        US  Much like the regular bottling from 2012, this...   \n",
       "\n",
       "                          designation  points  price           province  \\\n",
       "0                        Vulkà Bianco      87    NaN  Sicily & Sardinia   \n",
       "1                            Avidagos      87   15.0              Douro   \n",
       "2                                 NaN      87   14.0             Oregon   \n",
       "3                Reserve Late Harvest      87   13.0           Michigan   \n",
       "4  Vintner's Reserve Wild Child Block      87   65.0             Oregon   \n",
       "\n",
       "              region_1           region_2         taster_name  \\\n",
       "0                 Etna                NaN       Kerin O’Keefe   \n",
       "1                  NaN                NaN          Roger Voss   \n",
       "2    Willamette Valley  Willamette Valley        Paul Gregutt   \n",
       "3  Lake Michigan Shore                NaN  Alexander Peartree   \n",
       "4    Willamette Valley  Willamette Valley        Paul Gregutt   \n",
       "\n",
       "  taster_twitter_handle                                              title  \\\n",
       "0          @kerinokeefe                  Nicosia 2013 Vulkà Bianco  (Etna)   \n",
       "1            @vossroger      Quinta dos Avidagos 2011 Avidagos Red (Douro)   \n",
       "2           @paulgwine       Rainstorm 2013 Pinot Gris (Willamette Valley)   \n",
       "3                   NaN  St. Julian 2013 Reserve Late Harvest Riesling ...   \n",
       "4           @paulgwine   Sweet Cheeks 2012 Vintner's Reserve Wild Child...   \n",
       "\n",
       "          variety               winery  \n",
       "0     White Blend              Nicosia  \n",
       "1  Portuguese Red  Quinta dos Avidagos  \n",
       "2      Pinot Gris            Rainstorm  \n",
       "3        Riesling           St. Julian  \n",
       "4      Pinot Noir         Sweet Cheeks  "
      ]
     },
     "execution_count": 28,
     "metadata": {},
     "output_type": "execute_result"
    }
   ],
   "source": [
    "# CSV Dosya İşlemi: Bir CSV dosyasından veriyi okuyarak her satırdaki ilk sütunu bir listeye ekleyen bir program yazın.\n",
    "import pandas as pd\n",
    "df = pd.read_csv(\"winemag-data-130k-v2.csv\", index_col = 0)\n",
    "df.head()"
   ]
  },
  {
   "cell_type": "code",
   "execution_count": 59,
   "id": "d18de613-390f-4d1c-87f0-9224b93ae455",
   "metadata": {},
   "outputs": [
    {
     "data": {
      "text/plain": [
       "['country',\n",
       " 'description',\n",
       " 'designation',\n",
       " 'points',\n",
       " 'price',\n",
       " 'province',\n",
       " 'region_1',\n",
       " 'region_2',\n",
       " 'taster_name',\n",
       " 'taster_twitter_handle',\n",
       " 'title',\n",
       " 'variety',\n",
       " 'winery']"
      ]
     },
     "execution_count": 59,
     "metadata": {},
     "output_type": "execute_result"
    }
   ],
   "source": [
    "list_1 = []\n",
    "\n",
    "df_1 = df[df.index == 0]\n",
    "\n",
    "for i in df_1.:\n",
    "    list_1.append(i)\n",
    "list_1"
   ]
  },
  {
   "cell_type": "code",
   "execution_count": 56,
   "id": "82e9a90a-dcc4-4cf8-842f-4696b7528bca",
   "metadata": {},
   "outputs": [
    {
     "data": {
      "text/plain": [
       "<bound method NDFrame.take of   country                                        description   designation  \\\n",
       "0   Italy  Aromas include tropical fruit, broom, brimston...  Vulkà Bianco   \n",
       "\n",
       "   points  price           province region_1 region_2    taster_name  \\\n",
       "0      87    NaN  Sicily & Sardinia     Etna      NaN  Kerin O’Keefe   \n",
       "\n",
       "  taster_twitter_handle                              title      variety  \\\n",
       "0          @kerinokeefe  Nicosia 2013 Vulkà Bianco  (Etna)  White Blend   \n",
       "\n",
       "    winery  \n",
       "0  Nicosia  >"
      ]
     },
     "execution_count": 56,
     "metadata": {},
     "output_type": "execute_result"
    }
   ],
   "source": [
    "df_1 = df[df.index == 0]\n",
    "df_1.take"
   ]
  },
  {
   "cell_type": "code",
   "execution_count": 55,
   "id": "03239979-9d5a-4b04-accc-ef8d59d3828d",
   "metadata": {
    "scrolled": true
   },
   "outputs": [
    {
     "name": "stdout",
     "output_type": "stream",
     "text": [
      "- ilk_sutun_listele fonksiyonu 0.02 saniye sürdü.)\n",
      "['\\ufeffFilm İsmi', 'Envidiosa', 'What’s Next: The Future with Bill Gates', 'American Sports Story', 'Margarita', 'Van der Valk', 'Moonflower Murders', 'Culinary Class Wars', 'Nadie nos va a extrañar', 'In Vogue: The 90s', 'How to Die Alone', 'Nightsleeper', 'Austin', 'The Good Ship Murder', 'Hotel Portofino', 'En Fin', 'Ángel Di María: Romper la pared', 'Billionaire Island', 'Seoul Busters', 'Jack Whitehall: Fatherhood with My Father', 'Return to Paradise', 'Doctor Odyssey', 'Murder in a Small Town', 'High Potential', 'NCIS: Origins', 'Brilliant Minds', 'Stags', 'El portal: La historia oculta de Zona Divas', 'The Perfect Couple', 'Fight Night: The Million Dollar Heist', 'Dead and Buried', 'This Town', 'Vidas Bandidas', 'Festning Norge', 'English Teacher', 'Until I Kill You', 'Blue Ridge: The Series', 'A-List to Playlist', 'Respira', 'IC 814: The Kandahar Hijack', 'Chastity High', 'Worst Ex Ever', 'Selenkay', 'Odwilż', 'La voz ausente', 'Under the Vines', 'The Frog', 'GG Precinct', 'Wyatt Earp and the Cowboy War', 'Pop Star Academy: KATSEYE', 'Accidente', 'We Might Regret This', 'Kidnapped: The Chloe Ayling Story', 'Granite Harbour', 'Terror Tuesday: Extreme', 'Signora Volpe', 'Royal Crackers', 'Doomlands', 'Daddy Issues', 'Sakuna: Of Rice and Ruin', 'Romance in the House', 'Love Next Door', 'Perfekt Verpasst', 'The Tyrant', 'American Murder: Laci Peterson', 'Critical Incident', 'Kljun', 'Devil’s Peak', 'El Mantequilla: Maestro de la estafa', 'Blue Ribbon Baking Championship', 'The Famous Five', 'Digman!', 'Tunna blå linjen', 'Mr. Throwback', 'Love Is Blind: UK', 'Secret World of Sound with David Attenborough', 'The Influencer', 'The Mallorca Files', 'The Boyfriend', 'Love is Blind: México', 'Cowboy Cartel', 'Batman: Caped Crusader', 'Las Azules', 'Agatha All Along', 'KAOS', 'Bad Monkey', 'Like a Dragon: Yakuza', 'Dexter: Original Sin', 'Creature Commandos', 'The Day of the Jackal', 'The Penguin', 'Tokyo Swindlers', 'Dirty Pop: The Boy Band Scam', 'Time Bandits', 'Resurrected Rides', 'Piglets', 'Eve', 'Mr. Bigstuff', 'Primate', 'Iosi, el espía arrepentido', 'Grace', 'A Body That Works', 'Terminator Zero', 'Rick and Morty: The Anime', 'Omnivore', 'Betty la fea: La historia continúa', 'Master of the House', 'Tribhuvan Mishra CA Topper', 'Kite Man: Hell Yeah!', 'The Jetty', 'Il caso Yara: oltre ogni ragionevole dubbio', 'Simone Biles: Rising', 'LaLiga: Más allá del gol', 'Sierra Madre: Prohibido Pasar', 'The Night Caller', 'The Truth', 'Spent', 'Las Pelotaris 1926', 'MILF of Norway', 'Antihero', 'STHLM Blackout', 'Emperor of Ocean Park', 'Exploding Kittens', 'Me', 'Receiver', 'The Twelve', 'Elkhorn', 'Fake', 'Kinnikuman Kanpeki Chôjin Shiso-hen', 'Pedaço de Mim', 'The Decameron', 'Sunny', 'Lady in the Lake', 'The Man with 1000 Kids', 'Red Swan', 'A Good Girl’s Guide to Murder', 'Entre tierras', 'Sprint', 'Douglas Is Cancelled', 'Northern Lights', 'Rules of the Game', 'Oloture: The Journey', 'Owning Manhattan', 'The Whirlwind', 'WondLa', 'Lucrecia: un crimen de odio', 'La pasión turca', 'Suicide Squad Isekai', 'Nanatsu no Taizai: Mokushiroku no Yonkishi', 'Avoidance', 'Supacell', 'Tierra de mujeres', 'Kaulitz & Kaulitz', 'Good Grief', 'Insomnia', 'Exposure', 'Rising Impact', 'Clanes', 'AMERICA’S SWEETHEARTS: Dallas Cowboys Cheerleaders', 'Something Undone', 'Las invisibles', 'Pyramid Game', 'Desde el mañana', 'Jana – Märkta för livet', 'Agents of Mystery', 'Miss Night and Day', 'Brain Works', 'Beauty and Mr. Romantic', 'Joko Anwar’s Nightmares and Daydreams', 'Doctor Climax', 'Shooting Stars', 'Concordia', 'Changing Ends', '¿Quién lo mató?', 'Hierarchy', 'Lost Boys & Fairies', 'Becoming Karl Lagerfeld', 'Desejos S.A.', 'Hitler and the Nazis: Evil on Trial', 'Queenie', 'Clipped', 'We Are Lady Parts', 'Hotel Cocaine', 'My Lady Jane', 'Presumed Innocent', 'Dune: Prophecy', 'Murder Is Easy', 'Viktor Bringt’s', 'Ni una más', 'Big Mood', 'Breathtaking', 'County Rescue', 'Dinosaur', 'Fisk', 'Eric', 'Geek Girl', 'Camden', 'La vita che volevi', 'Dancing for the Devil: The 7M TikTok Cult', 'The Baxters', 'The Outlaws', 'Colin from Accounts', 'Rebus', 'Boarders', 'Three Women', 'Jurassic World: Chaos Theory', 'Garouden: The Way of the Lone Wolf', 'Tires', 'Pauline', 'Toughest Forces on Earth', 'Buying London', 'Maestro', 'Ghoul', 'Dinner with the Parents', 'The Gathering', 'The Red King', 'The 8 Show', 'The Big Cigar', 'Uncle Samsik', 'Ashley Madison: Sex, Lies & Scandal', 'High Country', 'Heder', 'White Fever', 'Las largas sombras', 'The Ultimatum: South Africa', 'El Rey del Cachopo: César Román', 'Maxton Hall – Die Welt Zwischen Uns', 'Bodkin', 'Hollywood Con Queen', 'Super Rich in Korea', 'The Atypical Family', 'Star Wars: Tales of the Empire', 'Postcards', 'Ninja Kamui', 'A Man in Full', 'T. P. Bon', 'The Tattooist of Auschwitz', 'Frankly Speaking', 'Fiasco', 'Ourika', 'Tout va bien', 'Goodbye Earth', 'El caso Asunta', 'Knuckles', 'Dead Boy Detectives', 'House of the Owl', 'I dina händer', 'Too Good to Be True', 'The Spiderwick Chronicles', 'Red Eye', 'Fight for Paradise: Who Can You Trust?', 'Briganti', 'Bros', 'Blood Free', 'Mauvais joueurs', 'The Grimm Variations', 'Veronika', 'The Cuckoo', 'Our Living World', 'Dark Matter (2024)', 'The Veil', 'Under the Bridge', 'Shardlake', 'White Lies', 'Prosper', 'Franklin', 'Good Times', 'Baby Reindeer', 'Midsummer Night', 'Unlocked: A Jail Experiment', 'Secuestro del vuelo 601', 'Anthracite', 'Wreck', 'Davey & Jonesie’s Locker', 'Crooks', 'Ripley', 'Parasyte: The Grey', 'Crime Scene Berlin: Nightlife Killer', 'Files of the Unexplained', 'Together: Treble Winners', 'Sugar', 'Ronja Rövardotter', 'The Believers', 'Testament: The Story of Moses', 'Renegade Nell', 'We Were the Lucky Ones', 'Passenger', 'Coma 2024', 'Love Rat', 'Catch Me A Killer', 'Ark: The Animated Series', 'The Acolyte', 'The Trades', 'X-Men ’97', 'Sand Land: The Series', 'Homicide: New York', 'Palm Royale', 'Apples Never Fall', 'Outreau : un cauchemar français', 'Chicken Nugget', 'Mano de hierro', '3 Body Problem', 'Population: 11', 'The Girls on the Bus', 'O Ninho: Futebol e Tragédia', 'Bandidos', 'Allegiance 2024', 'Turning Point: The Bomb and the Cold War', 'Manhunt', 'A Gentleman in Moscow', 'Blackshore', 'Mary & George', 'ARA San Juan: El submarino que desapareció', 'Das Signal', 'The Gentlemen', 'Supersex', 'The Program: Cons, Cults, and Kidnapping', 'No Activity: Niente da Segnalare', 'Maamla Legal Hai', 'Aníkúlápó: Rise of the Spectre', 'Furies', 'Dead Hot', 'Elsbeth', 'The Completely Made-Up Adventures of Dick Turpin', 'Reina Roja', 'American Conspiracy: The Octopus Murders', 'The Impossible Heir', 'Finders Keepers', 'G’wed', 'The Second Best Hospital in the Galaxy', 'Law & Order Toronto: Criminal Intent', 'Shôgun (2024)', 'Avatar: The Last Airbender 2024', 'Can I Tell You A Secret?', 'Constellation', 'The Way', 'Ready, Set, Love', 'The Vince Staples Show', 'House of Ninjas', 'The New Look', 'Desperate Measures', 'Tracker', 'A Killer Paradox', 'One Day', 'The Sex Lives of College Girls', 'Raël: The Last Prophet', 'Summer Love', 'Family Law', 'Truelove', 'Safe Home', 'A Bloody Lucky Day', 'Domino Day', 'Choir', 'Baby Bandito', 'Alexander: The Making of a God', 'Finding Alice', 'Trigger Point', 'Son of a Critch', 'Love is Blind: Sverige', 'In the Know', 'Peckham Mix', 'Griselda', 'Nesting', 'A Real Bug’s Life', 'Masters of the Universe: Revolution', 'Six Nations: Full Contact', 'Sight Unseen', 'Sexy Beast', 'Expats', 'Doctor Slump', 'Captivating the King', 'Welcome to Samdal-ri', 'Indian Police Force', 'Cristóbal Balenciaga', 'The Bequeathed', 'Late Bloomer', 'Zorro', 'One More Time', 'Single’s Inferno', 'A Shop for Killers', 'Kübra', 'Ponto Final', 'American Nightmare', 'The Trust: A Game of Greed', 'Death and Other Details', 'Hazbin Hotel', 'After the Flood', 'Run the Burbs', 'Three Little Birds', 'Slovo patsana. Krov na asfalte', 'Total Control', 'Mr. & Mrs. Smith', 'Killer Soup', 'Forst', 'Boy Swallows Universe', 'Grimsburg', 'The Great North', 'Belgravia: The Next Chapter', 'Wild Cards', 'Dungeon Meshi', 'The Brothers Sun', 'Yeoshingangrim', 'Ishiko to Haneo: Sonna Koto de Uttaemasu?', 'Vivant', 'Riding A Unicorn', 'Entitled', 'High School', 'You Are What You Eat: A Twin Experiment', 'Fool Me Once', 'Cheer Up', 'Gumihodyeon', 'Hometown', 'Castaway Diva', 'Captains of the World', 'Somewhere Boy', 'The Castaways', 'Grime Kids', 'Erotic Stories', 'Pokémon Concierge', 'Raffa', 'Four Lives', 'Börje – The Journey of a Legend', 'Unwanted', 'Strife', 'This Is Going to Hurt', 'Escort Boys', 'Planners', 'The Tourist', 'Cristo y Rey', 'El Niñero', 'Hollington Drive', 'Extended Family', 'Gyeongseong Creature', 'Like Flowers in Sand', 'Dragons of Wonderhatch', 'Percy Jackson and the Olympians', 'BTS Monuments: Beyond the Star', 'Cindy la Regia: La serie', 'Echo', 'Ted', 'Criminal Record', 'Masters of the Air', 'The Serial Killer’s Wife', 'Se Eu Fosse Luísa Sonza', 'Yoh! Christmas', 'Carol & The End of the World', 'Yu Yu Hakusho', 'In Our Blood', 'Screw', 'Kid Sister', 'Los Farad', '1670', 'Under Pressure: The U.S. Women’s World Cup Team', 'Maxine', 'Mörkt hjärta', 'A História Delas', 'Mrs Sidhu Investigates', 'Womb Envy', 'Ingen Ängel', 'Fermat no Ryôri', 'My Demon', 'World War II: From the Frontlines', 'Knokke Off', 'Analog Squad', 'My Life with the Walter Boys', 'Pax Massilia', 'Estonia', 'The Couple Next Door', 'Paper Dolls', 'Bookie', 'Boat Story', 'Archie', 'The Artful Dodger', 'The Doll Factory', 'Bad Surgeon: Love Under the Knife', 'Onmyoji', 'Faraway Downs', 'Scrublands', 'Village', 'Olóládé', 'Replacing Chef Chico', 'En helt vanlig familj', 'Boku no Daemon', 'Squid Game: The Challenge', 'The Railway Men: The Untold Story of Bhopal 1984', 'Amar é Para os Fortes', 'Ojitos de Huevo', 'Twin Love', 'Scott Pilgrim Takes Off', 'Brawn: The Impossible Formula 1 Story', 'Deutsches Haus', 'Crashing Eid', 'Informacja Zwrotna', 'Monarch: Legacy of Monsters', 'Ridley Road', 'Últimas Férias', 'Children Ruin Everything', 'DNA do Crime', 'How to Become a Mob Boss', 'Suburræterna', 'At the Moment', 'A Murder at the End of the World', '007: Road to a Million', 'NCIS: Sydney', 'Akuma-kun', 'Culprits', 'Obituary', 'Robyn Hood', 'Motel Valkirias', 'Candy Cruz', 'Transplant', 'Escaping Twin Flames', 'The Billionaire, The Butler, and the Boyfriend', 'After the Party', 'Robbie Williams', 'Killer Coaster', 'Sebastian Fitzek’s Therapy', 'The Enfield Poltergeist', 'Romancero', 'Daily Dose of Sunshine', 'Los Billis', 'Alphonse', 'Ferry: De Serie', 'Blue Eye Samurai', 'Orphan Black: Echoes', 'Onimusha', 'Gadis Kretek', 'All the Light We Cannot See', 'Julia', 'German Crime Story: Gefesselt', 'Mysteries of the Faith', 'Till Murder Do Us Part: Soering vs. Haysom', 'Black Cake', 'Nada', 'The Burning Girls', 'Get Gotti', 'Curses!', 'The Vanishing Triangle', 'Tore', 'I Leoni di Sicilia', 'Pluto', 'Absolutni Debiutanci', 'Life on Our Planet', 'Scavengers Reign', 'Vigilante', 'Obliterated', 'Beacon 23', 'The Buccaneers', 'Fellow Travelers', 'Doona!', 'Yaratılan', 'Surviving Paradise', 'Captain Laserhawk: A Blood Dragon Remix', 'Bodies', 'Neon', 'Kaala Paani', 'I Woke Up a Vampire', 'Ilhados com a Sogra', 'John Carpenter’s Suburban Screams', 'Everybody Loves Diamonds', 'Frasier', 'Good Night World', 'Big Vape: The Rise and Fall of Juul', 'Pacto De Silencio', 'The Reckoning', 'The Catch 2023', 'COBRA', 'While the Men are Away', 'Payback', 'Harry Wild', 'Everything Now', 'Boiling Point', 'The Long Shadow', 'The Inheritance', 'Beckham', 'Found', 'Ruby Speaking', 'Krapopolis', 'Crazy Fun Park', 'Choona', 'Castlevania: Nocturne', 'Vasco Rossi: Il Supervissuto', 'Encounters', 'Who Killed Jill Dando?', 'The Irrational', 'Shoresy', 'Creamerie', 'Song of the Bandits', 'Still Up', 'Moving', 'Kengan Ashura', 'Young Love', 'Our Flag Means Death', 'Welcome to Wrexham', 'Juice', 'Fifteen-Love', 'The Super Models', 'Lessons in Chemistry', 'The Fall of the House of Usher', 'Goosebumps', 'Champion', 'Dreaming Whilst Black', 'Henpocalypse!', 'Miseducation', 'A Thin Line', 'Wilderness', 'Las viudas de los jueves', 'Wrestlers', 'The Lovers', 'The Other Black Girl', 'Tapie', 'The Killing Kind', 'Warszawianka', 'A Time Called You', 'Spy Ops', 'El cuerpo en llamas', 'Gamera: Rebirth', 'The Changeling', 'Liebes Kind', 'One Night', 'Tahir’s House', '6ixtynin9: The Series', 'Infamia', 'Reporting for Duty', 'The Chelsea Detective', 'Then You Run', 'Black Ops', 'The Lost Flowers of Alice Hart', 'Spellbound', 'The Following Events Are Based on a Pack of Lies', 'Live to 100: Secrets of the Blue Zones', 'Heart of Invictus', 'The Woman in the Wall', 'Wanted: The Escape of Carlos Ghosn', 'Average Joe', 'Who Is Erin Carter?', 'The Claremont Murders', 'Untold: Swamp Kings', 'V.C. Andrews’ Dawn', 'The Winter King', 'Pending Train', 'Guns & Gulaabs', 'Mask Girl', 'Harlan Coben’s Shelter', 'Cangaço Novo', 'Mala Fortuna', 'Bay of Fires', 'Depp V Heard', 'At Home with the Furys', 'The Chosen One', 'Strange Planet', 'The Change', 'The Power of Parker', 'Mech Cadets', 'Painkiller', 'Zombieverse', 'Wolf', 'The Big Nailed It Baking Challenge', 'The Hunt for Veerappan', 'Las últimas horas de Mario Biondo', 'The Swarm', 'Captain Fall', 'Un cuento perfecto', 'How to Become a Cult Leader', 'Bel-Air', 'Praise Petey', 'The Tower', 'The Righteous Gemstones', 'Pørni', 'Nede', 'Justified: City Primeval', 'The Dessert', 'Kohrra', 'Ride', 'Falso Amor', 'Full Circle', 'Survival of the Thickest', 'Burn the House Down', 'Sugar Rush: The Baking Point', 'Quarterback', 'Hack My Home', 'Fatal Seduction', 'The Horror of Dolores Roach', 'My Adventures with Superman', 'Il Principe', 'FreeKs', 'Delete Me', 'Celebrity', 'Ōoku: The Inner Chambers', 'Delete', 'Cannes Confidential', 'Wormwood', 'Arkitekten', 'I’m a Virgo', 'Let’s Get Divorced', 'Social Currency', 'Schlafende Hunde', 'Skull Island', 'Glamorous', 'The Other Two', 'The Full Monty', 'Queen of Oz', 'North Shore', 'For Her Sins', 'Clean Sweep', 'And Just Like That…', 'Berlín', 'One Piece 2023', 'The Wonder Years', 'Bupkis', 'Madre de alquiler', 'Year Of', 'Upright', 'Totally Completely Fine', 'Best Interests', 'Dirk Gently’s Holistic Detective Agency', 'Hijack', 'Twisted Metal', 'The Gallows Pole', 'Without Sin', 'The Messenger', 'Tex Mex Motors', 'Questo mondo non mi renderà cattivo', 'Baraja: La firma del asesino', 'Bloodhounds', 'The Crowded Room', 'Tour de France: Unchained', 'Based on a True Story', 'Car Masters: Rust to Riches', 'Arnold', 'Barracuda Queens', 'Cheer', 'The Hunt for Raoul Moat', 'Ten Pound Poms', 'Steeltown Murders', 'Slip', 'Primo', 'Maryland', 'Malpractice', 'In Limbo', 'Shiny Happy People: Duggar Family Secrets', 'Deadloch', 'The Days', 'City of Ghosts', 'Perfil falso', 'Welcome to the Family', 'Bang Bang Baby', 'Joe Pickett', 'Fired on Mars', 'Casa Grande', 'Bring Back Alice', 'Rabo de Peixe', 'Der Greif', 'The Clearing', 'The Ultimatum: Queer Love', 'Little Bird', 'American Born Chinese', 'Platonic', 'MerPeople', 'Big Beasts', 'No Escape', 'Six Four', 'Shelved', 'El silencio', 'Ghosts of Beirut', 'Spy/Master', 'Yakitori: Soldiers of Misfortune', 'XO, Kitty', 'McGregor Forever', 'Working: What We Do All Day', 'High Desert', 'Pollos sin cabeza', 'Mulligan', 'Black Knight', 'City on Fire', 'Dois Tempos', 'Missing: Dead or Alive?', 'Dance Brothers', 'Queen Cleopatra', 'Class of ’09', 'The Muppets Mayhem', 'Unicorn: Warriors Eternal', 'Tom Jones', 'Sam – A Saxon', 'Queen Charlotte: A Bridgerton Story', 'Sankuchuari', 'Ed Sheeran: The Sum of It All', 'Jewish Matchmaking', 'A Small Light', 'Terzi', 'White House Plumbers', 'Silo', 'Call It Love', 'Virgin', 'Ralph & Katie', 'Alaska’s Grizzly Gauntlet', 'Secrets of the Elephants', 'Matildas: The World at Our Feet', '7 Toughest Days', 'Saint X', 'Jury Duty', 'Los pacientes del doctor García', 'Wave Makers', 'King of Collectibles: The Goldin Touch', 'Citadel', 'The Nurse', 'Fatal Attraction', 'Love & Death', 'El amor después del amor', 'Fubar', 'EZRA', 'Mrs. Davis', 'Rough Diamonds', 'Drops of God', 'Plan B', 'Klub Kecanduan Mantan', 'The Diplomat', 'Chimp Empire', 'How to Get Rich', 'Django', 'Blue Lights', 'My Kind of Country', 'La Firma', 'Queenmaker', 'Jane', 'Salade grecque', 'Waco: The Aftermath', 'The Last Thing He Told Me', 'Il Caso Alex Schwazer', 'Florida Man', 'Obsession', 'American Manhunt: The Boston Marathon Bombing', 'Dead Ringers', 'Ahsoka', 'Susah Sinyal: The Series', 'Tiny Beautiful Things', 'Last of the Giants', 'Jusqu’ici tout va bien', 'Transatlantic', 'IRL: In Real Love', 'Beef', 'Grease: Rise of the Pink Ladies', 'The Good Mothers', 'Viaje al centro de la tierra', 'The Crossover', 'Vinland Saga', 'Krigsseileren', 'Copycat Killer', 'Wellmania', 'From Me to You: Kimi ni Todoke', 'The Interest of Love', 'Unseen', 'Rūrangi', 'Emergency NYC', 'The Big Door Prize', 'Up Here', 'Biz Kimden Kaçıyorduk Anne?', 'Rabbit Hole', 'The Night Agent', 'Waco: American Apocalypse', 'Sin Huellas', 'Grand Crew', 'A Town Called Malice', 'Everyone Else Burns', 'Dance 100', 'Hasta el cielo: La serie', 'Monster Factory', 'Agent Elvis', 'Lucky Hank', 'Class of ’07', 'Swarm', 'Homeland', 'Cheat', 'La ley de la selva', 'Beyond Paradise', 'Chef’s Table: France', 'Chef’s Table: BBQ', 'Cooked with Cannabis', 'Street Food: USA', 'Street Food: Asia', 'Street Food: Latin America', 'A Nation of Broth', 'Exhibit A', 'Rana Naidu', 'Unprisoned', 'The Spencer Sisters', 'Sex, Explained', 'Wong & Winchester', 'Outlast', 'Real Madrid: Until the End', 'El grito de las mariposas', 'El club de los graves', 'MH370: The Plane That Disappeared', 'Snowfall', 'School Spirits', 'The Captain', 'Extrapolations', 'The Power', 'Unstable', 'Daisy Jones & The Six', 'L’Affaire Fourniret', 'True Lies', 'Too Hot to Handle: Germany', 'R.I.P. Henry', 'Perfect Match', 'Maternal', 'You & Me', 'The Reluctant Traveler', 'Web of Death', 'Liaison', 'The Consultant', 'Murdaugh Murders: A Southern Scandal', 'Tríada', 'La chica invisible', 'Physical: 100', 'Age of Tanks', 'Headspace: Guide to Meditation', 'Headspace Guide to Sleep', 'Salt Fat Acid Heat', 'Donkerbos', 'Bad Behaviour', 'Horario Estelar', 'The Company You Keep', 'Better', 'Dam', 'Limbo: Hasta que lo Decida', 'Last King of the Cross', 'Animal Control', 'La Cabeza de Joaquín Murrieta', 'División Palermo', 'Dziewczyna i kosmonauta', 'Hello Tomorrow!', 'Mila no Multiverso', 'Sem Filtro', 'La primera vez', 'African Queens: Njinga', 'Full Swing', 'La legge di Lidia Poët', 'The Romantics', 'Todas las veces que nos enamoramos', 'Souls', 'The Gold', 'Blackout', 'Funny Woman', 'Love to Hate You', 'Tell Me Everything', 'Toppen', 'Love Addicts', 'Santo Maldito', 'Not Dead Yet', 'Bosé', 'The Exchange', 'Oh Hell', 'Island (Aillaendeu)', 'Gannibal', 'Class (2023)', 'Nolly', 'The Ex-Wife', 'Dear Edward', 'A Spy Among Friends', 'Girls5eva', 'Freeridge', 'Make My Day', 'The Ark', 'Gunther’s Millions', 'The Watchful Eye', 'The Walk-In', 'The Way Home', 'Chemistry of Death', 'Cochina envidia', 'Taiwan Crime Stories', 'Amor con Fianza: Destino Cerdena', 'Amor con fianza: Polonia', 'La Chica de Nieve', 'Lockwood & Co', 'Shrinking', 'Kajino', 'Wolf Pack', 'Todo Dia a Mesma Noite', 'Contra las cuerdas', 'Extraordinary', 'The Confessions of Frannie Langton', 'Stonehouse', 'The Flatshare', 'Accused', 'Hotel Del Luna', 'Business Proposal', 'Myeongbulheojeon', 'Backstreet Rookie', 'Romantic Getaway', 'En Place', 'Shanty Town', 'Bling Empire: New York', 'Les combattantes', 'Junji Ito Maniac: Japanese Tales of the Macabre', 'That ’90s Show', 'Night Court', 'Dünyayla Benim Aramda', 'Karen Pirie', 'Trial by Fire', 'Break Point', 'Chasing Waves', 'Koala Man', 'Alert', 'Litvinenko', 'Anne Rice’s Mayfair Witches', 'The Ultimatum: France', 'The Rig', 'Pressure Cooker', 'Totenfrau', 'Copenhagen Cowboy', 'Kindred', 'Will Trent', 'Madoff: The Monster of Wall Street', 'La Vita Bugiarda Degli Adulti', 'Şahmaran', 'Olhar Indiscreto', 'Black Snow', 'Kaleidoscope', 'The Glory', 'Machos Alfa', 'Ben Gri', 'Treason', 'The Witcher: Blood Origin', 'The Fabulous', '1923', 'Modern Love Amsterdam', 'Far From Home', 'The Recruit', 'Julestorm', 'Cook at All Costs', 'Summer Job', 'Dance Monsters', 'Don’t Pick Up the Phone', 'Brokat', 'National Treasure: Edge of History', 'Vale dos Esquecidos', 'The Calling', 'Dragon Age: Absolution', 'Lookism', 'The Bad Guy', 'Connect', 'La flor más bella', 'Smiley', 'Odio il Natale', 'George & Tammy', 'Three Pines', 'La última', 'Irreverent', 'Pewnego razu na krajowej jedynce', 'Crime Scene: The Texas Killing Fields', 'Snack vs. Chef', 'Pitch Perfect: Bumper in Berlin', 'Welcome to Chippendales', 'Our Universe', 'Blood, Sex & Royalty', 'First Love', 'Wednesday', 'Echo 3', 'Somebody', 'Fleishman Is in Trouble', 'Pepsi, Where’s My Jet?', '1899', 'Mind Your Manners', 'The Santa Clauses', 'Mammals', 'Circuit Breakers', 'Panhandle', 'SAS Rogue Heroes', 'Stuck', 'Cunk on Earth', 'FIFA Uncovered', 'Urban Legend', 'Dangerous Liaisons', 'Buying Beverly Hills', 'El Fin del Amor', 'Killer Sally', 'Blockbuster', '¡García!', 'I Am a Stalker', 'Mi Encuentro con El Mal', 'Shards of Her', 'Si lo hubiera sabido', 'Drink Masters', 'The Bastard Son & The Devil Himself', 'The Devil’s Hour', 'Earthstorm', 'Romantic Killer', 'Dubai Bling', 'Captains', 'Tales of the Jedi', 'Guillermo del Toro’s Cabinet of Curiosities', 'From Scratch', '28 Days Haunted', 'Vatican Girl: The Disappearance of Emanuela Orlandi', 'Notre-Dame', 'Gang Zielonej Rekawiczki', 'Les papillons noirs', 'Sagrada familia', 'Tutto Chiede Salvezza', 'Shantaram', 'The Playlist', 'The Watcher', 'Sue Perkins: Perfectly Legal', 'Exception', 'Wild Croc Territory', 'Belascoarán', 'Island of the Sea Wolves', 'Crossfire', 'Reginald the Vampire', 'Let the Right One In', 'A Friend of the Family', 'Fire Country', 'Alaska Daily', 'Conversations with a Killer: The Jeffrey Dahmer Tapes', 'The Mole', 'Geullichi', 'The Midnight Club', 'Wielka Woda', 'Contigo Capitán', 'East New York', 'Human Playground', 'Interview with the Vampire', 'Jungle', 'So Help Me Todd', 'Die Kaiserin', 'Savage River', 'Fearless: The Inside Story of the AFLW', 'El Repatriado', 'Eat the Rich: The GameStop Saga', 'The Rookie: Feds', 'Reasonable Doubt', 'Inside Man', 'Las de la última fila', 'Thai Cave Rescue', 'Prisma', 'Wanna', 'Só Se For Por Amor', 'The Real Bling Ring: Hollywood Heist', 'Dahmer – Monster: The Jeffrey Dahmer Story', 'Designing Miami', 'Iron Chef: Mexico', 'Quantum Leap', 'Un asunto privado', 'Gymnastics Academy: A Second Chance!', 'Santo', 'The Brave Ones', 'Forsvinningen på Lørenskog', 'Sins of Our Mother', 'Heartbreak High', 'Secret Invasion', 'Terim', 'Monarch', 'Everything I Know About Love', 'Sprung', 'Wedding Season', 'Tierra Incógnita', 'Walker: Independence', 'Andor', 'Vampire Academy', 'Cyberpunk: Edgerunners', 'Gotham Knights', 'The English', 'Willow', 'Reboot', 'The Suspect', 'Ridley', 'The Serpent Queen', 'American Gigolo', 'Narco-Saints', '¿A quién le gusta mi follower?', 'The Imperfects', 'Last Light', 'Diario de un Gigoló', 'Chef’s Table: Pizza', 'Indian Predator: The Diary of a Serial Killer', 'Tell Me Lies', 'Roslund & Hellström: Box 21', 'Theodosia', 'Love Me', 'Détox', 'Fakes', 'Dated and Related', 'Tú no eres especial', 'Buy My House', 'Devil in Ohio', 'Life by Ella', 'Pantheon', 'América vs América', 'Gry rodzinne', 'The Patient', 'Swimming with Sharks', 'Red Rose', 'Drive Hard: The Maloof Way', 'Partner Track', 'Ludik', 'A Kidnapping Scandal: The Florence Cassez Affair', 'Little Demon', 'Mike', 'Onder Vuur', 'Queer Eye: Brasil', 'Selling The OC', 'Lost Ollie', 'Mo', 'Chad & JT Go Deep', 'Marriage', 'Hidden Assets', 'Our House', 'Hullraisers', 'Witness Number 3', 'Echoes', 'Kleo', 'Alma', 'Surfside Girls', 'Bad Sisters', 'TEKKEN: Bloodline', 'Nada Suspeitos', 'Donde Hubo Fuego', 'She-Hulk: Attorney at Law', 'Lie With Me', 'Redemption', 'The Undeclared War', 'Iron Chef: Brasil', 'I Just Killed My Dad', 'Tales of the Walking Dead', 'A Model Family', 'Cosmic Love', 'A League of Their Own', 'This Fool', 'Five Days at Memorial', 'School Tales the Series', 'Instant Dream Home', 'I Am Groot', 'Visitors', 'Barons', 'Fires', 'Flowers in the Attic: The Origin', 'Endless Night', 'Santa Evita', 'The Fear Index', 'Compulsion', 'Kakegurui Tsuin', 'Tamara Falcó: La Marquesa', 'Siempre Fui Yo', 'Clusterf**k: Woodstock ’99', 'Troppo', 'Rebel Cheer Squad – A Get Even Series', 'Justice Served', 'Detective Conan: Zero’s Tea Time', 'Amber Brown', 'Paper Girls', 'Uncoupled', 'Fanático', 'Zeytin Ağacı', 'Keep Breathing', 'The Most Hated Man on the Internet', 'Light & Magic', 'The Girl Before', 'The Sandman', 'The Control Room', 'The Offer', 'The Tailings', 'Holding', 'Ten Percent', 'Skymed', 'Indian Predator: The Butcher of Delhi', 'Bogdan Boner: Egzorcysta', 'Rap Sh!t', 'James May: Our Man in Italy', 'Killing It', 'Bust Down', 'Maggie', 'Gordita Chronicles', 'Alba', 'Remarriage & Desires', 'Forever Summer: Hamptons', 'Country Queen', 'Farzar', 'D.B. Cooper: Where Are You?!', 'Hurts Like Hell', 'How to Change Your Mind', 'Mystery Road: Origin', 'Suspect', 'Terror Lake Drive', 'King of Stonks', 'Pretty Little Liars: Original Sin', 'The Winchesters', 'Surface', 'The Resort', 'Black Bird', 'Boo, Bitch', 'La noche más larga', 'How to Build a Sex Room', 'Sherwood', 'Moonhaven', 'The Terminal List', 'Bastard‼ -Heavy Metal, Dark Fantasy-', 'Baymax!', 'Pirate Gold of Adak Island', 'The Future Of', 'Beyond Stranger Things', 'Close to Me', 'Angelyne', 'Efterforskningen', 'Man vs. Bee', 'Loot', 'The One That Got Away', 'Menudo: Forever Young', 'First Class', 'Królowa', 'Snowflake Mountain', 'The Hidden Lives of Pets', 'Westworld', 'Sin Límites', 'Spriggan', 'Mezarlık', 'The Lake', 'The Summer I Turned Pretty', 'Dead End: Paranormal Park', 'The Lazarus Project', 'Players', 'The Old Man', 'Web of Make Believe: Death, Lies and the Internet', 'Iron Chef: Quest for an Iron Legend', 'God’s Favorite Idiot', 'Maldivas', 'ZeroZeroZero', 'Dark Winds', 'Becoming Elizabeth', 'The Staircase', 'Queer As Folk', 'Intimidad', 'First Kill', 'The Rising', 'The Midwich Cuckoos', 'London Kills', 'Keep Sweet Pray and Obey', 'Baby Fever', 'Ms. Marvel', 'Irma Vep', 'School 2021', 'Green Mothers’ Club', 'Twee Zomers', 'Une mère parfaite', 'Mr Good: Cop or Crook?', 'Surviving Summer', 'Kuş Uçuşu', 'Pistol', 'Tom Swift', 'Prehistoric Planet', 'Shaman King', 'La Casa de Papel: Kore', 'Resident Evil', 'Vampire in the Garden', 'Obi-Wan Kenobi', 'Entrevías', 'Night Sky', 'Now and Then', 'The G Word with Adam Conover', 'Lovestruck High', 'Love on the Spectrum U.S.', 'The Kids in the Hall', 'Why Didn’t They Ask Evans?', 'MaveriX', 'Savage Beauty', 'Erşan Kuneri', 'The Lincoln Lawyer', 'The Essex Serpent', 'Neumatt', 'The Quest', '42 días en la oscuridad', 'Star Trek: Strange New Worlds', 'Candy', 'I Love That for You', 'The Big Conn', 'Annarasumanara', 'Bosch: Legacy', 'Bienvenidos a Edén', 'Wild Babies', 'Blood Sisters', 'Clark', 'The Pentaverate', 'Meltdown: Three Mile Island', 'Life After Life', 'Make or Break', 'Sketchbook', 'Shining Girls', 'Under the Banner of Heaven', 'Bullsh*t the Game Show', 'The Man Who Fell to Earth', 'Billy the Kid', 'The Baby', 'Gaslit', 'The Long Game: Bigger Than Basketball', 'Zachowaj Spokój', 'Heartstopper', 'Les 7 vies de Léa', 'Abbott Elementary', 'They Call Me Magic', 'Hiyama Kentarô no Ninshin', 'Conversations with a Killer: The John Wayne Gacy Tapes', 'Pálpito', 'Magpie Murders', 'The First Lady', 'Anatomy of a Scandal', 'Los Herederos de la Tierra', 'Yakamoz S-245', 'Outer Range', 'Fear the Walking Dead: Dead in the Water', 'Our Great National Parks', 'A Sogra Que Te Pariu', 'Hard Cell', '61st Street', 'Dirty Lines', 'The Ultimatum: Marry or Move On', 'Jimmy Savile: A British Horror Story', 'More Than This', 'Zebrarummet', 'The Last Bus', 'Roar', 'Tokyo Vice', 'Super PupZ', 'Johnny Hallyday: Beyond Rock', 'Uysallar', 'Moon Knight', 'Thermae Romae Novae', 'Slow Horses', 'The Girl from Plainville', 'Le fate ignoranti', '800 metros', 'Pachinko', 'Parallels', 'Halo', 'The Principles of Pleasure', 'Human Resources', 'Standing Up', 'Alessandro Cattelan: One Simple Question', 'Is It Cake?', 'Young, Famous & African', 'Eternally Confused and Eager for Love', 'Cracow Monsters', 'WeCrashed', 'Life & Beth', 'DMZ', 'Grond', '3 Tonelada$: Assalto ao Banco Central', 'Bad Vegan: Fame. Fraud. Fugitives.', 'Chloe', 'Cheaters', 'The Thing About Pam', 'Queer Eye Germany', 'Érase una vez… pero ya no', 'Life After Death with Tyler Henry', 'The Last Days of Ptolemy Grey', 'Love, Life & Everything in Between', 'Kotaro wa Hitori Gurashi', 'That Dirty Black Bag', 'The Andy Warhol Diaries', 'Byron Baes', 'Last One Standing', 'The Dropout', 'Making Fun', 'Mentiras', 'Pieces of Her', 'Ritmo Salvaje', 'The Guardians of Justice', 'Worst Roommate Ever', 'Shining Vale', 'Super Pumped: The Battle for Uber', 'The Boys Presents: Diabolical', 'Pera Palas’ta Gece Yarısı', 'Juvenile Justice', 'De Volta aos 15', 'Race: Bubba Wallace', 'The Endgame', 'All American: Homecoming', 'Vikings: Valhalla', 'Lincoln’s Dilemma', 'Cielo Grande', 'Fishbowl Wives', 'Fedeltà', 'Inventing Anna', 'Até Que a Vida Nos Separe', 'Ideias à Venda', 'The Unusual Suspects', 'The Teacher', 'Love is Blind: Japan', 'Love is Blind: Brazil', 'Love is Blind', 'Severance', 'The Cuphead Show!', 'Finding Ola', 'Murderville', 'Toast of Tinseltown', 'Power Book IV: Force', 'Pam & Tommy', 'Suspicion', 'Reacher', 'Wolfe', 'All of Us Are Dead', 'Chikyūgai Shōnen Shōjo', 'Getting Curious with Jonathan Van Ness', 'In from the Cold', 'Wolf Like Me', 'Feria: La luz más oscura', 'The Woman in the House Across the Street from the Girl in the Window', 'The Afterparty', 'Insânia', 'Chosen (2022)', 'Incastrati', 'Soy Georgina', 'Neymar: O Caos Perfeito', 'Promised Land', 'Temporada de Verão', 'As We See It', 'Fraggle Rock: Back to the Rock', 'Single Drunk Female', 'Midnight Asia: Eat Dance Dream', 'La Divina Gula', 'The Puppet Master: Hunting the Ultimate Conman', 'How I Met Your Father', 'Red Election', 'The House', 'Archive 81', 'The Legend of Vox Machina', 'The Journalist', 'Naomi', 'Pivoting', 'The Hype House', 'Good Sam', 'Rebelde', 'Elite Short Stories: Patrick', 'Stay Close', 'Kitz', 'Crime Scene: The Times Square Killer', 'Folk med Ångest', 'Azcárate: No Holds Barred', 'Furia', 'Annika', 'Stories of a Generation With Pope Francis', 'The Silent Sea', 'Welcome to Earth', 'Elite Short Stories Samuel Omar', 'Elite Short Stories: Phillipe Caye Felipe', '1883', 'Selling Tampa', 'Decoupled', 'With Love', 'Station Eleven', 'Firebite', 'MacGruber', 'You Don’t Know Me', 'Showtrial', 'One of Us Is Lying', 'American Auto', 'Ragdoll', 'The Hungry and the Hairy', 'Tiger King: The Doc Antle Story', 'Saturday Morning All Star Hits!', 'How to Ruin Christmas', 'Aranyak', 'É O Amor: Familia Camargo', 'FC Bayern: Behind The Legend', 'Landscapers', 'Peacemaker', 'The Book of Boba Fett', 'The Cleaning Lady', 'Voir', 'Coming Out Colton', 'Harlem', 'Coyotes', 'Nisser', 'School of Chocolate', 'Dig Deeper – Das Verschwinden von Birgit Meier', 'Super Crooks', 'True Story', 'The Fastest', 'Reasonable Doubt: A Tale of Two Kidnappings', 'Hawkeye', 'Blown Away: Christmas', 'Hellbound', 'Cowboy Bebop (2021)', 'Dogs in Space', 'Strappare Lungo I Bordi', 'Tiger King: Murder, Mayhem and Madness', 'Blade Runner: Black Lotus', 'Always Jane', 'The Shrink Next Door', 'Amor con Fianza', 'Animal', 'Yellowjackets', 'Swap Shop', 'Dexter: New Blood', 'Where is Marta?', 'Kulüp', 'Glória', 'The Unlikely Murderer', 'Dr. Brain', 'Catching Killers', 'Star Trek: Prodigy', 'El Tiempo Que Te Doy', 'Colin in Black & White', 'Fairfax', 'Swagger', 'Dopesick', 'The Motive', 'Guida Astrologica per Cuori Infranti', 'The Girl in the Woods', '4400', 'Vigil', 'Adventure Beast', 'Maya and the Three', 'More than Blue: The Series', 'Inside Job', 'Invasion', 'Sex, Love & Goop', 'Just Beyond', 'Black Mafia Family', 'Misfit: The Series', 'Day of The Dead', 'My Name', 'I Know What You Did Last Summer', 'Hospital Playlist', 'The Bite', 'Arcane: League of Legends', 'Blue Period', 'Gaetmaeul Chachacha', 'House of Secrets: The Burari Deaths', 'A Tale Dark & Grimm', 'Pretty Smart', 'Acapulco', 'The Billion Dollar Code', 'Bad Sport', 'Baking Impossible', 'La Venganza de las Juanas', 'Maid', 'Luna Park', 'Hanma Baki: Son of Ogre', 'The Chestnut Man', 'La Brea', 'Foundation', 'Braqueurs', 'Vendetta: Guerra nell’antimafia', 'Jailbirds New Orleans', 'Bangkok Breaking', 'Star Wars: Visions', 'Crime Stories: India Detectives', 'Jaguar', 'Monsters Inside: The 24 Faces of Billy Milligan', 'FBI: International', 'Love on the Spectrum', 'NCIS: Hawai’i', 'The Big Leap', 'Ordinary Joe', 'Back to the Rafters', 'Mädät Omenat', 'The White Queen', 'He-Man and the Masters of the Universe', 'Too Hot to Handle: Latino', 'Moonshine', 'Y: The Last Man', 'Scenes from a Marriage', 'American Rust', 'The Lost Symbol', 'Squid Game', 'Chicago Party Aunt', 'The Harper House', 'Maedeudok', 'Metal Shop Masters', 'The North Water', 'Midnight Mass', 'CSI: Vegas', 'On the Verge', 'Raketsonyeondan', 'Neoneun Naeui Bom', 'Threesome', 'Deceit', 'Only Murders in the Building', 'La casa de papel: De Tokio a Berlin', 'Dive Club', 'Q-Force', 'Turning Point: 9/11 and the War on Terror', 'How to Be a Cowboy', 'Sparking Joy with Marie Kondo', 'Algoissjiman', 'D.P.', 'Titletown High', 'Edens Zero', 'Motel Makeover', 'João de Deus: Cura e Crime', 'Clickbait', 'Otwórz Oczy', 'Post Mortem: No One Dies in Skarnes', 'Chapelwaite', 'Comedy Premium League', 'Everything Will be Fine', 'The Chair', 'Nine Perfect Strangers', 'The Newsreader', 'Heels', 'Disparu à Jamais', 'Brand New Cherry Flavor', 'El Reino', 'AlRawabi School for Girls', 'Fantasy Island', 'Marvel’s What If…?', 'Reservation Dogs', 'Bake Squad', 'Untold', 'My Life Is Murder', 'S.O.Z: Soldados o Zombies', 'Hit & Run', 'Mr. Corman', 'Cooking with Paris', 'Cocaine Cowboys: The Kings of Miami', 'Top Secret UFO Projects: Declassified', 'Dr. Death', 'The Movies That Made Us', 'Myth & Mogul: John DeLorean', 'Watch the Sound with Mark Ronson', 'Tattoo Redo', 'Feels Like Ishq', 'Masters of the Universe: Revelation', 'The Walking Dead: Origins', 'Turner & Hooch', 'Too Hot to Handle: Brazil', 'Sexy Beasts', 'Power Book III: Raising Kanan', 'SurrealEstate', 'Naomi Osaka', 'Schmigadoon!', 'American Horror Stories', 'Heist', 'My Unorthodox Life', 'Z: The Beginning of Everything', 'You Are Wanted', 'Clarkson’s Farm', 'Smother', 'Secrets of Sulphur Springs', 'Hit-Monkey', 'Professor T', 'How to Become a Tyrant', 'La cocinera de Castamar', 'Elize Matsunaga: Era Uma Vez Um Crime', 'The War Next-Door', 'Cat People', 'Gossip Girl (2021)', 'Leverage: Redemption', 'Chucky', 'Big Timber', 'The Beast Must Die', 'Generation 56K', 'Young Royals', 'Sophie: A Murder in West Cork', 'Somos', 'Yi Guyeokui Michin X', 'Anne Boleyn', 'Dystopia (2021)', 'Manhãs de Setembro', 'Eden (Stan)', 'Truth Be Told', 'The Mysterious Benedict Society', 'Ray', 'Sex/Life', 'Central Park', 'Gojira shingyura pointo', 'Jiva!', 'The Parisian Agency: Exclusive Properties', 'This Is Pop', 'Run the World', 'Starstruck', 'The Rational Life', 'So Not Worth It', 'Prime Day Show', 'Law School', 'Gwimul', 'The World’s Most Amazing Vacation Rentals', 'Shuumatsu no Valkyrie', 'Katla', 'Penguin Town', 'Elite Short Stories: Carla Samuel', 'Elite Short Stories: Omar Ander Alexis', 'Elite Short Stories: Nadia Guzmán', 'Elite Short Stories: Guzmán Caye Rebe', 'Blindspotting', 'Whitstable Pearl', 'Before We Die', 'Thunder in My Heart', 'Bloods', 'Time', 'Trese', 'Fresh, Fried and Crispy', 'Dom', 'Sweet Tooth', 'Human: The World Within', 'Hacks', 'Lucifer', 'Loki', 'Viewpoint', 'The Pursuit of Love', 'The Pact', 'Lucky Louie', 'Panic', 'Eden', 'High on the Hog: How African American Cuisine Transformed America', 'Physical', 'The Republic of Sarah', 'Kevin Can F**k Himself', 'Lisey’s Story', 'Resident Evil: Infinite Darkness', '1971: The Year That Music Changed Everything', 'The Me You Can’t See', 'Solos', 'Friends Reunion Special', 'Domina', 'Leonardo', 'Huss', 'Too Close', 'Money, Explained', 'Move to Heaven', 'Halston', 'The Underground Railroad', 'The Upshaws', 'The Circle: Brazil', 'The Circle: France', 'Girl From Nowhere', 'Vincenzo', 'The Sons of Sam: A Descent into Darkness', 'Navillera', 'Pet Stars', 'El inocente', 'Wakefield', 'Yasuke', 'Sexify', 'Frank of Ireland', 'Life in Colour', 'Zero', 'Jupiter’s Legacy', 'Luis Miguel: La Serie', 'Fatma', 'Dead Places', 'Why Are You Like This?', 'Annyeong? Naya!', 'Sijipeuseu: The Myth', 'Alan Bennett’s Talking Heads', 'Dad Stop Embarrassing Me', 'My Love: Six Stories of True Love', 'Mare of Easttown', 'Cruel Summer', 'The Mosquito Coast', 'Star Wars: The Bad Batch', 'Big Shot', 'Juliantina', 'Stargate: Atlantis', 'Paradise City', 'The Nevers', 'Kung Fu', 'Gokushufudo', 'Them', 'Chad', 'This is a Robbery: The World’s Biggest Art Heist', 'Snabba Cash', 'The Wedding Coach', 'Law & Order: Organized Crime', 'Made for Love', 'Worn Stories', 'Prank Encounters', 'Haunted: Latin America', 'Get Shorty', 'Parks and Recreation', 'Shtisel', 'Magic for Humans Spain', 'Invincible', '¿Quién Mató a Sara?', 'Magic for Humans', 'Chicago Med', 'Love (ft. Marriage & Divorce)', 'Country Comfort', 'Sky Rojo', 'Generation', 'Under Suspicion: Uncovering the Wesphael Case', 'The Irregulars', 'Zero Chill', 'Abla Fahita', 'The Lost Pirate Kingdom', 'Marvel Studios: Assembled', 'Making Their Mark', 'The One', 'Marriage or Mortgage', 'Caïd', 'Last Chance U: Basketball', 'The Houseboat', 'Bombay Begums', 'Professionals', 'Bloodlands', 'The Falcon and the Winter Soldier', 'Nevenka: Breaking the Silence', 'Pacific Rim', 'Murder Among the Mormons', 'Debris', 'The Bold Type', 'Aelliseu', 'Areumdawtossdeon Uriege', 'Doshinamnyeoui Sarangbeob', 'High-Rise Invasion', 'Canine Intervention', 'Age of Samurai: Battle for Japan', 'Ginny & Georgia', 'DOTA: Dragon’s Blood', 'Tell Me Your Secrets', 'Thus Spoke Kishibe Rohan', 'Amend: The Fight for America', 'Behind Her Eyes', 'Kenan', 'The Crew', 'The End', 'Nadiya Bakes', 'Buried by the Bernards', 'Capitani', 'Pretty Hard Cases', 'Aftertaste', 'Run On', 'Crime Scene: The Vanishing at the Cecil Hotel', 'The Equalizer', 'The Drowning', 'The Snoopy Show', 'Cidade Invisível', 'Bump', 'Charmed', 'Firefly Lane', 'Buscando a Frida', 'Years and Years', 'Gyeongiroun Somun', 'Sharp Objects', 'The Great Escapists', 'We Are the Brooklyn Saints', 'Resident Alien', 'Superman and Lois', 'Young Rock', 'Shadow and Bone', 'Clarice', '50M2', 'It’s a Sin', 'Bridge and Tunnel', 'Busted!', 'Losing Alice', 'The Pier', 'Fate: The Winx Saga', '3 Caminos', 'Shingeki no kyojin', 'Spycraft', 'Madre Solo hay Dos', 'Bling Empire', 'The Pembrokeshire Murders', 'Romulus', 'The Last Narc', 'Night Stalker: The Hunt for a Serial Killer', 'Breathe: Into the Shadows', 'Breathe', 'Outlier', 'Marvel Studios LEGENDS', '30 Monedas', 'Pretend It’s a City', 'Lupin', 'Mr. Mayor', 'Surviving Death', 'History of Swear Words', 'Call Me Kat', 'Shameless Hall of Shame', 'Shadowplay', 'Bridgerton', 'Coyote', 'The Serpent', 'The Watch', 'The Grand Tour', 'Equinox', 'El Cid', 'Sweet Home', 'Walker', 'Tribes Of Europa', 'Wolverine', 'X-Men', 'Break It All: The History of Rock in Latin America', 'Anitta: Made in Honório', 'The Ripper', 'Hilda', 'Tiny Pretty Things', 'The Wilds', 'Halifax: Retribution', 'Roadkill', 'Filthy Rich', 'Cryptid', 'Älska mig', 'Mystery Road', 'Black Narcissus', 'Den inre cirkeln', 'The Surgeon’s Cut', 'Room 2806: The Accusation', 'Seutateueob', 'El desorden que dejas', 'Your Honor', 'Dear…', 'Earth at Night in Color', 'Hausen', 'WandaVision', 'The Hardy Boys', 'Kings of Jo’burg', 'Selena: The Series', 'Private Life', 'Do Do Sol Sol La La Sol', 'Alien Worlds', 'The Guest', 'ÜberWeihnachten', 'Paradise Lost', 'The Flight Attendant', 'The Pack', 'Voices of Fire', 'Big Sky', 'No Man’s Land', 'We Are the Champions', 'Becoming You', 'Perry Mason', 'His Dark Materials', 'The Miniaturist', 'Los favoritos de Midas', 'Elegant Friends', 'Trial 4', 'Nasce Uma Rainha', 'Aunty Donna’s Big Ol’ House of Fun', 'The Liberator', 'A Teacher', 'Industry', 'Dash & Lily', 'Nokdukkot', 'Moonbase 8', 'Björnstad', 'Sanctuary', 'B Positive', 'Bir Başkadır', 'Boiseu', 'The South Westerlies', 'Finding Joy', 'The Singapore Grip', 'Adult Material', 'Out of Her Mind', 'Devils', 'The Sister', 'Country-ish', 'Carmel: ¿Quién mató a María Marta?', 'Paranormal', 'Love & Anarchy', 'Chungchungirok', 'Partisan', 'Truth Seekers', 'The Undoing', 'The Expecting', 'Run This City', 'Departure', 'Agua Donkeys', 'Wireless', 'Baegabondeu', 'Reprisal', 'Perdida', 'Move', 'VIP', 'Nangmandakteo Kimsaboo', 'Stove League', 'Uisa Yohan', 'Long Way Round', 'Long Way Down', 'Timeless', 'Helstrom', 'Social Distance', 'Trickster', 'Dream Home Makeover', 'Grand Army', 'Alguien tiene que morir', 'La Révolution', 'The Cabin with Bert Kreischer', 'The Stand 2020', 'Alice in Borderland', 'Band of Brothers', 'The Right Stuff', 'Tiny World', 'Long Way Up', 'Bimilui Soop', 'Deaf U', 'Epidemiya', 'Blood of Zeus', 'The Good Lord Bird', 'Next', 'Soulmates', 'Us', 'Honour', 'Utopia Falls', 'Sløborn', 'Cold Courage', 'Monsterland', 'Patria', 'Song Exploder', 'Emily in Paris', 'Bom Dia, Verônica', 'Aneun Waipeu', 'Oktoberfest', 'A Suitable Boy', 'Tehran', 'Utopia 2020', 'The Queen’s Gambit', 'The Haunting of Bly Manor', 'Barbarians', 'A Perfect Crime', 'The School Nurse Files', 'Sneakerheads', 'The Salisbury Poisonings', 'Baghdad Central', 'The Playbook', 'The Feed', 'I Hate Suzie', 'Woke', 'PEN15', 'Little America', 'Des', 'Euphoria', 'Britannia', 'Trackers', 'The American Barbecue Showdown', 'Jurassic World: Camp Cretaceous', 'The Last Word', 'Challenger: The Final Flight', 'We Are Who We Are', 'The Third Day', 'Izzy’s Koala World', 'La valla', 'All Creatures Great and Small', 'The Duchess', 'Julie and the Phantoms', 'Memorias de Idhún', 'La Línea: La Sombra del Narco', 'Get Organized with The Home Edit', 'The Witcher: A Look Inside the Episodes', 'Power Book II: Ghost', 'A Christmas Carol', 'Two Weeks to Live', 'The Sounds', 'Raised by Wolves', 'Away', 'Was It Love', 'Robbie', '#FreeRayshawn', 'Don’t Look Deeper', 'I am A Killer', 'Masaba Masaba', 'I am A Killer: Released', 'Etheria', 'Die Hart', 'Aggretsuko', 'Million Dollar Beach House', 'Mapleworth Murders', 'Dragon’s Dogma', '9-1-1: Lone Star', 'Emily’s Wonder Lab', 'Goedam', 'Deputy', 'The Head', 'Lovecraft Country', 'Alien TV', 'Hoops', 'Great Pretender', 'Biohackers', 'DeMarcus Family Rules', 'High Score', 'We Hunt Together', 'Ted Lasso', 'Little Birds', 'The Deceived', 'Saikojiman Gwaenchanha', 'The Great Heist', 'Teenage Bounty Hunters', '(Un)Well', 'Game On! A Comedy Crossover Event', 'Ratched', 'Star Trek: Lower Decks', 'The Governor', 'Nailed It! Mexico', 'Tiny Creatures', 'Trollhunters: Tales of Arcadia', 'Wizards: Tales of Arcadia', 'World’s Most Wanted', 'Mystery Lab', 'Immigration Nation', 'Frayed', 'Corporate', 'Brave New World', 'Close Enough', 'Get Even', 'Young Wallander', 'Secret Bridesmaids’ Business', 'Inside the World’s Toughest Prisons', 'Transformers: War for Cybertron', 'Sugar Rush', 'Connected: The Hidden Science of Everything', 'Nanatsu no taizai', 'Superstore', 'Fear City: New York vs the Mafia', 'Znaki', 'Boca a Boca', 'Indian Matchmaking', 'Skin Decision: Before and After', 'Oscuro Deseo', 'The Business of Drugs', 'Jack Taylor', 'Akame ga Kill!', 'Little Voice', 'Down to Earth with Zac Efron', 'P-Valley', 'Nihon Chinbotsu 2020', 'De Twaalf', 'Dummy', 'In My Skin', 'Dead Still', 'Cursed', 'BNA', 'Unsolved Mysteries', 'Say I Do', 'Warrior Nun', 'Ssanggabpocha', 'Ju-on: Origins', 'The Baby-Sitters Club', 'Southern Survival', 'Violet Evergarden', 'Home Game', 'Saiki Kusuo no Psi Nan: Psi Shidou-hen', 'Exatlon Türkiye', 'Crazy Delicious', 'Sorry for Your Loss', 'Barkskins', '50 States of Fright', 'The Stranger (Quibi)', 'When the Street Lights Go On', 'Barry', 'Blood', 'The Secrets She Keeps', 'Dark Heart', 'Coisa Mais Linda', 'The King: Youngwonui Gunjoo', 'Gungmin Yeoreobun', 'Leobeulli Horeobeulli', 'Dakteo Peurijeuneo', 'Joseonroko Nokdujeon', 'That ’70s Show', 'Forhøret', 'Whispers', 'Tacoma FD', 'Historia de un crimen: La búsqueda', 'Kipo and the Age of Wonderbeasts', 'The Woods', 'F Is for Family', 'Lenox Hill', 'Reality Z', 'Curon', 'Greenleaf', 'Saiki Kusuo no Psi Nan', 'El Presidente', 'Save Me', 'Alex Rider', 'M’entends-tu?', 'Baki', 'Day 5', 'Miss Scarlet and the Duke', 'Bloom', 'Motherland: Fort Salem', 'Operation Buffalo', 'Betaal', 'Dorohedoro', 'Jeffrey Epstein: Filthy Rich', 'The Office', 'Manhunt: Deadly Games', 'Inside Jokes', 'The Luminaries', 'Control Z', 'History 101', 'Blood & Water', 'Sweet Magnolias', 'The Big Flower Fight', 'Star Trek: Short Treks', 'Workin’ Moms', 'Hightown', 'Space Force', 'The Great', 'Chichipatos', 'Dérapages', 'White Lines', 'Trial by Media', 'Stateless', 'Dave', 'Solar Opposites', 'The Circle', 'Pretty Little Liars', 'Stargirl', 'Normal People', 'Gilmore Girls', 'Snowpiercer', 'The Eddy', 'Valeria', 'Gangs of London', 'Community', 'Coronavirus, Explained', 'Trying', 'Upload', 'Casi Feliz', 'Into the Night', 'Hollywood', 'The Victims’ Game', 'Drifting Dragons', 'Summertime', 'Extracurricular', 'Never Have I Ever', 'Vis a vis: El oasis', 'Defending Jacob', 'The Last Dance', 'The Midnight Gospel', 'Absurd Planet', 'Win the Wilderness: Alaska', 'Ghost in the Shell SAC_2045', 'Hi Bye, Mama!', 'Mrs. America', 'Liar', 'Bullets', 'Hyena', 'Hasmukh', 'Too Hot to Handle', 'BlackAF', 'The Innocence Files', 'Outer Banks', 'The Baker and the Beauty', 'Nailed It! France', 'Nailed It! Germany', 'Nailed It! Holiday!', 'Nailed It!', 'Sunderland ‘Til I Die', 'Il Processo', 'Brews Brothers', 'The Fugitive', 'Most Dangerous Game', 'Survive', 'Flipped', 'The Big Show Show', 'Home Before Dark', 'Almost Paradise', 'Tales from the Loop', 'How to Fix a Drug Scandal', 'Sanditon', 'Everything’s Gonna Be Okay', 'Zoey’s Extraordinary Playlist', 'Belgravia', 'Babies', 'Pandemic: How to Prevent an Outbreak', 'Aşk 101', 'Vagrant Queen', 'Itaewon Class', 'The Mire', 'Unorthodox', '7 Seeds', 'Council of Dads', 'Freud', 'Little Fires Everywhere', 'The Walking Dead: World Beyond', 'Penny Dreadful: City of Angels', 'Feel Good', 'Vampires', 'The Letter for the King', 'The English Game', 'She', 'Kalifat', '100 Humans', 'Beastars', 'Bloodride', 'The Valhalla Murders', 'Amazing Stories', 'Devs', 'Breeders', 'Dispatches from Elsewhere', 'The Trials of Gabriel Fernandez', 'Toy Boy', 'Desenfrenadas', 'Queen Sono', 'Followers', 'I Am Not Okay with This', 'The Expanding Universe of Ashley Garcia', 'Pup Academy', 'Glitch Techs', 'Hunters 2020', 'Puerta 7', 'Gentefied', 'Spectros', 'Taj Mahal 1989', 'High Fidelity', 'For Life', 'Who Killed Malcolm X?', 'We Were Tomorrow', 'Briarpatch', 'Katy Keene', 'Mythic Quest: Raven’s Banquet', 'Locke & Key', 'Interrogation', 'Onisciente', 'Luna Nera', 'Ragnarok', 'The Stranger', 'Next in Fashion', 'Night on Earth', 'You Cannot Hide', 'The Ghost Bride', 'The Dead Lands', 'Outmatched', 'October Faction', 'The Gloaming', 'Ares', 'The Last Empress', 'The Fiery Priest', 'Rise of Empires: Ottoman', 'The Healing Powers of Dude', 'Glow Up', 'Haechi', 'Giri/Haji', 'Jamtara', 'Until Dawn', 'Medical Police', 'AJ and the Queen', 'Lincoln Rhyme: Hunt for the Bone Collector', 'Deadwater Fell', 'FBI: Most Wanted', 'Crazy Ex-Girlfriend', 'Dracula (2020)', 'Thieves of the Wood', 'Spinning Out', 'Messiah', 'The Neighbor', 'The Bonfire of Destiny', 'Fast & Furious: Spy Racers', 'Atiye', 'Dare Me', 'The Witcher', 'Twice Upon A Time', 'Triad Princess', 'Soundtrack', 'Traces', 'Der Pass', 'Apache: La vida de Carlos Tevez', 'Días de Navidad', 'The L Word: Generation Q', 'Virgin River', 'V-Wars', 'Home For Christmas', 'Mythomaniac', 'Nobody’s Looking', 'Hernan', 'Harley Quinn', 'Dolly Parton’s Heartstrings', 'Merry Happy Whatever', 'Servant', 'Vienna Blood', 'Dollface', 'Mortel', 'Holiday Secrets', 'Nurses Who Kill', 'Go! Live Your Way', 'Loaded', 'The Club', 'I’m with the Band: Nasty Cherry', 'Green Eggs and Ham', 'The Stranded', 'High School Musical: The Musical', 'Limetown', 'Seven Worlds, One Planet', 'Santos Dumont', 'The Mandalorian', 'Ghostwriter', 'Dickinson', 'For All Mankind', 'Hello Ninja', 'Hache', 'Ad Vitam', 'Nowhere Man', 'Pose', 'The Morning Show', 'We Are the Wave', 'Irmandade', 'Brigada Costa del Sol', 'Greenhouse Academy', 'Daybreak', 'The Birch', 'Looking for Alaska', 'Toon', 'Living with Yourself', 'Modern Love', 'The Unlisted', 'Are You Afraid of the Dark?', 'Treadstone', 'Dublin Murders', 'Nancy Drew', 'Zomboat!', 'All American', 'El Dragón: Return of a Warrior', 'Raising Dion', 'Creeped Out', '8 Tage', 'World On Fire', 'Godfather of Harlem', 'Hudson and Rex', 'The Politician', 'Skylines', 'Dragons Rescue Riders', 'Bard of Blood', 'Evil', 'Creepshow', 'Schooled', 'Stumptown', 'The Resident', 'Emergence', 'Bob Hearts Abishola', 'Prodigal Son', 'Team Kaylie', 'The Unicorn', 'Inside Bill’s Brain: Decoding Bill Gates', 'The Hockey Girls', 'Fastest Car', 'Criminal UK', 'Criminal Spain', 'Criminal France', 'Criminal Germany', 'The Last Kids on Earth', 'Monarca', 'SEE', 'Top Boy', 'Marianne', 'Unbelievable', 'Undone', 'The Mind, Explained', 'Deep Water', 'The I-Land', 'Beforeigners', 'Wu-Tang: An American Saga', 'The Spy', 'Jack Whitehall: Travels With My Father', 'Brassic', 'The Capture', 'A Confession', 'Carole and Tuesday', '13 Commandments', 'The A List', 'The Dark Crystal: Age of Resistance', 'Styling Hollywood', 'Carnival Row', '45 Revoluciones', 'Rust Valley Restorers', 'Hyperdrive', 'Love Alarm', 'Arthdal Chronicles', 'Find Me in Paris', 'On Becoming a God in Central Florida', 'State of the Union', 'Victim Number 8', 'Better Than Us', 'Frontera Verde', 'Why Women Kill', 'Cannon Busters', 'This Way Up', 'Free Meek', 'Sintonia', 'Wu Assassins', 'The Naked Director', 'BH90210', 'Kakegurui', 'Lambs of God', 'She-Ra and the Princesses of Power', 'This is Football', 'The Letdown', 'Batwoman', 'Another Life', 'Das Boot 2018', 'The Unsettling', 'Star Trek: Picard', 'Pennyworth', 'Queer Eye', 'Last Chance U', 'Saint Seiya: Knights of the Zodiac', 'Typewriter', 'Pearson', 'Pandora', 'You Me Her', 'Blown Away', 'Extreme Engagement', 'Taco Chronicles', 'Family Reunion', 'The Planets', 'The Loudest Voice', 'The Rook', 'Great News', 'Fightworld', 'O Escolhido', 'Power Rangers Dino Charge', 'Family Business', 'Fainaru fantajî XIV: Hikari no otousan', 'Fangbone!', 'Tarzan and Jane', 'Dramaworld', 'Dope', 'Dogs', 'Dear White People', 'Dark Tourist', 'Damnation', 'Cooked', 'Cupcake & Dino: General Services', 'Reef Break', 'Mr. Iglesias', 'Christiane Amanpour: Sex & Love Around the World', 'Chip and Potato', 'Chesapeake Shores', 'Grand Hotel', 'Chelsea Does', 'Chasing Cameron', 'Champions', 'Carmen Sandiego', 'Brave Miss World', 'Best. Worst. Weekend. Ever.', 'Unit 42', 'Yankee', 'Bad Guys', 'Back With the Ex', 'Jett', 'The Alcasser Murders', 'Trinkets', 'Leila', 'Too Old to Die Young', 'Ask the Doctor', 'All About The Washingtons', 'Jinn', 'Wild Bill', 'Alias Grace', 'Alexa & Katie', 'Year of The Rabbit', 'Orange Is the New Black', 'Afflicted', 'A Very Secret Service', '72 Dangerous Places to Live', 'Claws', '72 Dangerous Animals: Australia', 'Uspjeh', 'City on a Hill', 'Tales of the City', 'Jugar Con Fuego', 'American Princess', 'Black Spot', '72 Dangerous Animals – Asia', '72 Cutest Animals', 'Perpetual Grace, LTD', 'NOS4A2', '12 Years Promise', 'Weeds', '2 Weeks', 'Good Witch', 'El Recluso', 'How to Sell Drugs Online: Fast', 'When They See Us', 'Good Omens', 'Swamp Thing', 'The InBetween', 'Private Eyes', 'Alta mar', 'What/If', 'She’s Gotta Have It', 'Prince of Peoria', 'Blood & Treasure', 'Kill It', 'Catch-22', 'It’s Bruno', 'The Virtues', 'L.A.’s Finest', 'Jailbirds', 'The Society', 'Easy', 'Chernobyl', 'The Spanish Princess', 'Troy: Fall of a City', 'Undercover', 'Tuca & Bertie', 'Dead to Me', 'Star Trek Enterprise', 'Games People Play', 'Chambers', 'Hakan: Muhafız', 'Bonding', 'Gentleman Jack', 'When Heroes Fly', 'Samantha!', 'Chimerica', 'Ghosts', 'Farscape', 'Rilakkuma and Kaoru', 'Lunatics', 'Examination of Conscience', 'Bless This Mess', 'No Good Nick', 'Birds of Prey', 'Special', 'Huge in France', 'The Code', 'Black Summer', 'Roman Empire', 'Fosse Verdon', 'The Victim', 'The Chi', 'Warrior', 'In the Dark', 'Tijuana', 'Quicksand', 'Our Planet', 'The Twilight Zone', 'Ultraman', 'Dead Pixels', 'Bitter Daisies', 'On My Block', 'Osmosis', 'What We Do in the Shadows', 'The Murders', 'Nero a meta', 'Selling Sunset', 'Historia de un Crimen: Colosio', 'Delhi Crime', 'The Act', 'The Bay', 'The Village', 'The Fix', 'Flavorful Origins', 'If I Hadn’t Met You', 'The Disappearance of Madeleine McCann', 'Love, Death & Robots', 'Turn Up Charlie', 'The Name of the Rose', 'Flack', 'B: The Beginning', 'Erased', 'Ajin', 'Now Apocalypse', 'Formula 1: Drive to Survive', 'Shadow', 'Sidonia no Kishi', 'Dix Pour Cent', 'After Life', 'Good Girls', 'The Order', 'Secret City', 'Northern Rescue', 'The Widow', 'Romance is A Bonus Book', 'The Enemy Within', 'Whiskey Cavalier', 'This Giant Beast That is the Global Economy', 'Rebellion', 'Inside No. 9', 'Baptiste', 'Traitors', 'Inside The Mossad', 'Dirty John', 'The Paper', 'Larry Charles’ Dangerous World of Comedy', 'The Dragon Prince', 'Dating Around', 'Doom Patrol', 'The Umbrella Academy', 'Prison Break', 'SKAM Italia', 'Weird City', 'One Day at a Time', 'Miracle Workers', 'Tidying Up with Marie Kondo', 'Gen: Lock', 'Big Mouth', 'Black Earth Rising', 'Hanna', 'Siempre Bruja', 'Russian Doll', 'Pure', 'Suits', 'I Am the Night', 'Conversations with a Killer: The Ted Bundy Tapes', 'Kingdom 2019', 'Curfew', 'Wayne', 'Roswell, New Mexico', 'Drunk History', 'The Passage', 'Grantchester', 'Sex Education', 'Cleaning Up', 'I’m Sorry', 'Burden of Truth', 'Catastrophe', 'Project Blue Book', 'Coroner', 'Jane the Virgin', 'Young Justice', 'Les Miserables', 'SMILF', 'Good Trouble', 'The Orville', 'Black Mirror: Bandersnatch', 'Grisse', 'Cathedral of the sea', 'The ABC Murders', 'Al Hayba', 'Black', 'Fugitiva', 'Friends from College', '7 Days Out', 'Watership Down', 'Champaign ILL', '3Below: Tales of Arcadia', 'Deadly Class', 'Heimebane', 'Parfum', 'Derry Girls', 'The Romanoffs', 'Diablero', 'Chef’s Table', 'The Truth About the Harry Quebert Affair', 'The Blacklist', 'Dystopia', 'Hero Mask', '100 Days to Victory', 'Tidelands', 'Kidding', 'Meteor Garden', 'Plan Coeur', 'Don’t Watch This', 'Dogs of Berlin', 'Pine Gap', 'Future Sex', 'Nightflyers', 'Mrs. Wilson', 'Baby', '1983', 'A Million Little Things', 'Frontier', 'Dynasties', 'Escape at Dannemora', 'Outlander', 'The Cry', 'Mirzapur', 'The Kominsky Method', 'Narcos: Mexico', 'Origin', 'Patriot', 'Norsemen', '11.22.63', 'Hannibal', 'Distrito Salvaje', 'Mozart in the Jungle', 'Homecoming', 'Tell Me a Story', 'Gotham', 'The Little Drummer Girl', 'Pretty Little Liars: The Perfectionists', 'Fargo', 'Chilling Adventures of Sabrina', 'Legacies', 'Informer', 'James Cameron’s Story of Science Fiction', 'Haunted 2018', 'Lore', 'The Kids Are Alright', 'The Rookie', 'The Good Place', 'Parade’s End', 'Explained', 'Fleabag', 'Titans', 'The Curious Creations of Christine McConnell', 'The Haunting of Hill House', 'Light as a Feather', 'Doctor Who', 'Santa Clarita Diet', 'Into the Dark', 'Elite', 'Mr. Inbetween', 'FBI', 'New Amsterdam (2018)', 'The Flash', 'Manifest', 'Magnum P.I.', 'The Big Bang Theory', 'The Good Cop', 'Maniac', 'God Friended Me', 'Sweetbitter', 'Forever (2018)', 'Shameless', 'A Discovery of Witches', 'The First', 'All or Nothing: Manchester City', 'You', 'Bad Banks', 'The Purge', 'Reckless', 'Mayans M.C.', 'Paradise PD', 'One Dollar', 'Bodyguard', 'Deadwind', 'The Innocents', 'Disenchantment', 'La casa de las flores', 'Friends', 'Insatiable', 'Lodge 49', 'Gossip Girl', 'The Vampire Diaries', 'Castle Rock', 'Ingobernable', 'Chuck', 'The Mentalist', 'Wynonna Earp', 'The Outpost', 'El Chapo', 'Sacred Games', 'Kiss Me First', 'Yellowstone', 'The Ranch', 'Unsolved', 'Skam', 'The Hollow', 'Cloak & Dagger', 'Impulse', 'Condor', 'Reverie', 'Superstition', 'The New Legends of Monkey', 'Le Chalet', 'The Shield', 'Patrick Melrose', 'Cobra Kai', 'Safe', 'The Rain', 'Masters of Sex', 'The Crown', 'Future Man', 'Bosch', 'Bloodline', 'Final Space', 'The OA', 'Helix', 'American Gods', 'Sense8', 'Lost in Space', 'Killing Eve', 'Deep State', 'Cold Case', 'Siren', 'The Terror', 'O Mecanismo', 'Station 19', 'Krypton', 'The Crossing', 'Instinct', 'Tabula Rasa', 'Harrow', 'The Story of God with Morgan Freeman', 'The Looming Tower', 'The Oath', 'Deception', 'Life Sentence', 'Grenseland', 'Rita', 'Drug Lords', 'Tiempos de guerra', 'The Good Doctor', 'Fringe', 'Outcast', 'House of Cards', 'The Man in the High Castle', 'Better Call Saul', 'Breaking Bad', 'Howards End', 'The Young Offenders', 'Vis a vis', 'SGU Stargate Universe', 'Collateral', 'Seven Seconds', 'Das Boot', 'First Team: Juventus', '1066', 'La casa de papel', 'Babylon Berlin', 'Everything Sucks!', 'The Dresden Files', 'Stargate Origins', 'Trauma', 'Requiem', 'Altered Carbon', 'Waco', 'McMafia', 'The Alienist', 'Black Lightning', 'The End of the F***ing World', 'La Mante', '9-1-1', 'Alone Together', 'Happy!', 'Young Sheldon', 'Counterpart', 'Knightfall', 'DARK', 'Godless', 'Runaways', 'The Punisher', 'The Marvelous Mrs. Maisel', 'StartUp', 'Strike Back', 'S.W.A.T.', 'Blue Planet II', 'The Blue Planet', 'Gunpowder', 'Mindhunter', 'Dynasty', 'Valor', 'Suburra: la serie', 'Ghost Wars', 'The Gifted', 'Wisdom of the Crowd', 'Extinct', 'Inhumans', 'Absentia', 'SEAL Team', 'Ghosted', 'The Brave', 'The Secret Circle', 'O.J.: Made in America', 'White Gold', 'Bad Blood', 'Star Trek: Discovery', 'Electric Dreams', 'American Vandal', 'The Deuce', 'Tin Star', 'The Great Train Robbery', 'Death Comes to Pemberley', 'Strike', 'Derek', 'Disjointed', 'Line of Duty', 'Room 104', 'The Defenders', 'Atypical', 'Better Things', 'Mr. Mercedes', 'Born to Kill', 'The Sinner', 'Manhunt: Unabomber', 'Valkyrien', 'Midnight, Texas', 'Ozark', 'Salvation', 'Castlevania', 'Will', 'Les Revenants', 'The IT Crowd', 'Gypsy', 'Sense & Sensibility', 'Prey', 'GLOW', 'Free Rein', 'The Mist', 'Southcliffe', 'Las chicas del cable', 'Riviera', 'Blood Drive', 'Fauda', 'Umbre', 'Wrecked', 'Flaked', 'Still Star-Crossed', 'Den som dræber', 'Supernatural', 'Arrow', 'Anne', 'The Keepers', 'The Driver', 'Genius', 'Girlboss', 'The White Princess', 'The Son', '13 Reasons Why', 'Sun Records', 'APB', 'Oasis', 'Atlanta', 'Iron Fist', 'Unforgotten', 'Feud', 'The Five', 'SS-GB', 'Time After Time', 'Goliath', 'Taken', 'The Good Fight', 'Big Little Lies', 'Urban Myths', 'Cardinal', 'Svartsjön', '24: Legacy', 'Powerless', 'Ransom', 'Training Day', 'Riverdale', 'Six', 'The Mick', 'A Series of Unfortunate Events', 'Sneaky Pete', 'Taboo', 'Emerald City', 'Beyond', 'Drifters', 'The Legend of the Blue Sea', 'Riget', 'Broken Trail', 'Doctor Foster', 'Neverland', 'Marcella', 'Bored to Death', 'What Remains', 'Agents of S.H.I.E.L.D.: Slingshot', 'Hap and Leonard', 'The River', 'River', 'Incorporated', 'Paranoid', '3%', 'Gilmore Girls: A Year in the Life', 'Deadline Gallipoli', 'Shooter', 'Divorce', 'The Booth at the End', 'Good Behavior', 'Eyewitness', 'Class', 'Tutankhamun', 'Pure Genius', 'Medici: Masters of Florence', 'Stan Against Evil', 'Glitch', 'Braquo', 'Chance', 'Travelers', 'Freakish', 'Channel Zero', 'Frequency', 'Speechless', 'Conviction', 'Luke Cage', 'Aftermath', 'Falling Water', 'Lethal Weapon', 'Son of Zorn', 'Designated Survivor', 'Bull', 'MacGyver', 'Harley and the Davidsons', 'One of Us', 'Quarry', 'Jean-Claude Van Johnson', 'Lost in Austen', 'Emma', 'The Tick', 'The Get Down', 'Dekalog', 'Van Helsing', 'The Kettering Incident', 'Stranger Things', 'Queen of the South', 'The Living and the Dead', 'Dead of Summer', 'Roadies', 'American Gothic', 'Animal Kingdom', 'Guilt', 'BrainDead', 'Feed The Beast', 'The Hunt', 'Cleverman', 'Okkupert', 'Wolf Creek', 'Preacher', 'Containment', 'Slasher', 'Game of Silence', 'Hunters', 'The Path', 'The Catch', 'Criminal Minds: Beyond Borders', 'Thirteen', 'Ófærð / Trapped', 'Of Kings and Prophets', 'Damien', 'Fuller House', 'Making a Murderer', 'The Night Manager', 'Vinyl', 'Boku dake ga Inai Machi', 'American Crime Story', 'Stan Lee’s Lucky Man', 'Baskets', 'Shadowhunters', 'Shades of Blue', 'Legends of Tomorrow', 'The Shannara Chronicles', 'War & Peace', 'Billions', 'Holocaust', 'The Winds of War', 'Awake', 'Dickensian', 'Beowulf: Return to the Shieldlands', 'And Then There Were None', 'Second Chance', 'Endgame', 'Hunted', 'Inside Men', 'Magic City', 'Colony', 'Lights Out', 'Off the Map', 'Low Winter Sun', 'The Magicians', 'Childhood’s End', 'Desperate Housewives', 'One Punch Man', 'Caprica', 'Birdsong', 'Camelot', 'Alias', 'Alphas', 'The Firm', 'Unsere Mütter, unsere Väter', 'A Gifted Man', 'Carnivàle', 'The Borgias', 'Dawson’s Creek', 'Saints & Strangers', 'The Prisoner (1967)', 'London Spy', 'Generation Kill', 'South of Hell', 'The Stand', 'Dr. Horrible’s Sing-Along Blog', 'Medium', 'In Treatment', 'The X Files', 'The Expanse', 'Jessica Jones', 'Jericho', 'Borgen', 'Fear the Walking Dead: Flight 462', 'The Frankenstein Chronicles', 'Into the Badlands', 'Master of None', 'Bron/Broen', 'Agent X', 'Ash vs Evil Dead', 'Modus', 'Jekyll & Hyde', 'Death Note', 'Wicked City', 'Boss', 'The Pillars of the Earth', 'The Last Kingdom', 'The Affair', 'How to Get Away with Murder', 'Blood and Oil', 'Quantico', 'The Muppets', 'Scream Queens', 'Limitless', 'Public Morals', 'The Bastard Executioner', 'Black Books', 'Marvel’s Guardians of the Galaxy', 'Vixen', 'BoJack Horseman', 'Narcos', 'The Red Tent', 'Rick and Morty', 'Persons Unknown', 'Minority Report', 'Blindspot', 'V (1983)', 'Fear The Walking Dead', 'Jesus of Nazareth', 'Lonesome Dove', 'Roots', 'Tut', 'The Jinx: The Life and Deaths of Robert Durst', 'Apocalypse – La 2e Guerre mondiale', 'The Fades', 'Luck', 'Complications', 'Breakout Kings', 'The Making of the Mob', 'Scream', 'Zoo', 'Heroes Reborn', 'Carlos', 'Happyish', 'Into the West', 'Harper’s Island', 'Hatfields & McCoys', 'Killjoys', 'Top of the Lake', 'Mildred Pierce', 'Little Dorrit', 'Jordskott', 'Humans', 'Dark Matter', 'Proof', 'This Is England ’90', 'The Whispers', 'Gangland Undercover', 'Aquarius', 'Mr. Robot', '24', 'Texas Rising', 'Between', 'Stitchers', 'Supergirl', 'Jonathan Strange & Mr. Norrell', 'The Enfield Haunting', 'Grace and Frankie', 'This Is England ’88', 'This Is England ’86', 'Wayward Pines', 'Secrets & Lies', 'Tin Man', 'The Lost Room', 'Halo: Nightfall', 'The Lizzie Borden Chronicles', 'American Odyssey', 'Married with Children', 'Olympus', 'Unbreakable Kimmy Schmidt', 'Chosen', 'Gallipoli', 'iZombie', 'A Young Doctor’s Notebook', 'Angel', 'Angels in America', 'Archer', 'Arrested Development', 'Ascension', 'Atlantis', 'Sailor Moon', 'Backstrom', 'Battlestar Galactica', 'Betrayal', 'Bonnie and Clyde', 'Broadchurch', 'Coma', 'Copper', 'Coupling', 'Cowboy Bebop', 'Crisis', 'Crossing Lines', 'Cuckoo', 'Dads', 'Dallas', 'Defiance', 'Delirium', 'Dominion', 'Endeavour', 'Episodes', 'ER', 'Extant', 'Eye Candy', 'Finding Carter', 'Firefly', 'Fortitude', 'Freaks and Geeks', 'Friday Night Lights', 'Friends with Better Lives', 'Galavant', 'Gang Related', 'Girls', 'Golden Boy', 'Graceland', 'Gracepoint', 'Halt and Catch Fire', 'Houdini', 'Intruders', 'It’s Always Sunny in Philadelphia', 'Jane Eyre', 'John Adams', 'Kingdom', 'Legends', 'Legit', 'Longmire', 'Looking', 'Madam Secretary', 'Major Crimes', 'Manhattan', 'Manhattan Love Story', 'Marco Polo', 'Matador', 'Merlin (1998)', 'Mixology', 'Mob City', 'Modern Family', 'Mom', 'Monk', 'Motive', 'Mr. Selfridge', 'My Mad Fat Diary', 'Naruto Shippuuden', 'Nashville', 'NCIS', 'NCIS: Los Angeles', 'NCIS: New Orleans', 'New Girl', 'Nikita', 'North and South', 'Nurse Jackie', 'Olive Kitteridge', 'Once Upon A Time ln Wonderland', 'One Piece', 'One Tree Hill', 'Orphan Black', 'Our World War', 'Oz', 'Parenthood', 'Peaky Blinders', 'Penny Dreadful', 'Perception', 'Please Like Me', 'Power', 'Pride and Prejudice', 'Primeval', 'Raising Hope', 'Rake', 'Ravenswood', 'Ray Donovan', 'Rectify', 'Red Band Society', 'Reign', 'Resurrection', 'Revenge', 'Ripper Street', 'Rizzoli & Isles', 'Rome', 'Rosemary’s Baby', 'Rubicon', 'Rush', 'Salamander', 'Salem', 'Satisfaction', 'Scandal', 'Scrubs', 'Seed', 'Seinfeld', 'Selfie', 'Sex and the City', 'Shogun', 'Silicon Valley', 'Sirens', 'Six Feet Under', 'Skins', 'Smallville', 'Sons of Anarchy', 'Sons of Liberty', 'South Park', 'Star Wars Rebels', 'Star Wars: The Clone Wars', 'Star-Crossed', 'State of Affairs', 'Taken (2002)', 'The After', 'The Assets', 'The Best Laid Plans', 'The Bridge', 'The Carrie Diaries', 'The Crazy Ones', 'The Divide', 'The Escape Artist', 'Lilyhammer', 'The Fall', 'The Fosters', 'The Good Wife', 'The Killing', 'The Knick', 'The Last Ship', 'The Leftovers', 'The Legend of Korra', 'The Librarians', 'The Listener', 'The Lottery', 'The Missing', 'The Musketeers', 'The Neighbors', 'The O.C.', 'The Pacific', 'The Prisoner', 'The Red Road', 'The Simpsons', 'The Sopranos', 'The Strain', 'The Tomorrow People', 'The Triangle', 'The Tudors', 'The Tunnel', 'The Wire', 'Those Who Kill', 'Togetherness', 'Touch', 'Transporter: The Series', 'True Blood', 'Turn', 'Twin Peaks', 'Twisted', 'Tyrant', 'Uncle', 'Under the Dome', 'Utopia', 'V', 'Warehouse 13', 'White Collar', 'Wilfred', 'Witches of East End', 'WPC 56', 'Z Nation', 'Zombieland', 'Poldark', 'The Returned', 'Dig', 'CSI: Cyber', 'X Company', 'Battle Creek', 'The Last Man On Earth', 'The Messengers', 'The Americans', 'Stalker', 'Agent Carter', 'True Detective', 'Sherlock', 'Person of Interest', 'Scorpion', 'Daredevil', 'Once Upon a Time', 'Allegiance', 'The 100', 'Forever', 'Constantine', 'Terra Nova', 'Mistresses', 'Crossbones', 'Misfits', 'Mike and Molly', 'Merlin', 'Mad Men', 'Luther', 'Lost Girl', 'Lost', 'Lie To Me', 'Leverage', 'Legend of the Seeker', 'Kyle XY', 'Klondike', 'Kakumeiki Valvrave', 'Intelligence', 'In the Flesh', 'Hulk S.M.A.S.H', 'House M.D.', 'Hot in Cleveland', 'Hostages', 'Him and Her', 'Heroes', 'Hemlock Grove', 'Hell On Wheels', 'Hawaii Five-0', 'Haven', 'Hart of Dixie', 'Grimm', 'Grey’s Anatomy', 'Glee', 'Futurama', 'Flashpoint', 'FlashForward', 'Falling Skies', 'Enlisted', 'Elementary', 'Dracula', 'Downton Abbey', 'Dexter', 'Devious Maids', 'Deadwood', 'CSI: NY', 'CSI-Las Vegas', 'Criminal Minds', 'Cracked', 'Covert Affairs', 'Cougar Town', 'Continuum', 'Chicago Fire', 'Castle', 'Californication', 'Brooklyn Nine-Nine', 'Bones', 'Boardwalk Empire', 'Blue Mountain State', 'Blue Bloods', 'Black Sails', 'Black Mirror', 'Bitten', 'Beware the Batman', 'Believe', 'Being Human', 'Beauty And The Beast', 'Bates Motel', 'Banshee', 'Baby Daddy', 'Awkward', 'Avengers Assemble', 'Avatar: The Last Airbender', 'Anger Management', 'Almost Human', 'Alcatraz', 'According to Jim', '90210', '666 Park Avenue', '24: Live Another Day', '2 Broke Girls', 'Vikings', 'The Originals', 'The Following', 'Teen Wolf', 'Revolution', 'How I Met Your Mother', 'Agents of S.H.I.E.L.D.', 'Chicago PD', '12 Monkeys']\n"
     ]
    }
   ],
   "source": [
    "import csv\n",
    "@benchmark\n",
    "def ilk_sutun_listele(dosya_adi):\n",
    "    ilk_sutun = []\n",
    "    with open(dosya_adi, mode='r', encoding='utf-8') as dosya:\n",
    "        okuyucu = csv.reader(dosya)\n",
    "        for satir in okuyucu:\n",
    "            if satir:\n",
    "                ilk_sutun.append(satir[0])\n",
    "    return ilk_sutun\n",
    "\n",
    "\n",
    "dosya_adi = 'films_data_cleaned11.csv'\n",
    "ilk_sutun_listesi = ilk_sutun_listele(dosya_adi)\n",
    "print(ilk_sutun_listesi)"
   ]
  },
  {
   "cell_type": "markdown",
   "id": "ac8a101e-3123-4e98-929c-020fa3e9dc9f",
   "metadata": {},
   "source": [
    "### 4."
   ]
  },
  {
   "cell_type": "code",
   "execution_count": 60,
   "id": "44a6d879-a5c3-4d41-97ef-7e80d4b7ac90",
   "metadata": {},
   "outputs": [
    {
     "name": "stdout",
     "output_type": "stream",
     "text": [
      "[32, 12, 54, 52, 14]\n"
     ]
    }
   ],
   "source": [
    "# Liste Dilimleme: Rastgele sayılardan oluşan bir listenin yalnızca\n",
    "# tek ve çift indislerdeki değerlerini ayırarak iki ayrı liste oluşturun.\n",
    "\n",
    "list_1 = [15, 21, 32, 12, 23, 54, 43, 52, 25, 14]\n",
    "list_single = []\n",
    "list_double = []\n",
    "for i in list_1:\n",
    "    if i % 2 == 0:\n",
    "        list_double.append(i)\n",
    "    else:\n",
    "        list_single.append(i)\n",
    "print(list_double)"
   ]
  },
  {
   "cell_type": "code",
   "execution_count": 62,
   "id": "ea83a0f1-d65c-465c-bd4a-ecd256732983",
   "metadata": {},
   "outputs": [
    {
     "name": "stdout",
     "output_type": "stream",
     "text": [
      "[15, 21, 23, 43, 25]\n"
     ]
    }
   ],
   "source": [
    "print(list_single)"
   ]
  },
  {
   "cell_type": "code",
   "execution_count": 67,
   "id": "b0fbad6d-9de3-4f05-bc04-2843d43f55ad",
   "metadata": {},
   "outputs": [
    {
     "name": "stdout",
     "output_type": "stream",
     "text": [
      "[15, 32, 23, 43, 25]\n"
     ]
    }
   ],
   "source": [
    "list_1 = [15, 21, 32, 12, 23, 54, 43, 52, 25, 14]\n",
    "list_single = []\n",
    "list_double = []\n",
    "for i in range(len(list_1)):\n",
    "    if i % 2 == 0:\n",
    "        list_double.append(list_1[i])\n",
    "    else:\n",
    "        list_single.append(list_1[i])\n",
    "print(list_double)"
   ]
  },
  {
   "cell_type": "code",
   "execution_count": 68,
   "id": "27ad294a-751d-46a1-8649-6ea38877f7b8",
   "metadata": {},
   "outputs": [
    {
     "name": "stdout",
     "output_type": "stream",
     "text": [
      "[21, 12, 54, 52, 14]\n"
     ]
    }
   ],
   "source": [
    "print(list_single)"
   ]
  },
  {
   "cell_type": "markdown",
   "id": "2bd5c37c-ae34-42c1-9a15-3bd058f40e33",
   "metadata": {},
   "source": [
    "### 5."
   ]
  },
  {
   "cell_type": "code",
   "execution_count": 78,
   "id": "909d71c0-cbd2-4f78-b6e2-7071e6e32369",
   "metadata": {},
   "outputs": [
    {
     "data": {
      "text/plain": [
       "[1, 2, 3, 4, 5, 6, 7, 8, 9, 10, 11, 12, 13]"
      ]
     },
     "execution_count": 78,
     "metadata": {},
     "output_type": "execute_result"
    }
   ],
   "source": [
    "# Fonksiyon ile Liste İşlemleri: İç içe listelerden oluşan bir veri yapısını düzleştiren (flatten) bir fonksiyon yazın.\n",
    "\n",
    "def flatt_list(x):\n",
    "    list2 = []\n",
    "    for i in x:\n",
    "        if isinstance(i, list):\n",
    "            list2.extend(flatt_list(i))\n",
    "        else:\n",
    "            list2.append(i)\n",
    "    return list2\n",
    "\n",
    "list1 = [1,2,3, [4,5,6], 7, [8, 9], 10, 11, 12, [13]]\n",
    "flatt_list(list1)"
   ]
  },
  {
   "cell_type": "markdown",
   "id": "d904d430-be39-4534-b68c-617d709aa329",
   "metadata": {},
   "source": [
    "## Zor"
   ]
  },
  {
   "cell_type": "markdown",
   "id": "5dde473b-a8e4-4ab6-9ccb-9e09995eaf2d",
   "metadata": {},
   "source": [
    "### 1."
   ]
  },
  {
   "cell_type": "code",
   "execution_count": 95,
   "id": "4517876c-e47d-47a2-9602-229ac8c84a0b",
   "metadata": {},
   "outputs": [
    {
     "data": {
      "text/plain": [
       "120"
      ]
     },
     "execution_count": 95,
     "metadata": {},
     "output_type": "execute_result"
    }
   ],
   "source": [
    "# Fonksiyonel Programlama: map, filter ve reduce fonksiyonlarını kullanarak\n",
    "# bir listedeki çift sayıların karesini hesaplayın ve toplamını bulun.\n",
    "from functools import reduce\n",
    "def square(x):\n",
    "    return x ** 2\n",
    "\n",
    "def double_(x):\n",
    "    return x % 2 == 0\n",
    "\n",
    "def sum_(x, y):\n",
    "    return x + y\n",
    "        \n",
    "list_1 = [1,2,3,4,5,6,7,8,9]\n",
    "\n",
    "list_filt = list(filter(double_, list_1))\n",
    "list_sq = list(map(square, list_filt))\n",
    "list_sm = reduce(sum_, list_sq)\n",
    "list_sm"
   ]
  },
  {
   "cell_type": "markdown",
   "id": "7511bbf5-7db0-4686-8689-3cabcf723a47",
   "metadata": {},
   "source": [
    "### 2."
   ]
  },
  {
   "cell_type": "code",
   "execution_count": 4,
   "id": "f577c487-4cc7-4d09-8cb4-6c3cb2c5c634",
   "metadata": {},
   "outputs": [
    {
     "name": "stdout",
     "output_type": "stream",
     "text": [
      "Erişim reddedildi: admin rolüne sahip değilsiniz.\n"
     ]
    }
   ],
   "source": [
    "# Decorator ile Yetkilendirme: Bir dekoratör yazın ve bu dekoratör belirli bir rolü\n",
    "# (örneğin, admin) olmayan bir kullanıcıyı fonksiyonu çalıştırmaktan men etsin.\n",
    "\n",
    "from functools import wraps\n",
    "\n",
    "def role_required(role):\n",
    "    def decorator(func):\n",
    "        @wraps(func)\n",
    "        def wrapper(user_role, *args, **kwargs):\n",
    "            if user_role != role:\n",
    "                print(f\"Erişim reddedildi: {role} rolüne sahip değilsiniz.\")\n",
    "                return None\n",
    "            return func(*args, **kwargs)\n",
    "        return wrapper\n",
    "    return decorator\n",
    "\n",
    "@role_required(\"admin\")\n",
    "def sensitive_function():\n",
    "    print(\"Bu fonksiyon yalnızca admin rolüne sahip kullanıcılar tarafından çalıştırılabilir.\")\n",
    "\n",
    "user_role = \"user\"  \n",
    "sensitive_function(user_role)\n",
    "\n",
    "# user_role = \"admin\"\n",
    "# sensitive_function(user_role)"
   ]
  },
  {
   "cell_type": "markdown",
   "id": "4e7a1d6f-4e54-49c8-ad7b-a6734d52707d",
   "metadata": {},
   "source": [
    "### 3."
   ]
  },
  {
   "cell_type": "code",
   "execution_count": 30,
   "id": "8f2ddf27-7f41-4b80-ac82-18546f096ab9",
   "metadata": {
    "scrolled": true
   },
   "outputs": [
    {
     "name": "stdin",
     "output_type": "stream",
     "text": [
      "enter: (stone: 'st', paper: 'pap', scissor: 'sc' or quit: 'q') st\n"
     ]
    },
    {
     "name": "stdout",
     "output_type": "stream",
     "text": [
      "--------------------\n",
      "Computer chose paper. You lose this round.\n",
      "--------------------\n"
     ]
    },
    {
     "name": "stdin",
     "output_type": "stream",
     "text": [
      "enter: (stone: 'st', paper: 'pap', scissor: 'sc' or quit: 'q') st\n"
     ]
    },
    {
     "name": "stdout",
     "output_type": "stream",
     "text": [
      "--------------------\n",
      "Draw\n",
      "--------------------\n"
     ]
    },
    {
     "name": "stdin",
     "output_type": "stream",
     "text": [
      "enter: (stone: 'st', paper: 'pap', scissor: 'sc' or quit: 'q') st\n"
     ]
    },
    {
     "name": "stdout",
     "output_type": "stream",
     "text": [
      "--------------------\n",
      "Draw\n",
      "--------------------\n"
     ]
    },
    {
     "name": "stdin",
     "output_type": "stream",
     "text": [
      "enter: (stone: 'st', paper: 'pap', scissor: 'sc' or quit: 'q') sc\n"
     ]
    },
    {
     "name": "stdout",
     "output_type": "stream",
     "text": [
      "--------------------\n",
      "Draw\n",
      "--------------------\n",
      "User score: 0, Computer score: 1\n",
      "--------------------\n"
     ]
    },
    {
     "name": "stdin",
     "output_type": "stream",
     "text": [
      "enter: (stone: 'st', paper: 'pap', scissor: 'sc' or quit: 'q') st\n"
     ]
    },
    {
     "name": "stdout",
     "output_type": "stream",
     "text": [
      "--------------------\n",
      "Computer chose scissor. You win this round.\n",
      "--------------------\n"
     ]
    },
    {
     "name": "stdin",
     "output_type": "stream",
     "text": [
      "enter: (stone: 'st', paper: 'pap', scissor: 'sc' or quit: 'q') sc\n"
     ]
    },
    {
     "name": "stdout",
     "output_type": "stream",
     "text": [
      "--------------------\n",
      "Draw\n",
      "--------------------\n",
      "User score: 1, Computer score: 1\n",
      "--------------------\n"
     ]
    },
    {
     "name": "stdin",
     "output_type": "stream",
     "text": [
      "enter: (stone: 'st', paper: 'pap', scissor: 'sc' or quit: 'q') st\n"
     ]
    },
    {
     "name": "stdout",
     "output_type": "stream",
     "text": [
      "--------------------\n",
      "Draw\n",
      "--------------------\n"
     ]
    },
    {
     "name": "stdin",
     "output_type": "stream",
     "text": [
      "enter: (stone: 'st', paper: 'pap', scissor: 'sc' or quit: 'q') st\n"
     ]
    },
    {
     "name": "stdout",
     "output_type": "stream",
     "text": [
      "--------------------\n",
      "Computer chose scissor. You win this round.\n",
      "--------------------\n"
     ]
    },
    {
     "name": "stdin",
     "output_type": "stream",
     "text": [
      "enter: (stone: 'st', paper: 'pap', scissor: 'sc' or quit: 'q') st\n"
     ]
    },
    {
     "name": "stdout",
     "output_type": "stream",
     "text": [
      "--------------------\n",
      "Draw\n",
      "--------------------\n"
     ]
    },
    {
     "name": "stdin",
     "output_type": "stream",
     "text": [
      "enter: (stone: 'st', paper: 'pap', scissor: 'sc' or quit: 'q') sc\n"
     ]
    },
    {
     "name": "stdout",
     "output_type": "stream",
     "text": [
      "--------------------\n",
      "Computer chose paper. You win this round.\n",
      "--------------------\n"
     ]
    },
    {
     "name": "stdin",
     "output_type": "stream",
     "text": [
      "enter: (stone: 'st', paper: 'pap', scissor: 'sc' or quit: 'q') pap\n"
     ]
    },
    {
     "name": "stdout",
     "output_type": "stream",
     "text": [
      "--------------------\n",
      "Congr user, you win!\n"
     ]
    }
   ],
   "source": [
    "# Oyun Simülasyonu: Bir \"taş-kağıt-makas\" oyunu yapın. Kullanıcıya seçim yaptırarak bilgisayarın da rastgele\n",
    "# bir seçim yapmasını sağlayın ve kazananı belirleyin.\n",
    "\n",
    "import random\n",
    "\n",
    "user_score = 0\n",
    "pc_score = 0\n",
    "while True:\n",
    "    user_que = str(input(\"enter: (stone: 'st', paper: 'pap', scissor: 'sc' or quit: 'q')\"))\n",
    "    print(\"-\" * 20)\n",
    "    pc_que = random.randint(1,3)\n",
    "    \n",
    "    if user_score == 3:\n",
    "        print(\"Congr user, you win!\")\n",
    "        break\n",
    "    elif pc_score == 3:\n",
    "        print(\"congr pc, you win!\")\n",
    "        break\n",
    "    \n",
    "    if user_que == \"q\":\n",
    "        break\n",
    "    # stone section:\n",
    "    elif user_que == \"st\" and pc_que == 1:\n",
    "        print(\"Draw\")\n",
    "        print(\"-\" * 20)\n",
    "        continue\n",
    "    elif user_que == \"st\" and pc_que == 2:\n",
    "        pc_score += 1\n",
    "        print(\"Computer chose paper. You lose this round.\")\n",
    "        print(\"-\" * 20)\n",
    "        continue\n",
    "    elif user_que == \"st\" and pc_que == 3:\n",
    "        user_score += 1\n",
    "        print(\"Computer chose scissor. You win this round.\")\n",
    "        print(\"-\" * 20)\n",
    "        continue\n",
    "    # paper section:\n",
    "    elif user_que == \"pap\" and pc_que == 1:\n",
    "        user_score += 1\n",
    "        print(\"Computer chose stone. You win this round.\")\n",
    "        print(\"-\" * 20)\n",
    "        continue\n",
    "    elif user_que == \"pap\" and pc_que == 2:\n",
    "        print(\"Draw\")\n",
    "        print(\"-\" * 20)\n",
    "        continue\n",
    "    elif user_que == \"pap\" and pc_que == 3:\n",
    "        pc_score += 1\n",
    "        print(\"Computer chose scissor. You lose this round.\")\n",
    "        print(\"-\" * 20)\n",
    "        continue\n",
    "    # scissor section:\n",
    "    elif user_que == \"sc\" and pc_que == 1:\n",
    "        pc_score += 1\n",
    "        print(\"Computer chose stone. You lose this round.\")\n",
    "        print(\"-\" * 20)\n",
    "        continue\n",
    "    elif user_que == \"sc\" and pc_que == 2:\n",
    "        user_score += 1\n",
    "        print(\"Computer chose paper. You win this round.\")\n",
    "        print(\"-\" * 20)\n",
    "        continue\n",
    "    elif user_que == \"sc\" and pc_que == 3:\n",
    "        print(\"Draw\")\n",
    "        print(\"-\" * 20)\n",
    "    else:\n",
    "        print(\"Invalid input. Please try again.\")\n",
    "    \n",
    "    print(f\"User score: {user_score}, Computer score: {pc_score}\")\n",
    "    print(\"-\" * 20)\n",
    "\n",
    "    if user_score == 3:\n",
    "        print(\"Congr user, you win!\")\n",
    "        break\n",
    "    elif pc_score == 3:\n",
    "        print(\"congr pc, you win!\")\n",
    "        break"
   ]
  },
  {
   "cell_type": "markdown",
   "id": "3264af4d-2b49-4b66-84be-19d347b2a7a4",
   "metadata": {},
   "source": [
    "### 4."
   ]
  },
  {
   "cell_type": "code",
   "execution_count": 52,
   "id": "cb7acbe5-243b-46ce-a5c4-a6a2007c689c",
   "metadata": {},
   "outputs": [],
   "source": [
    "# SQL ile Python Entegrasyonu: sqlite3 modülünü kullanarak bir veritabanı oluşturun,\n",
    "# tabloya veri ekleyin ve belirli bir filtreye göre veri çekin.\n",
    "\n",
    "import sqlite3\n",
    "\n",
    "con = sqlite3.connect(\"movie_database.db\")"
   ]
  },
  {
   "cell_type": "code",
   "execution_count": 53,
   "id": "a29707a1-7141-4ccf-ac9c-ada97b17c88d",
   "metadata": {},
   "outputs": [
    {
     "data": {
      "text/plain": [
       "<sqlite3.Cursor at 0x1eff7f69b40>"
      ]
     },
     "execution_count": 53,
     "metadata": {},
     "output_type": "execute_result"
    }
   ],
   "source": [
    "cur = con.cursor()\n",
    "\n",
    "cur.execute(\"CREATE TABLE movie(title, director, genre, year, score)\")"
   ]
  },
  {
   "cell_type": "code",
   "execution_count": 56,
   "id": "cf37ec85-028d-4e98-b0b9-2d357565ebfc",
   "metadata": {},
   "outputs": [],
   "source": [
    "data = [\n",
    "('The Green Tea', 'Kaitlyn Murray', 'romance', 1975, 6.1),\n",
    "('The Purple Heart', 'Ethan Ramirez', 'animation', 1988, 7.9),\n",
    "('The Red Bull', 'Ethan Ramirez', 'animation', 2022, 6.4),\n",
    "('The Black Widow', 'Rachel Rodriguez', 'action', 1975, 7.8),\n",
    "('The Black Box', 'Jared Price', 'drama', 1997, 6),\n",
    "('The Purple Rose of Cairo', 'Alex Brown', 'drama', 2023, 7.2),\n",
    "('The Forgotten City', 'Veronica Walsh', 'thriller', 2013, 5.8),\n",
    "('The Purple Heart', 'Ethan Ramirez', 'thriller', 2004, 5.5),\n",
    "('The White Noise', 'Kelsey Sullivan', 'romance', 2010, 5.5),\n",
    "('The Enigma Code', 'Kevin Martinez', 'romance', 2011, 8.8),\n",
    "('The Yellow Rose', 'Erin Elliott', 'drama', 2023, 7.9),\n",
    "('The Pink Lemonade', 'Randy Gonzalez', 'sci-fi', 2019, 6.4),\n",
    "('The Golden Compass', 'Trevor Gordon', 'animation', 1973, 8.3),\n",
    "('The Brown Sugar', 'Samantha Wilson', 'sci-fi', 1978, 7.2),\n",
    "('The Blue Velvet', 'Sara Walsh', 'drama', 1998, 8.6),\n",
    "('The Orange Blossom', 'Brandon Miller', 'sci-fi', 1977, 6.2),\n",
    "('The Silver Lining', 'Stephanie Clark', 'horror', 2003, 6.4),\n",
    "('The Green Lantern', 'Michael Lee', 'romance', 1992, 7.2),\n",
    "('The Green Hornet', 'Brian Garcia', 'action', 2020, 8.4),\n",
    "('The Black Pearl', 'Lindsey Chavez', 'fantasy', 1985, 6.5),\n",
    "('The Silver Bullet', 'Joel Peterson', 'drama', 1982, 8.5),\n",
    "('The Blue Note', 'Jessica Brown', 'action', 1982, 7.2),\n",
    "('The Pink Panther', 'Emily Davis', 'romance', 1982, 8.7),\n",
    "('The Black Pearl', 'Olivia Parker', 'thriller', 2016, 6),\n",
    "('The Black Pearl', 'Courtney Reed', 'fantasy', 1991, 7.6),\n",
    "('The Green Lantern', 'Randy Gonzalez', 'romance', 1995, 6.3),\n",
    "('The Pink Floyd', 'Amanda Thompson', 'animation', 1977, 8.7),\n",
    "('The Brown Sugar', 'Bryan Foster', 'sci-fi', 1980, 6),\n",
    "('The Brown Bag', 'Gregory Nguyen', 'animation', 2017, 6.3),\n",
    "('The Pink Floyd', 'Rebecca Young', 'action', 2021, 7.4),\n",
    "('The Brown Derby', 'Angela Sullivan', 'documentary', 1973, 7.6),\n",
    "('The Blueberry Hill', 'Dana Weaver', 'animation', 1979, 5.5),\n",
    "('Midnight Masquerade', 'Katherine Cox', 'documentary', 1998, 7),\n",
    "('Midnight Masquerade', 'Nathan Morris', 'drama', 1995, 8.6),\n",
    "('The White Ribbon', 'Andrew Scott', 'drama', 2016, 6.6),\n",
    "('The Pink Lemonade', 'Patrick Lee', 'horror', 1992, 8.7),\n",
    "('The Red Dragon', 'Dana Weaver', 'thriller', 1968, 6.3),\n",
    "('The Pink Panther', 'Ian Herrera', 'sci-fi', 2005, 6.4),\n",
    "('The White Noise', 'Rebecca Young', 'thriller', 2019, 8.5),\n",
    "('The Orange Blossom', 'Katherine Cox', 'horror', 2010, 8.5),\n",
    "('The Last Laugh', 'Tiffany Murphy', 'fantasy', 2023, 5.9),\n",
    "('Whispers of the Heart', 'Kyle Ward', 'thriller', 1968, 8.2),\n",
    "('The Orange Crush', 'Allison Kim', 'romance', 1988, 6.3),\n",
    "('The Black Swan', 'Oscar Gonzalez', 'thriller', 1978, 8.7),\n",
    "('The Red Dragon', 'Vanessa Sullivan', 'action', 1972, 8.1),\n",
    "('The Lost World', 'Kristen Weaver', 'documentary', 2019, 7.6),\n",
    "('The Red Dragon', 'Heather Kim', 'fantasy', 2007, 8.6),\n",
    "('The Enigma Code', 'Katherine Cox', 'action', 2000, 6.3),\n",
    "('The Brown Bag', 'Gabriel Ortiz', 'action', 2017, 7.4),\n",
    "('The Brown Bag', 'Kelsey Sullivan', 'romance', 1980, 7.3),\n",
    "('The Dark Knight', 'Vanessa Sullivan', 'fantasy', 1970, 6.9),\n",
    "('The Silver Spoon', 'Cody Powell', 'comedy', 1996, 6.3),\n",
    "('The Purple Heart', 'Shane Thompson', 'documentary', 1999, 7.7),\n",
    "('The Green Lantern', 'Amanda Thompson', 'comedy', 1971, 7.8),\n",
    "('The Purple Rain', 'Melissa Martinez', 'comedy', 1990, 8.6),\n",
    "('The Green Lantern', 'Kimberly King', 'horror', 2016, 8.4),\n",
    "('The Crimson Tide', 'Adrian Murray', 'fantasy', 1969, 7.5),\n",
    "('The Hidden Fortress', 'Kelsey Sullivan', 'romance', 2002, 6),\n",
    "('The Yellow Canary', 'Benjamin Brooks', 'sci-fi', 1973, 8.6),\n",
    "('The Brown Sugar', 'Angela Sullivan', 'comedy', 1994, 5.7),\n",
    "('The Green Hornet', 'Gabriel Ortiz', 'sci-fi', 1966, 7.1),\n",
    "('The Purple Heart', 'Wesley Nguyen', 'documentary', 1997, 7.8),\n",
    "('The Silver Screen', 'Michael Lee', 'documentary', 2019, 8.1),\n",
    "('The Silver Bullet', 'Vanessa Sullivan', 'animation', 1979, 8.3),\n",
    "('The Red Carpet', 'Tiffany Murphy', 'drama', 2005, 6.9),\n",
    "('The Purple Heart', 'Lindsay Coleman', 'comedy', 1973, 8.7),\n",
    "('The Blueberry Hill', 'Caitlin Elliott', 'horror', 2001, 7.9),\n",
    "('The White Ribbon', 'Stephanie Clark', 'drama', 1971, 6.2),\n",
    "('Midnight Masquerade', 'Melissa Martinez', 'sci-fi', 2003, 6.2),\n",
    "('The Great Escape', 'Tiffany Murphy', 'drama', 1999, 8.1),\n",
    "('The Silver Bullet', 'Daniel Taylor', 'drama', 1968, 8.1),\n",
    "('Shadow of the Moon', 'Dylan Hughes', 'thriller', 1999, 5.8),\n",
    "('The Purple Rain', 'Dylan Hughes', 'fantasy', 2009, 6.4),\n",
    "('Whispers of the Heart', 'Catherine Harrison', 'animation', 2008, 8.4),\n",
    "('The Yellow Submarine', 'Erin Elliott', 'horror', 1966, 7.2),\n",
    "('The Orange Blossom', 'Steven Anderson', 'romance', 1967, 8.4),\n",
    "('The White Collar', 'Katherine Cox', 'horror', 2018, 8.5),\n",
    "('The Pink Flamingo', 'Adrian Murray', 'drama', 1974, 5.5),\n",
    "('The Brown Sugar', 'David Wilson', 'fantasy', 2019, 7),\n",
    "('The Forgotten City', 'Eric Johnson', 'action', 1977, 5.6),\n",
    "('The Forgotten City', 'Cameron Reynolds', 'drama', 1990, 6.6),\n",
    "('The Green Mile', 'Lindsay Coleman', 'fantasy', 2007, 6.1),\n",
    "('The Black Coffee', 'Nicole Lewis', 'romance', 2010, 5.5),\n",
    "('The Yellow Canary', 'Ian Herrera', 'fantasy', 1997, 8.2),\n",
    "('The Green Lantern', 'Hannah Wright', 'animation', 1975, 8.4),\n",
    "('The Brown Bunny', 'Mario Gordon', 'documentary', 1977, 6),\n",
    "('The Yellow Rose', 'Daniel Taylor', 'romance', 1991, 7.1),\n",
    "('The Red Carpet', 'Amanda Thompson', 'sci-fi', 2006, 8.4),\n",
    "('The White Chocolate', 'Rachel Rodriguez', 'thriller', 1993, 6.3),\n",
    "('The Blue Note', 'Cody Powell', 'horror', 2004, 5.9),\n",
    "('The Brown Sugar', 'Cassandra Reed', 'horror', 1986, 6),\n",
    "('The Brown Derby', 'Derek Jenkins', 'comedy', 2009, 7.3),\n",
    "('The White Collar', 'Rebecca Young', 'sci-fi', 2013, 6.3),\n",
    "('The Secret Agent', 'Rachel Rodriguez', 'animation', 1969, 8.3),\n",
    "('The Midnight Sun', 'Philip Barnes', 'thriller', 2008, 6.1),\n",
    "('The White Noise', 'Jessica Brown', 'sci-fi', 1971, 7.8),\n",
    "('The Brown Bag', 'Olivia Parker', 'documentary', 1985, 7.6),\n",
    "('The Midnight Sun', 'Jeremiah Ortiz', 'action', 2014, 7),\n",
    "('The Black Swan', 'Frank Murray', 'documentary', 2022, 6.9),\n",
    "('The Orange Crush', 'Caitlin Elliott', 'thriller', 2001, 6.3)\n",
    "]\n",
    "\n",
    "cur.executemany(\"INSERT INTO movie VALUES(?, ?, ?, ?, ?)\", data)\n",
    "con.commit()"
   ]
  },
  {
   "cell_type": "code",
   "execution_count": 35,
   "id": "ec738118-834e-47c0-928c-34e45177e693",
   "metadata": {},
   "outputs": [
    {
     "data": {
      "text/plain": [
       "('movie',)"
      ]
     },
     "execution_count": 35,
     "metadata": {},
     "output_type": "execute_result"
    }
   ],
   "source": [
    "res = cur.execute(\"SELECT name FROM sqlite_master\")\n",
    "res.fetchone()"
   ]
  },
  {
   "cell_type": "code",
   "execution_count": 57,
   "id": "434c214d-d65e-48dc-ae91-73e79d54d7c3",
   "metadata": {
    "scrolled": true
   },
   "outputs": [
    {
     "data": {
      "text/plain": [
       "[('The Green Tea', 'Kaitlyn Murray', 'romance', 1975, 6.1),\n",
       " ('The Purple Heart', 'Ethan Ramirez', 'animation', 1988, 7.9),\n",
       " ('The Red Bull', 'Ethan Ramirez', 'animation', 2022, 6.4),\n",
       " ('The Black Widow', 'Rachel Rodriguez', 'action', 1975, 7.8),\n",
       " ('The Black Box', 'Jared Price', 'drama', 1997, 6),\n",
       " ('The Purple Rose of Cairo', 'Alex Brown', 'drama', 2023, 7.2),\n",
       " ('The Forgotten City', 'Veronica Walsh', 'thriller', 2013, 5.8),\n",
       " ('The Purple Heart', 'Ethan Ramirez', 'thriller', 2004, 5.5),\n",
       " ('The White Noise', 'Kelsey Sullivan', 'romance', 2010, 5.5),\n",
       " ('The Enigma Code', 'Kevin Martinez', 'romance', 2011, 8.8),\n",
       " ('The Yellow Rose', 'Erin Elliott', 'drama', 2023, 7.9),\n",
       " ('The Pink Lemonade', 'Randy Gonzalez', 'sci-fi', 2019, 6.4),\n",
       " ('The Golden Compass', 'Trevor Gordon', 'animation', 1973, 8.3),\n",
       " ('The Brown Sugar', 'Samantha Wilson', 'sci-fi', 1978, 7.2),\n",
       " ('The Blue Velvet', 'Sara Walsh', 'drama', 1998, 8.6),\n",
       " ('The Orange Blossom', 'Brandon Miller', 'sci-fi', 1977, 6.2),\n",
       " ('The Silver Lining', 'Stephanie Clark', 'horror', 2003, 6.4),\n",
       " ('The Green Lantern', 'Michael Lee', 'romance', 1992, 7.2),\n",
       " ('The Green Hornet', 'Brian Garcia', 'action', 2020, 8.4),\n",
       " ('The Black Pearl', 'Lindsey Chavez', 'fantasy', 1985, 6.5),\n",
       " ('The Silver Bullet', 'Joel Peterson', 'drama', 1982, 8.5),\n",
       " ('The Blue Note', 'Jessica Brown', 'action', 1982, 7.2),\n",
       " ('The Pink Panther', 'Emily Davis', 'romance', 1982, 8.7),\n",
       " ('The Black Pearl', 'Olivia Parker', 'thriller', 2016, 6),\n",
       " ('The Black Pearl', 'Courtney Reed', 'fantasy', 1991, 7.6),\n",
       " ('The Green Lantern', 'Randy Gonzalez', 'romance', 1995, 6.3),\n",
       " ('The Pink Floyd', 'Amanda Thompson', 'animation', 1977, 8.7),\n",
       " ('The Brown Sugar', 'Bryan Foster', 'sci-fi', 1980, 6),\n",
       " ('The Brown Bag', 'Gregory Nguyen', 'animation', 2017, 6.3),\n",
       " ('The Pink Floyd', 'Rebecca Young', 'action', 2021, 7.4),\n",
       " ('The Brown Derby', 'Angela Sullivan', 'documentary', 1973, 7.6),\n",
       " ('The Blueberry Hill', 'Dana Weaver', 'animation', 1979, 5.5),\n",
       " ('Midnight Masquerade', 'Katherine Cox', 'documentary', 1998, 7),\n",
       " ('Midnight Masquerade', 'Nathan Morris', 'drama', 1995, 8.6),\n",
       " ('The White Ribbon', 'Andrew Scott', 'drama', 2016, 6.6),\n",
       " ('The Pink Lemonade', 'Patrick Lee', 'horror', 1992, 8.7),\n",
       " ('The Red Dragon', 'Dana Weaver', 'thriller', 1968, 6.3),\n",
       " ('The Pink Panther', 'Ian Herrera', 'sci-fi', 2005, 6.4),\n",
       " ('The White Noise', 'Rebecca Young', 'thriller', 2019, 8.5),\n",
       " ('The Orange Blossom', 'Katherine Cox', 'horror', 2010, 8.5),\n",
       " ('The Last Laugh', 'Tiffany Murphy', 'fantasy', 2023, 5.9),\n",
       " ('Whispers of the Heart', 'Kyle Ward', 'thriller', 1968, 8.2),\n",
       " ('The Orange Crush', 'Allison Kim', 'romance', 1988, 6.3),\n",
       " ('The Black Swan', 'Oscar Gonzalez', 'thriller', 1978, 8.7),\n",
       " ('The Red Dragon', 'Vanessa Sullivan', 'action', 1972, 8.1),\n",
       " ('The Lost World', 'Kristen Weaver', 'documentary', 2019, 7.6),\n",
       " ('The Red Dragon', 'Heather Kim', 'fantasy', 2007, 8.6),\n",
       " ('The Enigma Code', 'Katherine Cox', 'action', 2000, 6.3),\n",
       " ('The Brown Bag', 'Gabriel Ortiz', 'action', 2017, 7.4),\n",
       " ('The Brown Bag', 'Kelsey Sullivan', 'romance', 1980, 7.3),\n",
       " ('The Dark Knight', 'Vanessa Sullivan', 'fantasy', 1970, 6.9),\n",
       " ('The Silver Spoon', 'Cody Powell', 'comedy', 1996, 6.3),\n",
       " ('The Purple Heart', 'Shane Thompson', 'documentary', 1999, 7.7),\n",
       " ('The Green Lantern', 'Amanda Thompson', 'comedy', 1971, 7.8),\n",
       " ('The Purple Rain', 'Melissa Martinez', 'comedy', 1990, 8.6),\n",
       " ('The Green Lantern', 'Kimberly King', 'horror', 2016, 8.4),\n",
       " ('The Crimson Tide', 'Adrian Murray', 'fantasy', 1969, 7.5),\n",
       " ('The Hidden Fortress', 'Kelsey Sullivan', 'romance', 2002, 6),\n",
       " ('The Yellow Canary', 'Benjamin Brooks', 'sci-fi', 1973, 8.6),\n",
       " ('The Brown Sugar', 'Angela Sullivan', 'comedy', 1994, 5.7),\n",
       " ('The Green Hornet', 'Gabriel Ortiz', 'sci-fi', 1966, 7.1),\n",
       " ('The Purple Heart', 'Wesley Nguyen', 'documentary', 1997, 7.8),\n",
       " ('The Silver Screen', 'Michael Lee', 'documentary', 2019, 8.1),\n",
       " ('The Silver Bullet', 'Vanessa Sullivan', 'animation', 1979, 8.3),\n",
       " ('The Red Carpet', 'Tiffany Murphy', 'drama', 2005, 6.9),\n",
       " ('The Purple Heart', 'Lindsay Coleman', 'comedy', 1973, 8.7),\n",
       " ('The Blueberry Hill', 'Caitlin Elliott', 'horror', 2001, 7.9),\n",
       " ('The White Ribbon', 'Stephanie Clark', 'drama', 1971, 6.2),\n",
       " ('Midnight Masquerade', 'Melissa Martinez', 'sci-fi', 2003, 6.2),\n",
       " ('The Great Escape', 'Tiffany Murphy', 'drama', 1999, 8.1),\n",
       " ('The Silver Bullet', 'Daniel Taylor', 'drama', 1968, 8.1),\n",
       " ('Shadow of the Moon', 'Dylan Hughes', 'thriller', 1999, 5.8),\n",
       " ('The Purple Rain', 'Dylan Hughes', 'fantasy', 2009, 6.4),\n",
       " ('Whispers of the Heart', 'Catherine Harrison', 'animation', 2008, 8.4),\n",
       " ('The Yellow Submarine', 'Erin Elliott', 'horror', 1966, 7.2),\n",
       " ('The Orange Blossom', 'Steven Anderson', 'romance', 1967, 8.4),\n",
       " ('The White Collar', 'Katherine Cox', 'horror', 2018, 8.5),\n",
       " ('The Pink Flamingo', 'Adrian Murray', 'drama', 1974, 5.5),\n",
       " ('The Brown Sugar', 'David Wilson', 'fantasy', 2019, 7),\n",
       " ('The Forgotten City', 'Eric Johnson', 'action', 1977, 5.6),\n",
       " ('The Forgotten City', 'Cameron Reynolds', 'drama', 1990, 6.6),\n",
       " ('The Green Mile', 'Lindsay Coleman', 'fantasy', 2007, 6.1),\n",
       " ('The Black Coffee', 'Nicole Lewis', 'romance', 2010, 5.5),\n",
       " ('The Yellow Canary', 'Ian Herrera', 'fantasy', 1997, 8.2),\n",
       " ('The Green Lantern', 'Hannah Wright', 'animation', 1975, 8.4),\n",
       " ('The Brown Bunny', 'Mario Gordon', 'documentary', 1977, 6),\n",
       " ('The Yellow Rose', 'Daniel Taylor', 'romance', 1991, 7.1),\n",
       " ('The Red Carpet', 'Amanda Thompson', 'sci-fi', 2006, 8.4),\n",
       " ('The White Chocolate', 'Rachel Rodriguez', 'thriller', 1993, 6.3),\n",
       " ('The Blue Note', 'Cody Powell', 'horror', 2004, 5.9),\n",
       " ('The Brown Sugar', 'Cassandra Reed', 'horror', 1986, 6),\n",
       " ('The Brown Derby', 'Derek Jenkins', 'comedy', 2009, 7.3),\n",
       " ('The White Collar', 'Rebecca Young', 'sci-fi', 2013, 6.3),\n",
       " ('The Secret Agent', 'Rachel Rodriguez', 'animation', 1969, 8.3),\n",
       " ('The Midnight Sun', 'Philip Barnes', 'thriller', 2008, 6.1),\n",
       " ('The White Noise', 'Jessica Brown', 'sci-fi', 1971, 7.8),\n",
       " ('The Brown Bag', 'Olivia Parker', 'documentary', 1985, 7.6),\n",
       " ('The Midnight Sun', 'Jeremiah Ortiz', 'action', 2014, 7),\n",
       " ('The Black Swan', 'Frank Murray', 'documentary', 2022, 6.9),\n",
       " ('The Orange Crush', 'Caitlin Elliott', 'thriller', 2001, 6.3)]"
      ]
     },
     "execution_count": 57,
     "metadata": {},
     "output_type": "execute_result"
    }
   ],
   "source": [
    "cur.execute(\"SELECT * FROM movie\").fetchall()"
   ]
  },
  {
   "cell_type": "code",
   "execution_count": 68,
   "id": "5bf708ae-a7b7-424e-acf4-b756a5025be0",
   "metadata": {},
   "outputs": [
    {
     "data": {
      "text/plain": [
       "[('The Green Tea', 'Kaitlyn Murray', 'romance', 1975, 6.1),\n",
       " ('The White Noise', 'Kelsey Sullivan', 'romance', 2010, 5.5),\n",
       " ('The Enigma Code', 'Kevin Martinez', 'romance', 2011, 8.8),\n",
       " ('The Green Lantern', 'Michael Lee', 'romance', 1992, 7.2),\n",
       " ('The Pink Panther', 'Emily Davis', 'romance', 1982, 8.7),\n",
       " ('The Green Lantern', 'Randy Gonzalez', 'romance', 1995, 6.3),\n",
       " ('The Orange Crush', 'Allison Kim', 'romance', 1988, 6.3),\n",
       " ('The Brown Bag', 'Kelsey Sullivan', 'romance', 1980, 7.3),\n",
       " ('The Hidden Fortress', 'Kelsey Sullivan', 'romance', 2002, 6),\n",
       " ('The Orange Blossom', 'Steven Anderson', 'romance', 1967, 8.4),\n",
       " ('The Black Coffee', 'Nicole Lewis', 'romance', 2010, 5.5),\n",
       " ('The Yellow Rose', 'Daniel Taylor', 'romance', 1991, 7.1)]"
      ]
     },
     "execution_count": 68,
     "metadata": {},
     "output_type": "execute_result"
    }
   ],
   "source": [
    "res = cur.execute(\"SELECT * FROM movie Where genre LIKE 'rom%'\")\n",
    "res.fetchall()"
   ]
  },
  {
   "cell_type": "code",
   "execution_count": 60,
   "id": "dcb26afd-22d2-4a61-ad4c-48125a601833",
   "metadata": {
    "scrolled": true
   },
   "outputs": [
    {
     "name": "stdout",
     "output_type": "stream",
     "text": [
      "(1966, 'The Green Hornet')\n",
      "(1966, 'The Yellow Submarine')\n",
      "(1967, 'The Orange Blossom')\n",
      "(1968, 'The Red Dragon')\n",
      "(1968, 'Whispers of the Heart')\n",
      "(1968, 'The Silver Bullet')\n",
      "(1969, 'The Crimson Tide')\n",
      "(1969, 'The Secret Agent')\n",
      "(1970, 'The Dark Knight')\n",
      "(1971, 'The Green Lantern')\n",
      "(1971, 'The White Ribbon')\n",
      "(1971, 'The White Noise')\n",
      "(1972, 'The Red Dragon')\n",
      "(1973, 'The Golden Compass')\n",
      "(1973, 'The Brown Derby')\n",
      "(1973, 'The Yellow Canary')\n",
      "(1973, 'The Purple Heart')\n",
      "(1974, 'The Pink Flamingo')\n",
      "(1975, 'The Green Tea')\n",
      "(1975, 'The Black Widow')\n",
      "(1975, 'The Green Lantern')\n",
      "(1977, 'The Orange Blossom')\n",
      "(1977, 'The Pink Floyd')\n",
      "(1977, 'The Forgotten City')\n",
      "(1977, 'The Brown Bunny')\n",
      "(1978, 'The Brown Sugar')\n",
      "(1978, 'The Black Swan')\n",
      "(1979, 'The Blueberry Hill')\n",
      "(1979, 'The Silver Bullet')\n",
      "(1980, 'The Brown Sugar')\n",
      "(1980, 'The Brown Bag')\n",
      "(1982, 'The Silver Bullet')\n",
      "(1982, 'The Blue Note')\n",
      "(1982, 'The Pink Panther')\n",
      "(1985, 'The Black Pearl')\n",
      "(1985, 'The Brown Bag')\n",
      "(1986, 'The Brown Sugar')\n",
      "(1988, 'The Purple Heart')\n",
      "(1988, 'The Orange Crush')\n",
      "(1990, 'The Purple Rain')\n",
      "(1990, 'The Forgotten City')\n",
      "(1991, 'The Black Pearl')\n",
      "(1991, 'The Yellow Rose')\n",
      "(1992, 'The Green Lantern')\n",
      "(1992, 'The Pink Lemonade')\n",
      "(1993, 'The White Chocolate')\n",
      "(1994, 'The Brown Sugar')\n",
      "(1995, 'The Green Lantern')\n",
      "(1995, 'Midnight Masquerade')\n",
      "(1996, 'The Silver Spoon')\n",
      "(1997, 'The Black Box')\n",
      "(1997, 'The Purple Heart')\n",
      "(1997, 'The Yellow Canary')\n",
      "(1998, 'The Blue Velvet')\n",
      "(1998, 'Midnight Masquerade')\n",
      "(1999, 'The Purple Heart')\n",
      "(1999, 'The Great Escape')\n",
      "(1999, 'Shadow of the Moon')\n",
      "(2000, 'The Enigma Code')\n",
      "(2001, 'The Blueberry Hill')\n",
      "(2001, 'The Orange Crush')\n",
      "(2002, 'The Hidden Fortress')\n",
      "(2003, 'The Silver Lining')\n",
      "(2003, 'Midnight Masquerade')\n",
      "(2004, 'The Purple Heart')\n",
      "(2004, 'The Blue Note')\n",
      "(2005, 'The Pink Panther')\n",
      "(2005, 'The Red Carpet')\n",
      "(2006, 'The Red Carpet')\n",
      "(2007, 'The Red Dragon')\n",
      "(2007, 'The Green Mile')\n",
      "(2008, 'Whispers of the Heart')\n",
      "(2008, 'The Midnight Sun')\n",
      "(2009, 'The Purple Rain')\n",
      "(2009, 'The Brown Derby')\n",
      "(2010, 'The White Noise')\n",
      "(2010, 'The Orange Blossom')\n",
      "(2010, 'The Black Coffee')\n",
      "(2011, 'The Enigma Code')\n",
      "(2013, 'The Forgotten City')\n",
      "(2013, 'The White Collar')\n",
      "(2014, 'The Midnight Sun')\n",
      "(2016, 'The Black Pearl')\n",
      "(2016, 'The White Ribbon')\n",
      "(2016, 'The Green Lantern')\n",
      "(2017, 'The Brown Bag')\n",
      "(2017, 'The Brown Bag')\n",
      "(2018, 'The White Collar')\n",
      "(2019, 'The Pink Lemonade')\n",
      "(2019, 'The White Noise')\n",
      "(2019, 'The Lost World')\n",
      "(2019, 'The Silver Screen')\n",
      "(2019, 'The Brown Sugar')\n",
      "(2020, 'The Green Hornet')\n",
      "(2021, 'The Pink Floyd')\n",
      "(2022, 'The Red Bull')\n",
      "(2022, 'The Black Swan')\n",
      "(2023, 'The Purple Rose of Cairo')\n",
      "(2023, 'The Yellow Rose')\n",
      "(2023, 'The Last Laugh')\n"
     ]
    }
   ],
   "source": [
    "for row in cur.execute(\"SELECT year, title FROM movie ORDER BY year\"):\n",
    "    print(row)"
   ]
  },
  {
   "cell_type": "code",
   "execution_count": 69,
   "id": "ce5ea768-6794-4560-b16c-958acdcf367b",
   "metadata": {},
   "outputs": [],
   "source": [
    "con.close()"
   ]
  },
  {
   "cell_type": "markdown",
   "id": "64fd2ae2-17ad-4b76-8248-07f92f751678",
   "metadata": {},
   "source": [
    "### 5."
   ]
  },
  {
   "cell_type": "code",
   "execution_count": 71,
   "id": "16230f46-195c-4749-9897-d47b0f997e7d",
   "metadata": {},
   "outputs": [
    {
     "name": "stdout",
     "output_type": "stream",
     "text": [
      "['12.12.2024', '12-11-2024', '2024.02.19']\n"
     ]
    }
   ],
   "source": [
    "# İleri Seviye Regex: Belirli bir metinde tüm tarihleri (örneğin gg-aa-yyyy veya gg.aa.yyyy formatında)\n",
    "# bulan ve listeleyen bir regex deseni yazın.\n",
    "import re\n",
    "text = \"\"\"\n",
    "I have watch and televison. But the watch is broken. For example, Even though today is 12.12.2024, the clock shows 12-11-2024\n",
    "but i want to the clock show 2024.02.19. But never show this date.\n",
    "\"\"\"\n",
    "\n",
    "date_pattern = r\"\\b\\d{2}[\\/.-]\\d{2}[\\/.-]\\d{4}|\\d{4}[\\/.-]\\d{2}[\\/.-]\\d{2}\\b\"\n",
    "find_dates = re.findall(date_pattern, text)\n",
    "print(find_dates)"
   ]
  },
  {
   "cell_type": "code",
   "execution_count": null,
   "id": "f8f50d95-85fe-4eb4-99de-3ab4c023cc94",
   "metadata": {},
   "outputs": [],
   "source": []
  }
 ],
 "metadata": {
  "kernelspec": {
   "display_name": "Python 3 (ipykernel)",
   "language": "python",
   "name": "python3"
  },
  "language_info": {
   "codemirror_mode": {
    "name": "ipython",
    "version": 3
   },
   "file_extension": ".py",
   "mimetype": "text/x-python",
   "name": "python",
   "nbconvert_exporter": "python",
   "pygments_lexer": "ipython3",
   "version": "3.12.1"
  }
 },
 "nbformat": 4,
 "nbformat_minor": 5
}
